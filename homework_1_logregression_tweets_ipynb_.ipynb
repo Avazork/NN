{
  "nbformat": 4,
  "nbformat_minor": 0,
  "metadata": {
    "colab": {
      "provenance": []
    },
    "kernelspec": {
      "name": "python3",
      "display_name": "Python 3"
    },
    "language_info": {
      "name": "python"
    }
  },
  "cells": [
    {
      "cell_type": "code",
      "source": [
        "!git clone https://github.com/Avazork/NN.git"
      ],
      "metadata": {
        "id": "Kn-1LDnTZ2qk",
        "outputId": "fe924029-ac46-4ca2-97ba-94fed6adad69",
        "colab": {
          "base_uri": "https://localhost:8080/"
        }
      },
      "execution_count": null,
      "outputs": [
        {
          "output_type": "stream",
          "name": "stdout",
          "text": [
            "fatal: destination path 'NN' already exists and is not an empty directory.\n"
          ]
        }
      ]
    },
    {
      "cell_type": "markdown",
      "source": [
        "Начнем с того, что заодно будем считывать и дату. Впоследствии допишем её присоединение к матрице в свой трансформер."
      ],
      "metadata": {
        "id": "SWyp28PQiJw2"
      }
    },
    {
      "cell_type": "code",
      "execution_count": null,
      "metadata": {
        "id": "UqP8BTEIAp8G",
        "colab": {
          "base_uri": "https://localhost:8080/"
        },
        "outputId": "33688fa3-38a8-4777-8bd0-c890d7142f69"
      },
      "outputs": [
        {
          "output_type": "stream",
          "name": "stdout",
          "text": [
            "Number of texts is 9392, number of labels is 9392, number of dates is 9392\n"
          ]
        }
      ],
      "source": [
        "from lxml import etree\n",
        "\n",
        "from typing import List, Tuple\n",
        "\n",
        "def load_sentirueval_2016(file_name: str) -> Tuple[List[str], List[str], List[int]]:\n",
        "    texts = []\n",
        "    labels = []\n",
        "    dates = []\n",
        "    with open(file_name, mode='rb') as fp:\n",
        "        xml_data = fp.read()\n",
        "    root = etree.fromstring(xml_data)\n",
        "    for database in root.getchildren():\n",
        "        if database.tag == 'database':\n",
        "            for table in database.getchildren():\n",
        "                if table.tag != 'table':\n",
        "                    continue\n",
        "                new_text = None\n",
        "                new_label = None\n",
        "                new_data = None\n",
        "                for column in table.getchildren():\n",
        "                    if column.get('name') == 'text':\n",
        "                        new_text = str(column.text).strip()\n",
        "                        if new_label is not None:\n",
        "                            break\n",
        "                    elif column.get('name') not in {'id', 'twitid', 'date'}:\n",
        "                        if new_label is None:\n",
        "                            label_candidate = str(column.text).strip()\n",
        "                            if label_candidate in {'0', '1', '-1'}:\n",
        "                                new_label = 'negative' if label_candidate == '-1' else \\\n",
        "                                    ('positive' if label_candidate == '1' else 'neutral')\n",
        "                                if new_text is not None:\n",
        "                                    break\n",
        "                    elif column.get('name') == 'date':\n",
        "                      new_data = int(column.text)\n",
        "                if (new_text is None) or (new_label is None):\n",
        "                    raise ValueError('File `{0}` contains some error!'.format(file_name))\n",
        "                texts.append(new_text)\n",
        "                labels.append(new_label)\n",
        "                dates.append(new_data)\n",
        "            break\n",
        "    return texts, labels, dates\n",
        "texts, labels, dates = load_sentirueval_2016('/content/NN/bank_train_2016.xml')\n",
        "print('Number of texts is {0}, number of labels is {1}, number of dates is {2}'.format(len(texts), len(labels), len(dates)))"
      ]
    },
    {
      "cell_type": "markdown",
      "source": [
        "Дальше какое-то количество кода останется без изменений."
      ],
      "metadata": {
        "id": "5JXw7DwzuRJ1"
      }
    },
    {
      "cell_type": "code",
      "source": [
        "import random"
      ],
      "metadata": {
        "id": "u6rwE13-bLvH"
      },
      "execution_count": null,
      "outputs": []
    },
    {
      "cell_type": "code",
      "source": [
        "for idx in random.choices(list(range(len(texts))), k=20):\n",
        "    print('{0} => {1}'.format(labels[idx], texts[idx])) # выводим 20 любых текстов с меткой из набора train"
      ],
      "metadata": {
        "colab": {
          "base_uri": "https://localhost:8080/"
        },
        "id": "peFG6Yk-b09N",
        "outputId": "9f328665-ed80-45f5-c6f1-9b6405924b45"
      },
      "execution_count": null,
      "outputs": [
        {
          "output_type": "stream",
          "name": "stdout",
          "text": [
            "neutral => кредитка альфа банк http://t.co/91mY1ZjpFR\n",
            "negative => RT @BillesAkash: Нужно было что-то сделать в альфа-клике, но в процессе ввода паролей заблокировал аккаунт. Потом звонил, чтобы разблокиро\n",
            "neutral => http://t.co/aWDHPHOp8Q альфа банк в южно сахалинске заказать кредитную карту http://t.co/DgcBXZzc4d\n",
            "neutral => http://t.co/oHxMXoCfZx россельхозбанк кредиты кострома\n",
            "negative => RT @sd0107: В 87 г. бабуля открыла на меня счёт на 1000 руб. В 2014 году я счастливый обладатель 3089.26 руб. Спасибо, @sberbank http://t.c…\n",
            "positive => Внедрение новых видов кредитов сбербанк http://t.co/FzEr6ugQbU\n",
            "neutral => карта моментум сбербанк инструкция 0 0 http://t.co/Gizvwa7nrL\n",
            "neutral => банк уралсиб магнитогорск кредит http://t.co/m6skrx9Jeb\n",
            "positive => RT @TracyErnst4: Сбербанк и ВТБ пообещали выполнить обязательства перед клиентами\n",
            "neutral => http://t.co/ZMCgjC8fDj Взять кредит в райффайзенбанке в омске\n",
            "neutral => Сибирский Сбербанк: потребительские кредиты – Олимпийская лотерея http://t.co/5IxraQAEUq #сбербанк #кредиты #олимпиада #лотерея #банки\n",
            "neutral => образец заполнения заявлекния на получение международной карты сбербанка россии http://t.co/QArLkHv0S6\n",
            "neutral => Способы погашения кредита райффайзенбанк http://t.co/OoVSUBl8SD\n",
            "neutral => http://t.co/NXvOygJjrp | Банк втб 24 екатеринбург кредиты онлайн заявка\n",
            "neutral => RT @ressaKassa: альфа банк накопительная карта http://t.co/4MXorIzoDv\n",
            "neutral => Райффайзен банк калуга кредиты http://t.co/O7clPaDRU8\n",
            "neutral => http://t.co/PUtj0AIhUE Как оформить кредит в сбербанке в элисте\n",
            "neutral => @ismaeror, быстрые кредиты альфа банк отзывы http://t.co/sye5GtFLvW\n",
            "neutral => ипотечный калькулятор в россельхозбанке http://t.co/f6bXxNVepG\n",
            "neutral => Ведомости: Сбербанк получил контрольный пакет в \"городе миллионеров\" на Рублевке\n"
          ]
        }
      ]
    },
    {
      "cell_type": "code",
      "source": [
        "positive_tweets = [texts[idx] for idx in range(len(texts)) if labels[idx] == 'positive']\n",
        "negative_tweets = [texts[idx] for idx in range(len(texts)) if labels[idx] == 'negative']\n",
        "neutral_tweets = [texts[idx] for idx in range(len(texts)) if labels[idx] == 'neutral']"
      ],
      "metadata": {
        "id": "oFZZmshncJi9"
      },
      "execution_count": null,
      "outputs": []
    },
    {
      "cell_type": "code",
      "source": [
        "import nltk\n",
        "nltk.download('punkt')"
      ],
      "metadata": {
        "colab": {
          "base_uri": "https://localhost:8080/"
        },
        "id": "BRcJVsb0cLsV",
        "outputId": "8861e6c3-0d15-4fe2-a23c-9a790eddfcfe"
      },
      "execution_count": null,
      "outputs": [
        {
          "output_type": "stream",
          "name": "stderr",
          "text": [
            "[nltk_data] Downloading package punkt to /root/nltk_data...\n",
            "[nltk_data]   Package punkt is already up-to-date!\n"
          ]
        },
        {
          "output_type": "execute_result",
          "data": {
            "text/plain": [
              "True"
            ]
          },
          "metadata": {},
          "execution_count": 6
        }
      ]
    },
    {
      "cell_type": "code",
      "source": [
        "from sklearn.feature_extraction.text import CountVectorizer\n",
        "from nltk import word_tokenize"
      ],
      "metadata": {
        "id": "qMG8u8-ocZL5"
      },
      "execution_count": null,
      "outputs": []
    },
    {
      "cell_type": "markdown",
      "source": [
        "Хорошо бы написать свой токенайзер с учетом лематизации."
      ],
      "metadata": {
        "id": "o3y-NkMZ2kfn"
      }
    },
    {
      "cell_type": "code",
      "source": [
        "! pip install spacy-udpipe"
      ],
      "metadata": {
        "colab": {
          "base_uri": "https://localhost:8080/"
        },
        "id": "4IucZx5l2jnE",
        "outputId": "ecf5ec51-87f3-4006-a69f-c010ec2cb6a4"
      },
      "execution_count": null,
      "outputs": [
        {
          "output_type": "stream",
          "name": "stdout",
          "text": [
            "Looking in indexes: https://pypi.org/simple, https://us-python.pkg.dev/colab-wheels/public/simple/\n",
            "Requirement already satisfied: spacy-udpipe in /usr/local/lib/python3.7/dist-packages (1.0.0)\n",
            "Requirement already satisfied: ufal.udpipe>=1.2.0 in /usr/local/lib/python3.7/dist-packages (from spacy-udpipe) (1.2.0.3)\n",
            "Requirement already satisfied: spacy<4.0.0,>=3.0.0 in /usr/local/lib/python3.7/dist-packages (from spacy-udpipe) (3.4.2)\n",
            "Requirement already satisfied: preshed<3.1.0,>=3.0.2 in /usr/local/lib/python3.7/dist-packages (from spacy<4.0.0,>=3.0.0->spacy-udpipe) (3.0.8)\n",
            "Requirement already satisfied: typing-extensions<4.2.0,>=3.7.4 in /usr/local/lib/python3.7/dist-packages (from spacy<4.0.0,>=3.0.0->spacy-udpipe) (4.1.1)\n",
            "Requirement already satisfied: langcodes<4.0.0,>=3.2.0 in /usr/local/lib/python3.7/dist-packages (from spacy<4.0.0,>=3.0.0->spacy-udpipe) (3.3.0)\n",
            "Requirement already satisfied: requests<3.0.0,>=2.13.0 in /usr/local/lib/python3.7/dist-packages (from spacy<4.0.0,>=3.0.0->spacy-udpipe) (2.23.0)\n",
            "Requirement already satisfied: catalogue<2.1.0,>=2.0.6 in /usr/local/lib/python3.7/dist-packages (from spacy<4.0.0,>=3.0.0->spacy-udpipe) (2.0.8)\n",
            "Requirement already satisfied: murmurhash<1.1.0,>=0.28.0 in /usr/local/lib/python3.7/dist-packages (from spacy<4.0.0,>=3.0.0->spacy-udpipe) (1.0.9)\n",
            "Requirement already satisfied: jinja2 in /usr/local/lib/python3.7/dist-packages (from spacy<4.0.0,>=3.0.0->spacy-udpipe) (2.11.3)\n",
            "Requirement already satisfied: typer<0.5.0,>=0.3.0 in /usr/local/lib/python3.7/dist-packages (from spacy<4.0.0,>=3.0.0->spacy-udpipe) (0.4.2)\n",
            "Requirement already satisfied: packaging>=20.0 in /usr/local/lib/python3.7/dist-packages (from spacy<4.0.0,>=3.0.0->spacy-udpipe) (21.3)\n",
            "Requirement already satisfied: setuptools in /usr/local/lib/python3.7/dist-packages (from spacy<4.0.0,>=3.0.0->spacy-udpipe) (57.4.0)\n",
            "Requirement already satisfied: numpy>=1.15.0 in /usr/local/lib/python3.7/dist-packages (from spacy<4.0.0,>=3.0.0->spacy-udpipe) (1.21.6)\n",
            "Requirement already satisfied: thinc<8.2.0,>=8.1.0 in /usr/local/lib/python3.7/dist-packages (from spacy<4.0.0,>=3.0.0->spacy-udpipe) (8.1.5)\n",
            "Requirement already satisfied: tqdm<5.0.0,>=4.38.0 in /usr/local/lib/python3.7/dist-packages (from spacy<4.0.0,>=3.0.0->spacy-udpipe) (4.64.1)\n",
            "Requirement already satisfied: spacy-legacy<3.1.0,>=3.0.10 in /usr/local/lib/python3.7/dist-packages (from spacy<4.0.0,>=3.0.0->spacy-udpipe) (3.0.10)\n",
            "Requirement already satisfied: cymem<2.1.0,>=2.0.2 in /usr/local/lib/python3.7/dist-packages (from spacy<4.0.0,>=3.0.0->spacy-udpipe) (2.0.7)\n",
            "Requirement already satisfied: pathy>=0.3.5 in /usr/local/lib/python3.7/dist-packages (from spacy<4.0.0,>=3.0.0->spacy-udpipe) (0.6.2)\n",
            "Requirement already satisfied: spacy-loggers<2.0.0,>=1.0.0 in /usr/local/lib/python3.7/dist-packages (from spacy<4.0.0,>=3.0.0->spacy-udpipe) (1.0.3)\n",
            "Requirement already satisfied: wasabi<1.1.0,>=0.9.1 in /usr/local/lib/python3.7/dist-packages (from spacy<4.0.0,>=3.0.0->spacy-udpipe) (0.10.1)\n",
            "Requirement already satisfied: pydantic!=1.8,!=1.8.1,<1.11.0,>=1.7.4 in /usr/local/lib/python3.7/dist-packages (from spacy<4.0.0,>=3.0.0->spacy-udpipe) (1.10.2)\n",
            "Requirement already satisfied: srsly<3.0.0,>=2.4.3 in /usr/local/lib/python3.7/dist-packages (from spacy<4.0.0,>=3.0.0->spacy-udpipe) (2.4.5)\n",
            "Requirement already satisfied: zipp>=0.5 in /usr/local/lib/python3.7/dist-packages (from catalogue<2.1.0,>=2.0.6->spacy<4.0.0,>=3.0.0->spacy-udpipe) (3.10.0)\n",
            "Requirement already satisfied: pyparsing!=3.0.5,>=2.0.2 in /usr/local/lib/python3.7/dist-packages (from packaging>=20.0->spacy<4.0.0,>=3.0.0->spacy-udpipe) (3.0.9)\n",
            "Requirement already satisfied: smart-open<6.0.0,>=5.2.1 in /usr/local/lib/python3.7/dist-packages (from pathy>=0.3.5->spacy<4.0.0,>=3.0.0->spacy-udpipe) (5.2.1)\n",
            "Requirement already satisfied: chardet<4,>=3.0.2 in /usr/local/lib/python3.7/dist-packages (from requests<3.0.0,>=2.13.0->spacy<4.0.0,>=3.0.0->spacy-udpipe) (3.0.4)\n",
            "Requirement already satisfied: urllib3!=1.25.0,!=1.25.1,<1.26,>=1.21.1 in /usr/local/lib/python3.7/dist-packages (from requests<3.0.0,>=2.13.0->spacy<4.0.0,>=3.0.0->spacy-udpipe) (1.24.3)\n",
            "Requirement already satisfied: idna<3,>=2.5 in /usr/local/lib/python3.7/dist-packages (from requests<3.0.0,>=2.13.0->spacy<4.0.0,>=3.0.0->spacy-udpipe) (2.10)\n",
            "Requirement already satisfied: certifi>=2017.4.17 in /usr/local/lib/python3.7/dist-packages (from requests<3.0.0,>=2.13.0->spacy<4.0.0,>=3.0.0->spacy-udpipe) (2022.9.24)\n",
            "Requirement already satisfied: confection<1.0.0,>=0.0.1 in /usr/local/lib/python3.7/dist-packages (from thinc<8.2.0,>=8.1.0->spacy<4.0.0,>=3.0.0->spacy-udpipe) (0.0.3)\n",
            "Requirement already satisfied: blis<0.8.0,>=0.7.8 in /usr/local/lib/python3.7/dist-packages (from thinc<8.2.0,>=8.1.0->spacy<4.0.0,>=3.0.0->spacy-udpipe) (0.7.9)\n",
            "Requirement already satisfied: click<9.0.0,>=7.1.1 in /usr/local/lib/python3.7/dist-packages (from typer<0.5.0,>=0.3.0->spacy<4.0.0,>=3.0.0->spacy-udpipe) (7.1.2)\n",
            "Requirement already satisfied: MarkupSafe>=0.23 in /usr/local/lib/python3.7/dist-packages (from jinja2->spacy<4.0.0,>=3.0.0->spacy-udpipe) (2.0.1)\n"
          ]
        }
      ]
    },
    {
      "cell_type": "code",
      "source": [
        "import spacy_udpipe\n",
        "\n",
        "spacy_udpipe.download(\"ru\")\n",
        "nlp = spacy_udpipe.load(\"ru\")\n",
        "doc = nlp(\"Весна! Крестьянин, торжествуя, на дровнях обновляет путь.\")\n",
        "for token in doc:\n",
        "  print(token.text, token.lemma_)"
      ],
      "metadata": {
        "colab": {
          "base_uri": "https://localhost:8080/"
        },
        "id": "mfcqQ4BN24WU",
        "outputId": "95605e2e-eb15-4f91-b2a6-631c662cc4cf"
      },
      "execution_count": null,
      "outputs": [
        {
          "output_type": "stream",
          "name": "stdout",
          "text": [
            "Already downloaded a model for the 'ru' language\n",
            "Весна весна\n",
            "! !\n",
            "Крестьянин крестьянин\n",
            ", ,\n",
            "торжествуя торжествовать\n",
            ", ,\n",
            "на на\n",
            "дровнях дровень\n",
            "обновляет обновлять\n",
            "путь путь\n",
            ". .\n"
          ]
        }
      ]
    },
    {
      "cell_type": "code",
      "source": [
        "doc = nlp(\"Мы выплавляем больше стали\")\n",
        "for token in doc:\n",
        "  print(token.text, token.lemma_)"
      ],
      "metadata": {
        "colab": {
          "base_uri": "https://localhost:8080/"
        },
        "id": "oaFLflxE3Fd-",
        "outputId": "7d4fdaee-5f60-4996-b8c8-1b745aee29fa"
      },
      "execution_count": null,
      "outputs": [
        {
          "output_type": "stream",
          "name": "stdout",
          "text": [
            "Мы мы\n",
            "выплавляем выплавлять\n",
            "больше больше\n",
            "стали стать\n"
          ]
        }
      ]
    },
    {
      "cell_type": "markdown",
      "source": [
        "Проблема! Впрочем, и случаи такие редки, и среди реально эмоционально окрашенных слов едва ли много омонимов. Перейдём к токенизатору. "
      ],
      "metadata": {
        "id": "jNPJl02B3QFN"
      }
    },
    {
      "cell_type": "code",
      "source": [
        "def my_lemma_tokenize(text:str) -> List[str]:\n",
        "  list_of_words = []\n",
        "  doc = nlp(text)\n",
        "  for token in doc:\n",
        "    list_of_words.append(token.lemma_)\n",
        "  return list_of_words"
      ],
      "metadata": {
        "id": "Nb21OvtB2FIE"
      },
      "execution_count": null,
      "outputs": []
    },
    {
      "cell_type": "code",
      "source": [
        "my_lemma_tokenize('Ты меня никогда не забудешь, ты меня никогда не увидишь')"
      ],
      "metadata": {
        "colab": {
          "base_uri": "https://localhost:8080/"
        },
        "id": "hKA8SBZI4VDe",
        "outputId": "bad82d56-ff5d-44ab-9c85-599c7586584b"
      },
      "execution_count": null,
      "outputs": [
        {
          "output_type": "execute_result",
          "data": {
            "text/plain": [
              "['ты',\n",
              " 'я',\n",
              " 'никогда',\n",
              " 'не',\n",
              " 'забыть',\n",
              " ',',\n",
              " 'ты',\n",
              " 'я',\n",
              " 'никогда',\n",
              " 'не',\n",
              " 'видеть']"
            ]
          },
          "metadata": {},
          "execution_count": 12
        }
      ]
    },
    {
      "cell_type": "code",
      "source": [
        "vectorizer = CountVectorizer(lowercase=True, tokenizer=my_lemma_tokenize) "
      ],
      "metadata": {
        "id": "2jctcSPwcnyc"
      },
      "execution_count": null,
      "outputs": []
    },
    {
      "cell_type": "code",
      "source": [
        "vectorizer.fit(texts)"
      ],
      "metadata": {
        "colab": {
          "base_uri": "https://localhost:8080/"
        },
        "id": "8oC7QS_Icv8D",
        "outputId": "cbd692b6-07f4-499a-a78f-b1a67d91aa12"
      },
      "execution_count": null,
      "outputs": [
        {
          "output_type": "stream",
          "name": "stderr",
          "text": [
            "/usr/local/lib/python3.7/dist-packages/sklearn/feature_extraction/text.py:517: UserWarning: The parameter 'token_pattern' will not be used since 'tokenizer' is not None'\n",
            "  \"The parameter 'token_pattern' will not be used\"\n"
          ]
        },
        {
          "output_type": "execute_result",
          "data": {
            "text/plain": [
              "CountVectorizer(tokenizer=<function my_lemma_tokenize at 0x7f20841c8170>)"
            ]
          },
          "metadata": {},
          "execution_count": 14
        }
      ]
    },
    {
      "cell_type": "code",
      "source": [
        "print(vectorizer.get_feature_names()[0:50])"
      ],
      "metadata": {
        "colab": {
          "base_uri": "https://localhost:8080/"
        },
        "id": "W532c4H9c2Q2",
        "outputId": "84154b48-02a8-4e40-fd97-ba9c4a2ffb81"
      },
      "execution_count": null,
      "outputs": [
        {
          "output_type": "stream",
          "name": "stdout",
          "text": [
            "['!', '\"', '#', '#1000aday', '#1042', '#13268', '#171', '#187', '#24', '#40', '#41', '#8220', '#8221', '#8230', '#card', '#ekb', '#ff', '#g', '#hny', '#in', '#ipad', '#iphone', '#k', '#klerk', '#mol', '#moneyzzz', '#motox', '#msci', '#nsk', '#pyd', '#r', '#rt', '#ru', '#ru_ff', '#the', '#ua', '#vk', '#wall', '#ykt', '#аст', '#бут', '#в', '#ввп', '#вс', '#все', '#втб', '#втб24', '#втбый', '#вэб', '#гд']\n"
          ]
        },
        {
          "output_type": "stream",
          "name": "stderr",
          "text": [
            "/usr/local/lib/python3.7/dist-packages/sklearn/utils/deprecation.py:87: FutureWarning: Function get_feature_names is deprecated; get_feature_names is deprecated in 1.0 and will be removed in 1.2. Please use get_feature_names_out instead.\n",
            "  warnings.warn(msg, category=FutureWarning)\n"
          ]
        }
      ]
    },
    {
      "cell_type": "code",
      "source": [
        "print(len(vectorizer.get_feature_names()))"
      ],
      "metadata": {
        "colab": {
          "base_uri": "https://localhost:8080/"
        },
        "id": "va0BTJLLc7p4",
        "outputId": "870f1014-95e5-408d-b972-b7dd4cb30c0e"
      },
      "execution_count": null,
      "outputs": [
        {
          "output_type": "stream",
          "name": "stdout",
          "text": [
            "16157\n"
          ]
        }
      ]
    },
    {
      "cell_type": "code",
      "source": [
        "X = vectorizer.transform(texts)"
      ],
      "metadata": {
        "id": "4dKWXEkUdRiV"
      },
      "execution_count": null,
      "outputs": []
    },
    {
      "cell_type": "code",
      "source": [
        "print(f'Текст: {texts[10]}\\n')\n",
        "\n",
        "print(X[1])"
      ],
      "metadata": {
        "colab": {
          "base_uri": "https://localhost:8080/"
        },
        "id": "-yU18p4Ldn3_",
        "outputId": "ee531597-b02d-428f-ad67-a13191119ba1"
      },
      "execution_count": null,
      "outputs": [
        {
          "output_type": "stream",
          "name": "stdout",
          "text": [
            "Текст: ДЕЛО -  На 1 млрд грн ушел в минус Райффайзен Банк Аваль и была докапитализирована украинская \"дочка\" ВТБ\n",
            "\n",
            "  (0, 354)\t1\n",
            "  (0, 6976)\t1\n",
            "  (0, 10035)\t1\n",
            "  (0, 11302)\t1\n",
            "  (0, 11589)\t1\n",
            "  (0, 12026)\t1\n",
            "  (0, 12545)\t1\n"
          ]
        }
      ]
    },
    {
      "cell_type": "code",
      "source": [
        "for idx in random.choices(list(range(len(texts))), k=20):\n",
        "    print('{0} => {1}'.format(labels[idx], texts[idx]))"
      ],
      "metadata": {
        "colab": {
          "base_uri": "https://localhost:8080/"
        },
        "id": "nlM6m-M3dvqC",
        "outputId": "4abc51e7-874c-4f28-8e56-156c02ee6937"
      },
      "execution_count": null,
      "outputs": [
        {
          "output_type": "stream",
          "name": "stdout",
          "text": [
            "neutral => втб 24 тольятти кредиты http://t.co/QVFQclOlNJ\n",
            "neutral => моментальный кредит сбербанк http://t.co/yQbR0ZOcCG\n",
            "neutral => Кредитную карту альфа банк http://t.co/poETAI5b9O\n",
            "neutral => Потребительский кредит газпромбанка в омске http://t.co/CHRTSirmYo\n",
            "neutral => банк сбербанк зеленоград http://t.co/8LF99kqKhr\n",
            "neutral => Взять кредит в альфа банке саратов\n",
            "neutral => RT @cymysinybuxo: фича или баг? зная номер сберкарты в сбербанке — можно узнать сколько на ней денег.\n",
            "neutral => сбербанк досрочное погашение потребительского кредита http://t.co/jdhEbMooY0\n",
            "neutral => Как взять кредит для организации сбербанк http://t.co/gzX9YctdbA\n",
            "neutral => банк втб 24 кредиты http://t.co/H2eLAN6T80\n",
            "negative => Под санкции ЕС официально попали Сбербанк, ВТБ, Газпромбанк, ВЭБ и Россельхозбанк\n",
            "neutral => сбербанк кредит по двум документам http://t.co/ADcOcjIY1z\n",
            "neutral => Суд признал сотрудницу Сбербанка Лохову жертвой сексизма  Да, в Лондоне есть Сбербанк\n",
            "negative => RT @495Sergo: @sberbank @AndreyAlenkuts я ещё не видел, что бы так культурно посылали)))\n",
            "neutral => узнать задолженность по кредиту сбербанк http://t.co/wWTra9ekDN\n",
            "neutral => В музее Сбербанка провели экскурсию для самарских школьников - http://t.co/h9aVmrCqnB #самара\n",
            "neutral => оао банк москвы проценты по кредитам http://t.co/mKSehmwTUv\n",
            "negative => Сбербанк онлайн проснись по хорошему прошу....\n",
            "neutral => Банк уралсиб в самаре образовательный кредит http://t.co/rUgqivdnOA\n",
            "neutral => Кредит для малого бизнеса сбербанк россии http://t.co/YOc6Tid9Ll\n"
          ]
        }
      ]
    },
    {
      "cell_type": "markdown",
      "source": [
        "Теперь с помощью регулярных выражений учтём наличие телеграм-канала. Ссформируем список твитов, в которых он есть, взглянем на него и сперва просто убедимся в том, что подавляющее большинство твитов со ссылками нейтральны."
      ],
      "metadata": {
        "id": "kr9q60-4ueDO"
      }
    },
    {
      "cell_type": "code",
      "source": [
        "import re\n",
        "\n",
        "tg_channel = re.compile('(http[s]?:)?\\/\\/t\\.co')\n",
        "tg_tweets = []\n",
        "tg_labels = []\n",
        "for idx in range(len(texts)):\n",
        "  if tg_channel.search(texts[idx]) is not None:\n",
        "    tg_tweets.append(texts[idx])\n",
        "    tg_labels.append(labels[idx])"
      ],
      "metadata": {
        "id": "2OQWsBJMjaVx"
      },
      "execution_count": null,
      "outputs": []
    },
    {
      "cell_type": "code",
      "source": [
        "for idx in random.choices(list(range(len(tg_tweets))), k=20):\n",
        "    print('{0} => {1}'.format(tg_labels[idx], tg_tweets[idx]))"
      ],
      "metadata": {
        "colab": {
          "base_uri": "https://localhost:8080/"
        },
        "id": "YhHS-LSbkK7j",
        "outputId": "3f78c7c9-56aa-45b6-e51d-f5b10a7ec359"
      },
      "execution_count": null,
      "outputs": [
        {
          "output_type": "stream",
          "name": "stdout",
          "text": [
            "neutral => дневник по производственной практике в сбербанке http://t.co/YaMp39Z2I0\n",
            "neutral => http://t.co/14dY9LVVeV Взять кредит на технику в альфа банке\n",
            "neutral => http://t.co/HDKQCmUy9T Взять кредит в райффайзенбанке\n",
            "neutral => http://t.co/smU2bT3v7V Как оформить кредит в россельхозбанк\n",
            "neutral => Банкоматы в олимпийском Сочи оснастят интерфейсом на китайском и французском: Сбербанк оснастит банкоматы в Со... http://t.co/A7pNR3NDgJ\n",
            "neutral => RT @fahevujijoh: Сбербанк банк клиент инструкция http://t.co/pUyVzYd2EN\n",
            "neutral => #news Четыре тысячи вкладчиков банка \"Аскольд\" получат возмещение по вкладам: АСВ выбрало ВТБ 24 банк... http://t.co/YfNsGlEqNF #novosti\n",
            "neutral => кредит 20 тысяч в сбербанке http://t.co/YiyvPWd0e6\n",
            "neutral => Потребительский кредит ульяновск сбербанк http://t.co/RaLNbNd4uf\n",
            "neutral => автокредит в россельхозбанке рассчитать http://t.co/WIDxmcv6iN\n",
            "neutral => Минимальная сумма кредита в альфа банке http://t.co/o5bZ2AFPg5\n",
            "neutral => Казань сбербанк кредитный отдел http://t.co/piutL9pmzS\n",
            "neutral => Банк уралсиб потребительские кредиты в спб http://t.co/OjD2erQa2z\n",
            "neutral => В эти выходные в Арсенале стартовала елка для детей! Клиенты Сбербанк1 и Мерседес Бенц Плаза смогли первыми... http://t.co/HerOAvixFc\n",
            "neutral => RT @sberbank: Сбербанк начал выпуск карт платежной системы «Универсальная электронная карта» (ПРО100) по всей России. Подробнее http://t.co…\n",
            "neutral => Объем портфеля по кредитным картам Сбербанка в Сургуте превысил 1 млрд. рублей http://t.co/9FozBhrTU1\n",
            "neutral => образец платежного поручения на алименты в сбербанке http://t.co/qvSjNgKzDE\n",
            "neutral => http://t.co/t17uuktY6J | Процентная ставка по кредиту в втб 24\n",
            "neutral => Если не заплотил потребительский кредит вовремя альфа банк http://t.co/DHprMyExdK\n",
            "neutral => http://t.co/kdmvnIYA48 | Автокредит газпромбанк отзывы\n"
          ]
        }
      ]
    },
    {
      "cell_type": "markdown",
      "source": [
        "Сейчас попробуем учесть эмоциональность лексики. Положимся на соответствующий найденный в интернете словарь и составим списки слов всех тональностей."
      ],
      "metadata": {
        "id": "fx7ZmYbSvpYG"
      }
    },
    {
      "cell_type": "code",
      "source": [
        "with open(\"/content/NN/rusentilex_2017.txt\", \"r\", encoding=\"utf-8\") as file:\n",
        "  positive_list=[]\n",
        "  negative_list=[]\n",
        "  neutral_list=[]\n",
        "  for row in file.readlines():\n",
        "    if row[0] == '!':\n",
        "      pass\n",
        "    else:\n",
        "      row = row.split(', ')\n",
        "      if 'positive' in row:\n",
        "        positive_list.append(row[0])\n",
        "      elif 'negative' in row:\n",
        "        negative_list.append(row[0])\n",
        "      elif 'neutral' in row:\n",
        "        neutral_list.append(row[0])\n"
      ],
      "metadata": {
        "id": "E7X5_PSZqPD0"
      },
      "execution_count": null,
      "outputs": []
    },
    {
      "cell_type": "code",
      "source": [
        "print (negative_list)"
      ],
      "metadata": {
        "colab": {
          "base_uri": "https://localhost:8080/"
        },
        "id": "QtLMTPXXrW0H",
        "outputId": "78471521-945f-43c1-ea85-b9b940262f41"
      },
      "execution_count": null,
      "outputs": [
        {
          "output_type": "stream",
          "name": "stdout",
          "text": [
            "['аборт', 'абортивный', 'абракадабра', 'абсурд', 'абсурдность', 'абсурдный', 'авантюра', 'авантюризм', 'авантюрист', 'авантюристический', 'авантюристка', 'авантюристский', 'авантюрный', 'аварийность', 'аварийный', 'авария', 'авиакатастрофа', 'авиакрушение', 'авианалет', 'авиаудар', 'авиационный налет', 'авитаминоз', 'авитаминозный', 'аврал', 'авральный', 'автовор', 'автоматная очередь', 'автоматный огонь', 'автомобильная пробка', 'автоподстава', 'авторитаризм', 'авторитарность', 'авторитарный', 'авторитет падает', 'авторитет снижается', 'авторитет снизился', 'авторитет упал', 'авторитетом не пользоваться', 'автотрасса перекрыта', 'автоугон', 'автоугонщик', 'агент иностранной разведки', 'агитка', 'агонизировать', 'агония', 'агрессивность', 'агрессивный', 'агрессия', 'агрессор', 'агрессорский', 'ад', 'административное воздействие', 'административное давление', 'административные меры', 'административный барьер', 'адов', 'адовый', 'адский', 'ажиотаж', 'ажиотажный', 'ажитация', 'алкатель', 'алкашка', 'алкоголизация', 'алкоголизм', 'алкоголик', 'алкоголический', 'алкоголичка', 'алкогольная зависимость', 'алкогольное опьянение', 'алкогольный угроза', 'алконавт', 'аллерген', 'аллергенный', 'аллергический', 'аллергия', 'алогизм', 'алогический', 'алогичность', 'алогичный', 'алчность', 'алчный', 'альцгеймер', 'аморальность', 'аморальный', 'аморфность', 'аморфность', 'аморфный', 'аморфный', 'ампутационный', 'ампутация', 'ампутированный', 'ампутировать', 'анархизм', 'анархист', 'анархистка', 'анархистский', 'анархический', 'анархия', 'ангажированность', 'ангажированный', 'ангина', 'ангинный', 'ангиозный', 'анемический', 'анемичность', 'анемичный', 'анемия', 'аномалия', 'аномальность', 'аномальный', 'анорексичка', 'анорексия', 'антагонизм', 'антагонист', 'антагонистический', 'антагонистичный', 'антагонистка', 'антагонистский', 'антигуманистический', 'антигуманность', 'антигуманный', 'антизаконный', 'антиконституционность', 'антиконституционный', 'антимонопольный', 'антинародный', 'антиобщественный', 'антипатичность', 'антипатичный', 'антипатия', 'антиправительственный', 'антисанитария', 'антисанитарный', 'антисемит', 'антисемитизм', 'антисемитка', 'антисемитский', 'антисионистский', 'антисоциальный', 'античеловеческий', 'античеловечный', 'антракс', 'антропофагия', 'анус', 'анфолловер', 'анфолловинг', 'анфолловить', 'анфоловить', 'апартеид', 'апатический', 'апатичность', 'апатичный', 'апатия', 'апоплексический', 'апоплексия', 'арест', 'арестовать', 'арестовывать', 'аритмия', 'артачиться', 'артериосклероз', 'артеросклероз', 'артрит', 'архаический', 'архаичность', 'архаичный', 'астма', 'астматик', 'астматический', 'асфиксия', 'атака', 'атеросклероз', 'атеросклеротический', 'атмосферный выброс', 'аутсайдер', 'аутсайдерский', 'афера', 'аферист', 'аферистка', 'аферистский', 'афтершок', 'афтершоковый', 'ахиллесова пята', 'ахинея', 'баба', 'бабка', 'бабник', 'бабский', 'бабье', 'базарить', 'баклушничать', 'балабол', 'балаболка', 'балбес', 'балбеска', 'балда', 'балласт', 'балованный', 'баловать', 'баловаться', 'баловство', 'банальность', 'банальный', 'банальщина', 'банда', 'бандгруппа', 'бандгруппировка', 'бандит', 'бандитизм', 'бандитка', 'бандитский', 'бандитствовать', 'бандитствующий', 'бандподполье', 'бандформирование', 'бандюга', 'бандюган', 'банить', 'банкрот', 'банкротство', 'бардак', 'бардачный', 'барсеточник', 'барышнический', 'барьер', 'басмач', 'басмаческий', 'басмачество', 'басня', 'бастовать', 'бастующий', 'бахвал', 'бахвалка', 'бахвальский', 'бацилловый', 'башибузук', 'бегство капитала', 'бегство', 'беда', 'бедлам', 'беднейший', 'беднеть', 'бедность', 'беднота', 'бедный', 'бедняга', 'бедняжка', 'бедняк', 'бедняцкий', 'бедокурить', 'бедолага', 'бедственность', 'бедственный', 'бедствие', 'бедствовать', 'без зазрения совести', 'без предупреждения', 'без электричества оставаться', 'без электричества остаться', 'безалаберность', 'безалаберный', 'безальтернативность', 'безальтернативный', 'безапелляционность', 'безапелляционный', 'безбилетник', 'безбилетница', 'безбилетный проезд', 'безбожный', 'безбожный', 'безверие', 'безвкусие', 'безвкусица', 'безвкусность', 'безвкусность', 'безвкусный', 'безвкусный', 'безвластие', 'безволие', 'безвольность', 'безвольный', 'безвременность', 'безвременный', 'безвыходность', 'безвыходный', 'безголовость', 'безголовый', 'безграмотность', 'безграмотный', 'бездарность', 'бездарный', 'бездарь', 'бездействие', 'бездействовать', 'безделье', 'бездельник', 'бездельница', 'бездельничать', 'безденежный', 'безденежье', 'бездеятельность', 'бездеятельный', 'бездождье', 'бездоказательность', 'бездоказательный', 'бездомничать', 'бездомничество', 'бездомность', 'бездомный', 'бездорожье', 'бездумность', 'бездумный', 'бездушие', 'бездушность', 'бездушный', 'безжалостность', 'безжалостный', 'безжизненность', 'безжизненный', 'беззаконие', 'беззаконность', 'беззаконный', 'беззастенчивость', 'беззастенчивый', 'беззащитность', 'беззащитный', 'безликая серость', 'безликий', 'безмозглость', 'безмозглый', 'безнадега', 'безнадежность', 'безнадежный', 'безнадзорность', 'безнаказанность', 'безнаказанный', 'безнравственность', 'безнравственный', 'безобидный на первый взгляд', 'безобразие', 'безобразить', 'безобразник', 'безобразница', 'безобразничать', 'безобразность', 'безобразный', 'безосновательность', 'безосновательный', 'безответственность', 'безответственный', 'безотрадность', 'безотрадный', 'безотцовщина', 'безработица', 'безработный', 'безрадостность', 'безрадостный', 'безраздельное господство', 'безразличие', 'безразличность', 'безразличный', 'безрезультативный', 'безрезультатность', 'безрезультатный', 'безрукий', 'безрукость', 'безумец', 'безумие', 'безумность', 'безумный', 'безумство', 'безумствовать', 'безумье', 'безуспешность', 'безуспешный', 'безутешность', 'безутешный', 'безучастие', 'безучастность', 'безучастный', 'безысходность', 'безысходный', 'белесость', 'белесый', 'белиберда', 'белокровие', 'белокровный', 'белоручка', 'беситься', 'бесконечный повтор', 'бесконтрольность', 'бесконтрольный', 'бескультурие', 'бескультурный', 'бескультурье', 'бесноваться', 'беспамятность', 'беспамятный', 'беспамятный', 'беспамятство', 'беспардонность', 'беспардонный', 'бесперспективность', 'бесперспективный', 'беспечность', 'беспечный', 'бесплодие', 'бесплодность', 'бесплодный', 'беспокойность', 'беспокойный', 'беспокойство', 'беспокоить', 'беспокоиться', 'бесполезность', 'бесполезный', 'беспомощность', 'беспомощный', 'беспорядок', 'беспорядочность', 'беспорядочный', 'беспочвенность', 'беспочвенный', 'беспощадность', 'беспощадный', 'беспредел', 'беспризорник', 'беспризорница', 'беспризорнический', 'беспризорность', 'беспризорный', 'беспризорщина', 'беспринципность', 'беспринципный', 'беспросветность', 'беспросветный', 'беспутник', 'беспутница', 'беспутничать', 'беспутнический', 'беспутность', 'беспутный', 'беспутство', 'бессвязность', 'бессвязный', 'бессердечие', 'бессердечность', 'бессердечный', 'бессилие', 'бессилие', 'бессильный', 'бессильный', 'бесславие', 'бесславность', 'бесславный', 'бессмысленность', 'бессмысленный', 'бессмыслица', 'бессовестность', 'бессовестный', 'бессодержательность', 'бессодержательный', 'бессонница', 'бессонный', 'бесстыдник', 'бесстыдница', 'бесстыдность', 'бесстыдный', 'бесстыдство', 'бестактность', 'бестактный', 'бесталанность', 'бесталанный', 'бестия', 'бестолковость', 'бестолковщина', 'бестолковый', 'бестолочь', 'бесхребетность', 'бесхребетный', 'бесцветность', 'бесцветный', 'бесцеремонность', 'бесцеремонный', 'бесчеловечность', 'бесчеловечный', 'бесчестить', 'бесчестить', 'бесчестность', 'бесчестный', 'бесчестье', 'бесчувственность', 'бесчувственный', 'бешенство', 'бешеный', 'бзик', 'биотоксин', 'бирюк', 'бирючий', 'битком', 'битый', 'бить баклуши', 'бить по нервам', 'бить по основам', 'бич общества', 'бич', 'бич', 'бичиха', 'блабла', 'бла-бла-бла', 'блаблабла', 'благим матом', 'блажь', 'блатарка', 'блатарь', 'блатной', 'блевание', 'блевануть', 'блевать', 'блевота', 'блевотина', 'бледноватый', 'бледность', 'бледность', 'бледный', 'бледный', 'блеклость', 'блеклый', 'блекнуть', 'блеф', 'блефовать', 'блефовый', 'близорукий', 'близорукий', 'близорукость', 'близорукость', 'блокада', 'блокадный', 'блоха', 'блуд', 'блудить', 'блудить', 'блудник', 'блудница', 'блэкаут', 'блюдолиз', 'богатей', 'богатенький', 'богач', 'богачка', 'богохульничанье', 'богохульничать', 'богохульный', 'богохульственный', 'богохульство', 'богохульствовать', 'бодряцкий', 'бодряческий', 'бодяга', 'боевик', 'божеее', 'божечка', 'бой', 'бой', 'бой', 'бой', 'бойкот', 'бойкотирование', 'бойкотировать', 'бойня', 'болван', 'болевой', 'болезненность', 'болезненность', 'болезненность', 'болезненный', 'болезненный', 'болезненный', 'болезнетворный', 'болезнь', 'болеть', 'болеть', 'болото', 'болтовня', 'боль', 'больная', 'больной', 'большая натяжка', 'больше не пойду', 'больше не приходить', 'больше ни ногой', 'большое но', 'большой вопрос', 'большой облом', 'болячка', 'бомба', 'бомба', 'бомба', 'бомбануть', 'бомбардировать', 'бомбардировка', 'бомбардировочный', 'бомбежка', 'бомбежный', 'бомбить', 'бомбометание', 'бомж', 'бомжатник', 'бомжевать', 'бомжеский', 'бомжиха', 'бомжовый', 'борзеть', 'бормотание', 'бормотанье', 'бормотать', 'босяк', 'босячка', 'бошка', 'боязливость', 'боязливый', 'боязнь', 'бояться', 'бравада', 'бравировать', 'браконьер', 'браконьерский', 'браконьерство', 'браконьерствовать', 'бранить', 'браниться', 'бранный', 'брань', 'братоубийственный', 'братоубийство', 'братоубийца', 'брать под стражу', 'бред', 'бред', 'бредни', 'бредовый', 'бредовый', 'брезгать', 'брезгливость', 'брезгливый', 'брезговать', 'бремя', 'брехать', 'брехло', 'брехня', 'брехун', 'брехунья', 'брешь', 'бродяга', 'бродяжий', 'бродяжка', 'бродяжничать', 'бродяжнический', 'бродяжничество', 'бродячий собака', 'брожение умов', 'бронхитный', 'бросаться деньгами', 'бросаться под поезд', 'броситься под поезд', 'бросовая цена', 'бросовый', 'бросовый', 'брыкаться', 'брыкаться', 'брюзга', 'брюзгливость', 'брюзгливый', 'брюзжание', 'брюзжать', 'брякать', 'брякать', 'брякнуть языком', 'брякнуть', 'брякнуть', 'будоражить', 'будоражиться', 'буза', 'бузила', 'бузить', 'бузотер', 'бузотерка', 'бузотерский', 'буйность', 'буйный', 'буйство', 'буйствовать', 'букашка', 'буксовать', 'буллинг', 'бульварность', 'бульварный', 'бульварщина', 'бумаготворчество', 'бумажная душа', 'бумажная душонка', 'бумажная карусель', 'бумажный червь', 'бунт', 'бунт', 'бунтарский', 'бунтарство', 'бунтарь', 'бунтовщик', 'бунтовщица', 'бунтовщический', 'буравить глазами', 'буран', 'буранный', 'бурьян', 'буря', 'буря', 'бутафория', 'бутафорский', 'бухать', 'бухло', 'бухой', 'бушевать', 'буян', 'буянить', 'буянство', 'бывало и лучше', 'бывать и получше', 'быдло', 'было бы добавить', 'было бы здорово', 'быстро заканчиваться', 'быстротечность', 'быстротечный', 'бытовое насекомое', 'быть в меньшинстве', 'быть задержанным', 'быть лишним', 'бюджет не позволяет', 'бюрократ', 'бюрократическая карусель', 'бюрократический', 'бюрократичный', 'бюрократия', 'бюрократия', 'бюрократия', 'бюрократка', 'бюрократский', 'бяка', 'в воду опущенный', 'в глазах кружится', 'в голове кружится', 'в голове туман', 'в печенках сидеть', 'в пику', 'в пожарном порядке', 'в последний путь проводить', 'в последний путь провожать', 'в спешном порядке', 'в стельку пьяный', 'в упор не видеть', 'в упор не замечать', 'важничать', 'вакуум власти', 'вакханалия', 'валандаться', 'валкий', 'валкость', 'валять дурака', 'валяться', 'вампир', 'вампирный', 'вампирский', 'вандал', 'вандализм', 'вандалистский', 'вандалка', 'варвар', 'варварский', 'варварство', 'вареный', 'ваххабизм', 'ваххабист', 'ваххабистский', 'ваххабит', 'ваххабитка', 'ваххабитский', 'ваще', 'веб-пиратство', 'ведун', 'ведунья', 'ведьма', 'ведьма', 'ведьмак', 'велеречивость', 'велеречивый', 'великий риск', 'великий', 'великодержавие', 'великодержавный', 'вендетта', 'венерический', 'вензаболевание', 'верноподданический', 'верноподданичество', 'вероотступник', 'вероотступница', 'вероотступнический', 'вероотступничество', 'вертопрах', 'вести интригу', 'весьма средний', 'ветер в голове', 'ветер с порывами', 'ветирование', 'ветировать', 'вето', 'ветреник', 'ветреность', 'ветреный', 'ветреный', 'ветхий', 'ветхозаветность', 'ветхозаветный', 'ветхость', 'вешать голову', 'вешать нос', 'взбрыкивание', 'взбрыкивать', 'взбрыкнуть', 'взбудоражить', 'взбудоражиться', 'взбунтоваться', 'взбучка', 'взвинтить тарифы', 'взвинтить цену', 'взвинтить', 'взвинчивание цен', 'взвинчивание', 'взвинчивать тарифы', 'взвинчивать цены', 'взвинчивать', 'взволновать', 'взволноваться', 'взгрустнуть', 'вздернулись цены', 'вздернуть цены', 'вздор', 'вздорить', 'вздорность', 'вздорный', 'вздорожание', 'вздорожать', 'вздувание цен', 'вздувать цены', 'вздуть цены', 'вздыхать', 'взламывание', 'взламывать', 'взлом', 'взломать', 'взломщик', 'взмутить', 'взрыв', 'взрывное устройство', 'взрывной', 'взрывной', 'взрывной', 'взрывоопасность', 'взрывоопасный', 'взрывчатый', 'взъедаться', 'взъесться', 'взыскание', 'взятие под стражу', 'взятка', 'взяткодатель', 'взяткодательница', 'взяткодательство', 'взятнический', 'взяточник', 'взяточница', 'взяточничество', 'взять под стражу', 'взять силой', 'видимость', 'видимый', 'вина', 'винить', 'виноватость', 'виноватый', 'виновник', 'виновница', 'виновность', 'виновный', 'винтик', 'вирус', 'вирусный', 'вклиниться', 'вкрадчивость', 'вкрадчивый', 'влазить', 'властолюбец', 'властолюбивый', 'властолюбие', 'властолюбица', 'влачить', 'влачиться', 'влезание', 'влезать в долг', 'влезать', 'влезть в долг', 'вместо того чтобы', 'внешнее давление', 'внешний', 'внештатная ситуация', 'внутреннее метание', 'внутреннее опустошение', 'внутренняя пустота', 'внушение', 'водить за нос', 'водобоязнь', 'водотолчение', 'воду лить', 'военная акция', 'военная операция', 'военное время', 'военные действия', 'военный переворот', 'военный период', 'вожжаться', 'возбранить', 'возбранять', 'возбраняться', 'возбудимость', 'возбудимый', 'возбудить дело', 'возбудить по статье', 'возбудиться', 'возбуждать дело', 'возбуждаться', 'возбуждение дела', 'возбуждение по статье', 'возбужденность', 'возбужденный', 'возгорание', 'воздушный удар', 'возмездие', 'возмутительность', 'возмутительный', 'возмутить', 'возмутиться', 'возмущать', 'возмущаться', 'возмущение', 'вознегодовать', 'возненавидеть', 'возня', 'возомнить', 'возрастают тарифы', 'возрастные изменения', 'возроптать', 'возросли тарифы', 'возросли тарифы', 'война', 'воинствующий', 'войсковая операция', 'вокруг пальца обвести', 'волнения', 'волновать', 'волноваться', 'волокита', 'волокитный', 'волокитчик', 'волокитчица', 'волынить', 'волынка', 'волынка', 'волынщик', 'волынщица', 'вольность', 'вольный', 'волюнтаризм', 'волюнтаристический', 'волюнтаристский', 'вонь', 'вонючий', 'вонючка', 'вонять', 'воображала', 'воображать', 'воображать', 'вооруженная группировка', 'вооруженное нападение', 'вооруженный налет', 'вооруженный переворот', 'вооруженный сторонник', 'вопиющий', 'вопрос вызывать', 'вор', 'воришка', 'воровать', 'воровка', 'воровской', 'воровство', 'ворона', 'воронить', 'воротить с души', 'ворчливость', 'ворчливый', 'ворчун', 'ворчунья', 'ворье', 'ворюга', 'воспаление', 'воспаленность', 'воспаленность', 'воспаленный', 'воспаленный', 'воспалительный', 'воспалиться', 'воспаляться', 'воспрепятствование', 'воспрепятствовать', 'воспретить', 'воспрещать', 'воспрещаться', 'воспрещение', 'воспротивиться', 'восставать', 'восстание', 'восстать', 'вошь', 'вошь', 'впустую', 'враг', 'вражда', 'враждебность', 'враждебный', 'враждовать', 'вражеский', 'вражий', 'враль', 'вранье', 'врать', 'вред', 'вредитель', 'вредительница', 'вредительский', 'вредительство', 'вредить', 'вредность', 'вредный', 'вредоносность', 'вредоносный', 'время потерять', 'врожденный порок', 'врун', 'врунья', 'врядли', 'врятли', 'все запустить', 'вседозволенность', 'вседозволенный', 'всеисцеляющий', 'вскипать', 'вскипеть', 'вслепую', 'всполошить', 'всполошиться', 'вспылить', 'вспыльчивость', 'вспыльчивый', 'вспыхивать', 'вспыхнуть', 'вспышка', 'вставить палки в колеса', 'вставлять палки в колеса', 'вставлять палки в колеса', 'встать в позу', 'встопорщиться', 'встревание', 'встревать', 'встревоженность', 'встревоженный', 'встревожить', 'встревожиться', 'встрянуть', 'встряска', 'встрять', 'всучить', 'втаптывать в грязь', 'втоптать в грязь', 'вторгаться', 'вторгаться', 'вторгаться', 'вторгнуться', 'вторгнуться', 'вторгнуться', 'вторжение', 'вторжение', 'вторжение', 'второй сорт', 'второстепенность', 'второстепенный', 'втрескаться', 'втрескиваться', 'втридорога', 'втюриться', 'вулканическая активность', 'вулканическая деятельность', 'вулканический процесс', 'вульгарность', 'вульгарный', 'вурдалак', 'вчерашний', 'въедливость', 'въедливость', 'въедливый', 'въедливый', 'въедчивость', 'въедчивый', 'выбесить', 'выбешивать', 'выбиться из сил', 'выбоина', 'выбранить', 'выбраниться', 'выбрасывать в атмосферу', 'выбрасывать на ветер', 'выброс в атмосферный воздух', 'выброс в атмосферу', 'выброс парниковых газов', 'выброс промышленных предприятий', 'выброс углекислого газа', 'выброс', 'выбросить на ветер', 'вывеска', 'вывести из строя', 'вывести из строя', 'вывести на чистую воду', 'вывих', 'вывихивать', 'вывихнуть', 'вывод активов', 'вывод из строя', 'вывод капитала', 'выводить из строя', 'выводить из строя', 'выводиться из строя', 'вывоз капитала', 'вывозиться', 'выволочка', 'выговаривание', 'выговаривать', 'выговор', 'выговор', 'выдавать желаемое за действительное', 'выдать желаемое за действительное', 'выделывать', 'выдумка', 'вызвать вопросы', 'вызвать серьезные вопросы', 'вызубривание', 'вызубривать', 'вызубрить', 'вызывать вопросы', 'вызывать серьезные вопросы', 'вызывать только жалость', 'выйти из берегов', 'выйти из себя', 'выйти из строя', 'выйти из строя', 'выйти из строя', 'выкаблучиваться', 'выкамаривать', 'выкидывать', 'выкидывать', 'выкидыш', 'выкинуть', 'выкинуть', 'выклянчивание', 'выклянчивать', 'выклянчить', 'выкрадывание', 'выкрадывать', 'выкрасть', 'выкрутасы', 'вылететь в трубу', 'вымазаться', 'вымазываться', 'выматерить', 'выматывание', 'выматывать', 'выматываться', 'вымереть', 'вымирание', 'вымирать', 'вымогание', 'вымогатель', 'вымогательница', 'вымогательский', 'вымогательство', 'вымогать', 'вымотать', 'вымотаться', 'вынести мусор из избы', 'выносить мусор из избы', 'выпадение волос', 'выпачкать', 'выпачкаться', 'выпендреж', 'выпендрежничать', 'выпендривание', 'выпендриваться', 'выпендриться', 'выпивоха', 'выпяливать глаза', 'выпяливаться', 'выпялить глаза', 'выпялиться', 'выражать удивление', 'выразить удивление', 'выросли тарифы', 'вырубаться', 'вырубиться', 'выругать', 'выругаться', 'высасывать из пальца', 'выселение', 'выскочка', 'выслуживание', 'выслуживаться', 'выслужиться', 'высокая температура тела', 'высокое кровяное давление', 'высокомерие', 'высокомерный', 'высокопарность', 'высокопарный', 'высокотоксичный', 'высосать из пальца', 'выспренний', 'выспренность', 'выступать с критикой', 'выступить с критикой', 'высылка', 'вытаращиться', 'выташнивать', 'вытворить', 'вытворять', 'вытошнить', 'выход из берегов', 'выход из строя', 'выходить из берегов', 'выходить из строя', 'выходка', 'вычурность', 'вычурный', 'вышедший из моды', 'вышел облом', 'вяловатость', 'вяловатый', 'вялость', 'вялый', 'гавно', 'гад', 'гадить', 'гадкий', 'гадливость', 'гадливый', 'гадостность', 'гадостный', 'гадость', 'газетная утка', 'газовая атака', 'газы в кишечнике', 'гайморит', 'гайморитный', 'галиматья', 'галимый', 'галлюцинаторный', 'галлюцинация', 'галлюцинировать', 'гамно', 'гангрена', 'гангренозный', 'гангстер', 'гангстерский', 'гангстерша', 'гандон', 'гарпия', 'гарь', 'гастрит', 'гастритный', 'гастрический', 'гваздаться', 'геенна огненная', 'геенна', 'гематома', 'гематурия', 'гемблинг', 'геморрагический', 'геморрагия', 'геноцид', 'геноцидный', 'гепатит', 'гепатитный', 'гепатопатия', 'герпес', 'герпетический', 'гибель', 'гибельность', 'гибельный', 'гиблый', 'гибнуть', 'гиперинфляционный', 'гиперинфляция', 'гипертермический', 'гипертермия', 'гипертоник', 'гипертонический', 'гипертония', 'гиповитаминоз', 'гитлеризм', 'гламур', 'гламурный', 'глаукома', 'глаукомный', 'глобальное потепление', 'глохнуть', 'глумиться', 'глумление', 'глупенький', 'глупеть', 'глупец', 'глупить', 'глуповатый', 'глупость', 'глупый', 'глупышка', 'глухой', 'глухой', 'глухомань', 'глухота', 'глушь', 'глюк', 'глючить', 'глючный', 'гнев', 'гневный', 'гнести', 'гнет', 'гнет', 'гнида', 'гнида', 'гниение', 'гниение', 'гнилой', 'гнилой', 'гнилостный', 'гнилость', 'гнилость', 'гнить', 'гнить', 'гной', 'гнойник', 'гнойниковый', 'гнойный', 'гнус', 'гнусность', 'гнусный', 'гнушаться', 'гоблин', 'говнарь', 'говнища', 'говно', 'говнюк', 'говорильня', 'говорить себе под нос', 'голова кружится', 'голова помутилась', 'голова трещит', 'головокружение', 'головокружительный', 'головомойка', 'головорез', 'головотяпство', 'голод', 'голодание', 'голодать', 'голодность', 'голодный', 'голодовка', 'голодомор', 'голодранец', 'голодуха', 'гололед', 'гололедица', 'гололедичный', 'гололедный', 'голосить', 'голословность', 'голословный', 'голошение', 'голытьба', 'голь перекатная', 'голь', 'гомосек', 'гомофоб', 'гомофобия', 'гомофобский', 'гонение', 'гонитель', 'гонительница', 'гонка вооружений', 'гонор', 'гопник', 'гопота', 'горбатиться', 'гордец', 'гордость', 'гордыня', 'гордячка', 'горе', 'горе', 'горевать', 'горемыка', 'горемычный', 'горести', 'горестность', 'горестный', 'горесть', 'горечь', 'гори все огнем', 'гори все синим пламенем', 'горлан', 'горлодер', 'горлопан', 'горлопанка', 'горлохват', 'горчить', 'горький', 'горьковатый', 'горькость', 'горячечный', 'горячий', 'горячий', 'горячка', 'госизменник', 'госпади', 'госпереворот', 'господи', 'государственный переворот', 'грабануть', 'грабеж', 'грабиловка', 'грабитель', 'грабительница', 'грабительский', 'грабить', 'градобитие', 'градобитный', 'градобойный', 'гребанный', 'гребаный', 'гребать', 'грех', 'греховный', 'грехопадение', 'грешить', 'грешник', 'грешница', 'грешный', 'грибковый', 'гримаса', 'грипп', 'грипповать', 'гриппозный', 'гробить', 'гроза', 'гроза', 'грозить', 'грозиться', 'грозность', 'грозный', 'громоздкий', 'громоздкость', 'грошовый', 'грубейший', 'грубить', 'грубиян', 'грубиянить', 'грубиянка', 'грубоватый', 'грубость', 'грубый', 'грудная жаба', 'груз', 'грузность', 'грузный', 'грустить', 'грустноватый', 'грустный', 'грусть', 'грустьпечаль', 'грыжа', 'грыжевой', 'грыжевый', 'грызня', 'грызться', 'грязненький', 'грязнить', 'грязнить', 'грязниться', 'грязноватый', 'грязный', 'грязь', 'губитель', 'губительность', 'губительный', 'губить', 'губошлеп', 'гугл в помощь', 'гэмблинг', 'гяур', 'гяурский', 'давать в лапу', 'давать взятку', 'давать вышку', 'давать на лапу', 'давить', 'давить', 'давить', 'давить', 'давка', 'далекий от совершенство', 'далекий', 'далекость', 'дальше декларации', 'дать в лапу', 'дать взятку', 'дать вышку', 'дать маху', 'дать на лапу', 'даун', 'дача взятку', 'двоевластие', 'двоевластный', 'двоедушие', 'двоедушный', 'двоемыслие', 'двойное налогообложение', 'двойное толкование', 'двойной стандарт', 'двойной стандарт', 'двойственность', 'двойственный', 'двоякий', 'двоякость', 'двуликий', 'двуликость', 'двуличие', 'двуличность', 'двуличный', 'двумыслие', 'двурушник', 'двурушница', 'двурушничать', 'двурушнический', 'двурушничество', 'двусмысленность', 'двусмысленный', 'дебил', 'дебилизм', 'дебилка', 'дебильный', 'дебош', 'дебошир', 'дебоширить', 'дебоширка', 'дебоширский', 'дебоширство', 'девальвационный', 'девальвация', 'девальвирование', 'девальвировать', 'девальвироваться', 'дегенерат', 'дегенеративный', 'дегенерационный', 'дегенерация', 'дегенерировать', 'деградация', 'деградировать', 'дедовский', 'дедовщина', 'дежавю', 'деза', 'дезертир', 'дезертировать', 'дезертирский', 'дезертирство', 'дезинформационный', 'дезинформация', 'дезинформирование', 'дезинформировать', 'дезорганизатор', 'дезорганизаторский', 'дезорганизаторство', 'дезорганизация', 'дезорганизовать', 'дезорганизовывать', 'действовать на нервы', 'декларативность', 'декларативный характер', 'декларативный', 'деланность', 'деланный', 'деликатность', 'деликатный', 'деликт', 'дело возбуждено', 'дело нечисто', 'дело по статье', 'дело серьезное', 'демагогический', 'демагогичность', 'демагогичный', 'демагогия', 'демагогствовать', 'деменция', 'демонизация', 'демонизировать', 'деморализация', 'деморализовать', 'демпинг', 'демпинговать', 'демпинговый', 'денежная пирамида', 'денежный мешок', 'денежный туз', 'деньги в никуда', 'деньги в труба', 'деньги на ветер', 'деньги на ветер', 'деньги не пахнут', 'деньги отмываются', 'деньги пропали', 'деньги снялись', 'деньги списали', 'депопуляционный', 'депопуляция', 'депортация', 'депортирование', 'депортировать', 'депресняк', 'депрессивность', 'депрессивный', 'депрессионный', 'депрессия', 'депрессняк', 'депрессовать', 'депрессуха', 'деревенеть', 'держать под колпаком', 'дерзить', 'дерзкий', 'дерзостный', 'дерзость', 'дерзость', 'дерматоз', 'дерьмище', 'дерьмо', 'дерьмо', 'дерьмовый', 'десинхрония', 'деспот', 'деспотизм', 'деспотический', 'деспотичность', 'деспотичный', 'деспотия', 'дестабилизационный', 'дестабилизация', 'дестабилизировать', 'дестабилизироваться', 'дестабильность', 'дестабильный', 'деструктивность', 'деструктивный', 'деструкция', 'детоубийство', 'детоубийца', 'дефект', 'дефектный', 'дефицит', 'дефицитность', 'дефицитный', 'дефляционный', 'дефляция', 'дефолт', 'дефолтный', 'деформация', 'деформирование', 'деформированность', 'деформировать', 'деформироваться', 'дешевенький', 'дешевка', 'дешевый', 'джетлаг', 'джихадист', 'диабет', 'диабетик', 'диабетический', 'диарея', 'дибил', 'дибильный', 'диверсант', 'диверсантка', 'диверсантский', 'диверсионный', 'диверсия', 'дизентерийный', 'дизентерия', 'дикарка', 'дикарский', 'дикарь', 'дикий', 'дикий', 'дикость', 'диктатор', 'диктаторский', 'диктаторство', 'диктатура', 'дилетантизм', 'дилетантство', 'дипрессия', 'директивность', 'директивный', 'дисбаланс', 'дисбалансовый', 'дисквалификационный', 'дисквалификация', 'дисквалифицировать', 'дисквалифицироваться', 'дискомфорт', 'дискомфортность', 'дискомфортный', 'дискредитация', 'дискредитирование', 'дискредитировать', 'дискриминационный', 'дискриминация', 'дискриминировать', 'диспепсия', 'диссидентство', 'диссидентствовать', 'диссонанс', 'диссонансный', 'дистония', 'дистрофик', 'дистрофический', 'дистрофичный', 'дистрофия', 'дисфункциональный', 'дисфункция', 'дисциплинарная мера', 'дисциплинарное воздействие', 'дифтерийный', 'дифтерит', 'дифтеритный', 'дифтерический', 'дифтерия', 'дичь', 'длиннота', 'для галочки', 'днем с огнем не сыскать', 'до сих пор не мочь', 'добровольный уход из жизни', 'доверие падает', 'доверие упало', 'довести до слез', 'доводить до слез', 'догматично верующий', 'договорный матч', 'договорняк', 'дождь льет', 'доза ионизирующего излучения', 'доза радиации', 'доза радиоактивного излучения', 'докуриваться', 'докуриться', 'докучать', 'докучливость', 'докучливый', 'докучность', 'докучный', 'долбануться', 'долбаный', 'долг', 'долго разбираться', 'долговой', 'долгострой', 'должник', 'должница', 'домашнее насекомое', 'домогательство', 'домогаться', 'доморощенность', 'доморощенный', 'домучиться', 'домушник', 'домушница', 'донжуан', 'донжуанский', 'донимать', 'доносительский', 'доносительство', 'доносчик', 'доносчица', 'доносчицкий', 'донять', 'допекать', 'допечь', 'допинг', 'допинговый', 'допотопность', 'допотопный', 'дороговатый', 'дороговизна', 'дорогой', 'дорогущий', 'дорожная пробка', 'досада', 'досадить', 'досадный', 'досадовать', 'досаждать', 'доставать', 'достать', 'доступный лишь', 'досужий', 'дохлый', 'дохляк', 'дохлячка', 'дошлый', 'дразнить', 'дразнить', 'дразнить', 'дразниться', 'драка', 'драконовский', 'драматизация ситуации', 'драматизация', 'драматизировать ситуацию', 'драматизировать', 'драматизм', 'драматический', 'драматический', 'драматичность', 'драматичный', 'драться', 'драчун', 'драчунья', 'дрейфить', 'дремучесть', 'дремучий', 'дрожание', 'дрожать', 'дрожать', 'дрожать', 'дрожь', 'дрожь', 'дротить', 'дрочить', 'дряблость', 'дряблый', 'дрязги', 'дрянной', 'дрянь', 'дряхлость', 'дряхлый', 'дубак', 'дубина стоеросовая', 'дубина', 'дублирование функций', 'дуболом', 'дура', 'дурак', 'дуралей', 'дурацкий', 'дурачина', 'дурачок', 'дурачье', 'дурень', 'дуреть', 'дуреха', 'дурка', 'дурманить', 'дурнеть', 'дурновкусие', 'дурной', 'дурость', 'дурочка', 'дурь в голове', 'дурь', 'дурья голова', 'дутый', 'дуться', 'духота', 'душа в пятки ушла', 'душа не на месте', 'душевная пустота', 'душевная тяжесть', 'душегуб', 'душераздирающий', 'душный', 'душок', 'душу воротит', 'дыра', 'дыра', 'дыра', 'дыра', 'дырявый', 'дышать на ладан', 'дюжинный', 'егозить', 'егозить', 'егозливый', 'едет крыша', 'единственное достоинство', 'единственный плюс', 'едкий', 'едкий', 'едкий', 'едкость', 'еле-еле', 'елейность', 'елейный', 'ересь', 'еретик', 'еретический', 'еретичка', 'ерничанье', 'ерничать', 'ернический', 'ерничество', 'ерунда', 'ерундовый', 'ершистость', 'ершистый', 'если бы не было так грустно', 'есть гораздо лучше', 'есть и получше', 'есть к чему придраться', 'есть одно но', 'есть пожелание', 'ехидность', 'ехидный', 'жадина', 'жадничать', 'жадность', 'жадный', 'жадюга', 'жажда', 'жалеть о прошедшем', 'жалеть о прошлом', 'жалеть', 'жалеть', 'жалеть', 'жалить', 'жалкий', 'жалкость', 'жалоба', 'жалоба', 'жалобность', 'жалобный', 'жаловаться', 'жаловаться', 'жаловаться', 'жалостливый', 'жалостность', 'жалостный', 'жалость', 'жара', 'жарынь', 'жгучий', 'жгучий', 'жгучий', 'ждать исправления', 'жевать жвачку', 'железный занавес', 'желтизна', 'желторотость', 'желторотый', 'желтуха', 'желтушность', 'желтушный', 'желчность', 'желчный', 'женоненавистник', 'женоубийство', 'женоубийца', 'женщина легкого поведения', 'жертва', 'жертва', 'жестковатый', 'жесткосердие', 'жесткосердный', 'жесткосердый', 'жестокий', 'жестокость', 'жечь', 'жечь', 'жечься', 'жжение', 'жжение', 'живодер', 'живодерка', 'живодерский', 'жидкий стул', 'жизненное испытание', 'жизненный удар', 'жизньболь', 'жирный', 'жирный', 'жиробас', 'жируха', 'жмот', 'жопка', 'жопонька', 'жулик', 'жульничать', 'жульнический', 'жульничество', 'жупел', 'журить', 'жуткий', 'жутковатый', 'жуткость', 'жуть', 'жучить', 'за бортом оставаться', 'за бортом остаться', 'за гроши', 'за сущие гроши', 'за что деньги', 'заангажированность', 'заангажированный', 'заартачиться', 'забанить', 'забастовать', 'забастовка', 'забастовочный', 'забастовщик', 'забастовщица', 'забегаться', 'забеспокоиться', 'забитость', 'забитый', 'забияка', 'заблуждаться', 'заблуждение', 'заболеваемость', 'заболевание', 'заболевать', 'заболеть', 'забормотать', 'заботить', 'забуксовать', 'забулдыга', 'забывчивость', 'забывчивый', 'забытье', 'заважничать', 'завал', 'завал', 'заваливать', 'заваливать', 'заваливать', 'заваливать', 'завалить', 'завалить', 'завалить', 'завалить', 'завальный', 'заведение дела', 'заведомый', 'завести дело', 'заветировать', 'завидки берут', 'завидно', 'завидовать', 'завиральный', 'завираться', 'зависимость', 'зависимость', 'зависимость', 'завистливый', 'завистник', 'завистница', 'завистнический', 'зависть', 'завладение', 'завоеватель', 'заволноваться', 'заволынить', 'завраться', 'завысить цену', 'завысить', 'завышать цену', 'завышать', 'завышение', 'завышенность', 'завышенный', 'загадить', 'загаживать', 'загваздать', 'загваздаться', 'загвоздка', 'заглохнуть', 'загнать', 'загнивание', 'загнивать', 'загнить', 'загноение', 'заговор', 'заговорщик', 'заговорщица', 'заговорщицкий', 'заговорщический', 'заголосить', 'загонять', 'загордиться', 'загрубелость', 'загрубелый', 'загрустить', 'загрязнение', 'загрязнение', 'загрязнение', 'загрязнение', 'загрязненность', 'загрязнитель', 'загрязнить', 'загрязниться', 'загрязнять', 'загрязняться', 'загубить', 'загубить', 'задавака', 'задаваться', 'задворки', 'задевать самолюбие', 'задевать', 'задевать', 'задеревенеть', 'задержание', 'задержка', 'задержка', 'задержка', 'задержка', 'задеть самолюбие', 'задеть', 'задира', 'задирать цену', 'задним числом', 'задолбать', 'задолженность', 'задолжник', 'задорого', 'задохнуться', 'задохнуться', 'задрать нос', 'задрать цену', 'задрачивать', 'задрот', 'задротить', 'задубеть', 'задыхаться', 'задыхаться', 'задыхаться', 'заедание', 'заедать', 'заездить', 'заезженность', 'заезженный', 'заезживать', 'заесть', 'заесть', 'зажатость', 'зажатый', 'зажраться', 'зазвездиться', 'зазевать', 'зазеваться', 'зазевываться', 'зазнаваться', 'зазнайка', 'зазнайство', 'зазнаться', 'зазорный', 'зазубривание', 'зазубривать', 'зазубрить', 'зазябнуть', 'заигрывание', 'заигрывать', 'заигрывать', 'заика', 'заикание', 'заикаться', 'заискивание', 'заискивать', 'зайти слишком далеко', 'закабаление', 'закабалить', 'закабалять', 'закапризничать', 'закатить концерт', 'закашлять', 'закисать', 'закисать', 'закиснуть', 'закиснуть', 'закладывать за воротник', 'заклеймить', 'заклинивание', 'заклинивать', 'заклиниваться', 'заклинить', 'заклиниться', 'заключение', 'заклятый', 'заколебать', 'заколоть', 'заколоть', 'закомплексованность', 'закомплексованный', 'закомплексовать', 'закон не писан', 'закончить за упокой', 'закончиться пшиком', 'закопаться', 'закоренелость', 'закоренелый', 'закоротить', 'закоснелость', 'закоснелый', 'закостенелость', 'закостенелый', 'закостенение', 'закостенеть', 'закоченеть', 'закрепостить', 'закрепощать', 'закрепощение', 'закрутить все гайки', 'закрутить гайки', 'закручивание всех гаей', 'закручивание гаек', 'закручивать все гайки', 'закручивать гайки', 'закручиниться', 'закрытие границы', 'закрытие школы', 'закрытость', 'закрытый перелом', 'закулисный', 'закупорка кровеносного сосуда', 'закупорка сосуда', 'закусать', 'заледенеть', 'заледенеть', 'залезать в долги', 'залезть в долги', 'заливать кровью', 'залипать', 'залипнуть', 'залить кровью', 'залихорадить', 'заложить за воротник', 'заложник', 'заложница', 'заложничество', 'заляпаный', 'заляпать', 'заляпывать', 'замарать', 'замарать', 'замараться', 'заматерелость', 'заматерелый', 'замашка', 'замерзание', 'замерзание', 'замерзать', 'замерзать', 'замерзнуть', 'замерзнуть', 'замести следы', 'заметать следы', 'заметаться', 'заметаться', 'замешательство', 'замкнутость', 'замкнутый', 'замкнуться в себе', 'замор', 'заморачивать', 'замориться', 'заморочка', 'замотаться', 'замусоривание', 'замусоривать', 'замусорить', 'замутить', 'замутить', 'замутиться', 'замутнение', 'замутнеть', 'замучить', 'замучиться', 'замызгать', 'замызгивать', 'замыкание в проводах', 'замыкание в проводке', 'замыкание проводки', 'замыкание электропроводки', 'замыкаться в себе', 'замяться', 'занедужить', 'занеметь', 'занемочь', 'занесение снегом', 'занести при движении', 'занести снегом', 'занестись', 'занижать', 'занижение', 'занизить', 'занос', 'заносить при движении', 'заносить снегом', 'заноситься', 'заноситься', 'заноситься', 'заноситься', 'заносчивость', 'заносчивый', 'заношенность', 'заношенный', 'занудливость', 'занудливый', 'занудность', 'занудный', 'занудство', 'заныть', 'заныть', 'заныть', 'заоблачная цена', 'заорать', 'западня', 'запаздывание', 'запаздывать', 'запал', 'запальный', 'запальчивость', 'запальчивый', 'запаниковать', 'запар', 'запарка', 'запарывать', 'запарывать', 'запачкать', 'запачкать', 'запачкаться', 'запашок', 'запилить', 'запить горькую', 'заплевать', 'заплевывать', 'заподазривать', 'заподозрить', 'запоздалый', 'запоздание', 'запоздать', 'запой', 'запойный', 'заполитизировать', 'запор кишечника', 'запор', 'запороть', 'запороть', 'запрет', 'запретительный', 'запретить', 'запретный', 'запрещать', 'запрещаться', 'запрещение', 'запропаститься', 'запропасть', 'запротестовать', 'запуганность', 'запуганный', 'запудрить мозги', 'запустение', 'запутанность', 'запутанный', 'запутать', 'запутать', 'запутать', 'запутать', 'запутаться', 'запутаться', 'запутывание', 'запутывать', 'запутывать', 'запутывать', 'запутывать', 'запутываться', 'запутываться', 'запущенность', 'запущенный', 'запьянеть', 'заражать', 'заражаться', 'заражение', 'зараза', 'заразить', 'заразиться', 'заразность', 'заразный', 'зарезаться', 'зариться', 'заругаться', 'засилье', 'засирать', 'заскучать', 'засмущаться', 'засомневаться', 'засорение', 'засориться', 'засоряться', 'засранец', 'засрать', 'застаиваться', 'застаиваться', 'застарелость', 'застарелый', 'застенчивость', 'застенчивый', 'застесняться', 'застой', 'застойность', 'застойный', 'застопориваться', 'застопорить', 'застопориться', 'застопориться', 'застояться', 'застояться', 'застреливаться', 'застрелиться', 'застывать', 'застыдиться', 'застынуть', 'застыть', 'засудить', 'засуетиться', 'засуживание', 'засуживать', 'засуха', 'засушливость', 'засушливый', 'затасканность', 'затасканный', 'затерроризировать', 'затеряться', 'заткнуться', 'затмение мозга', 'затмение сознания', 'затмение', 'затопление', 'затоплять', 'затопляться', 'затор', 'заторможенность', 'заторможенный', 'затормозить', 'заторный', 'затосковать', 'затошнить', 'затравить', 'затрата', 'затрахать', 'затруднение', 'затруднительность', 'затруднительный', 'затруднить', 'затрудниться', 'затруднять', 'затрудняться', 'затрястись', 'затрястись', 'затуманивать', 'затуманить', 'затхлость', 'затхлый', 'затыкаться', 'затягивание', 'затягивание', 'затягивать', 'затягивать', 'затяжка', 'затяжка', 'затяжка', 'затяжной', 'затянутость', 'затянутый', 'затянуть', 'затянуть', 'заумность', 'заумный', 'заунывность', 'заунывный', 'заупрямиться', 'заурядность', 'заурядный', 'захваливание', 'захваливать', 'захвалить', 'захват власти', 'захват компании', 'захват морского судна', 'захват организации', 'захват предприятия', 'захват фирмы', 'захват', 'захват', 'захватить компанию', 'захватить предприятие', 'захватнический', 'захватчик', 'захворать', 'захилеть', 'захиреть', 'захлебнуться', 'захлебнуться', 'захлебнуться', 'захлебнуться', 'захлебывание', 'захлебываться', 'захлебываться', 'захлебываться', 'захлебываться', 'захлопотаться', 'захмелеть', 'захолустный', 'захолустье', 'захоранивать', 'захоронение', 'захоронить', 'захрипеть', 'зацепить за живое', 'зацепить', 'зацепить', 'зачахнуть', 'зачинщик', 'зачинщица', 'зачинщицкий', 'заштатный', 'зашумленность', 'звереть', 'звериный', 'зверский', 'зверство', 'зверствовать', 'зверь', 'зверье', 'звизда', 'здоровский', 'зевать', 'зевнуть', 'зевок', 'зеленый змий', 'зеленый', 'зеленый', 'зеленый', 'землетрясение', 'злеть', 'злить', 'злиться', 'злиться', 'зло', 'злоба', 'злобиться', 'злобность', 'злобный', 'злобствование', 'злобствованье', 'злобствовать', 'зловещий', 'зловоние', 'зловонность', 'зловонный', 'зловредность', 'зловредный', 'злодей', 'злодейка', 'злодейский', 'злодейство', 'злодействовать', 'злодеяние', 'злодеянье', 'злой', 'злокачественность', 'злокачественный', 'злоключение', 'злокозненность', 'злокозненный', 'злонамеренность', 'злонамеренный', 'злопамятность', 'злопамятный', 'злопамятство', 'злополучность', 'злополучный', 'злопыхатель', 'злопыхательница', 'злопыхательный', 'злопыхательский', 'злопыхательство', 'злопыхательствовать', 'злорадный', 'злорадство', 'злорадствовать', 'злословие', 'злословить', 'злостность', 'злостный', 'злость', 'злосчастность', 'злосчастный', 'злоумышленник', 'злоумышленница', 'злоумышленный', 'злоупотребить', 'злоупотребление', 'злоупотреблять', 'злыдень', 'злыдня', 'злюка', 'злючка', 'знобить', 'зомби', 'зомбирование', 'зомбировать', 'зря', 'зряшный', 'зубоскал', 'зубоскалить', 'зубоскалка', 'зубоскальничать', 'зубоскальский', 'зубоскальство', 'зубрежка', 'зубрила', 'зубрилка', 'зубрить', 'зуд', 'зудеть', 'зудеть', 'зудеть', 'зудить', 'зудить', 'зудить', 'зыбкий', 'зыбкость', 'зябнуть', 'игнор', 'игнореть', 'игнорирование', 'игнорировать', 'игнорить', 'игра на публику', 'играть на нервах', 'играть на публику', 'игроман', 'игромания', 'игрушечный', 'игрушка в руках', 'игрушка в чужих руках', 'игрушка', 'идеализация', 'идеализирование', 'идеализировать', 'идеализм', 'идея не нова', 'идиот', 'идиотизм', 'идиотка', 'идиотский', 'идти на панель', 'идти по головам', 'идти поверх голов', 'идти под откос', 'идти под суд', 'иезуитский', 'иезуитство', 'иждивенец', 'иждивенство', 'иждивенческий', 'иждивенчество', 'из пальца высасывать', 'из пальца высосать', 'из рук вон', 'из рук вон', 'избалованность', 'избалованный', 'избаловать', 'избивать', 'избиваться', 'избиение', 'избитая истина', 'избитость', 'избитый', 'избитый', 'избить', 'избыток', 'избыточность', 'избыточный', 'изверг', 'извержение', 'извериваться', 'извериться', 'извести', 'извести', 'извести', 'известись', 'изветшалость', 'изветшалый', 'извод', 'изводить', 'изводить', 'изводить', 'изводиться', 'извозить', 'изворотливость', 'изворотливый', 'извратить', 'извращать', 'извращенец', 'извращение', 'извращенка', 'извращенный', 'изгадить', 'изгаляться', 'изгой', 'изголодаться', 'издеватель', 'издевательница', 'издевательский', 'издевательство', 'издеваться', 'издевка', 'издержки', 'изжога', 'изламываться', 'излишек', 'излишество', 'излишний', 'излияние крови', 'изломаться', 'измазать', 'измазаться', 'измарать', 'изматывание', 'изматывать', 'изматываться', 'измаяться', 'измена', 'измена', 'изменило чувство меры', 'изменить', 'изменить', 'изменник', 'изменница', 'изменнический', 'изменять', 'изменять', 'измождение', 'изможденный', 'измориться', 'измотать', 'измотаться', 'измочаливать', 'измочаливать', 'измочалить', 'измочалить', 'измучить', 'измучиться', 'измывательский', 'измывательство', 'измываться', 'измызгать', 'измызгивать', 'измышление', 'измяться', 'изнасилование', 'изнасиловать', 'изнашивание', 'изнашивать', 'изнашиваться', 'изнемогать', 'изнеможение', 'изнеможенность', 'изнеможенный', 'изнемочь', 'изничтожать', 'изничтожить', 'износ', 'износить', 'износиться', 'изношенность', 'изношенный', 'изнурение', 'изнуренность', 'изнуренный', 'изнурительность', 'изнурительный', 'изнурить', 'изнурять', 'изнывать', 'изныть', 'изовраться', 'изолгаться', 'изоляция', 'изранить', 'изругать', 'изувер', 'изуверка', 'изуверский', 'изуверство', 'изуверствовать', 'изувечивать', 'изувечить', 'изуродовать', 'изъян', 'иллюзия', 'иллюзорность', 'иллюзорный', 'имбецил', 'иммунодефицит', 'иммунодефицитный', 'иммунопатологический', 'иммунопатология', 'имперский', 'инакомыслие', 'инвазионный', 'инвазия', 'индифферентность', 'индифферентный', 'инертность', 'инертный', 'инородец', 'инородность', 'инородный', 'иностранное вмешательство', 'иностранный агент', 'иностранный разведчик', 'инспирирование', 'инспирировать', 'инсульт', 'инсультный', 'инсургент', 'интервент', 'интервентский', 'интервенция', 'интоксикация', 'интрига', 'интриган', 'интриганка', 'интриганский', 'интриганство', 'интриговать', 'инфантилизм', 'инфантильность', 'инфантильный', 'инфаркт', 'инфарктник', 'инфарктный', 'инфекционный', 'инфекция', 'инфицирование', 'инфицировать', 'инфлюэнца', 'инфляционный', 'инфляция', 'инцест', 'инцидент', 'ирод', 'иррациональность', 'иррациональный', 'иск', 'искажать', 'искажать', 'искажаться', 'искажение', 'искажение', 'искажение', 'исказить', 'исказить', 'исказиться', 'искалечить', 'искать логику', 'исковеркать', 'искорежить', 'искусать', 'искусственность', 'искусственный', 'искусывать', 'искушать судьбу', 'исламизация', 'исламизировать', 'исламизм', 'исламист', 'исламистка', 'исламистский', 'исламофобия', 'испачкать', 'испачкаться', 'испоганить', 'испортить', 'испортиться', 'испражнение', 'испражниться', 'испражняться', 'испуг', 'испугаться', 'испытание', 'испытания в жизни', 'испытать судьбу', 'испытывать комплекс', 'испытывать судьбу', 'иссохнуть', 'исстрадаться', 'иссушать', 'иссушивание', 'иссушивать', 'иссушить', 'иссыхать', 'истачиваться', 'истереть', 'истереться', 'истерить', 'истеричка', 'истирание', 'истирать', 'истираться', 'истомиться', 'истосковаться', 'истощать', 'истощение', 'истощить', 'истрепать нервы', 'истязание', 'истязатель', 'истязательница', 'истязательский', 'истязать', 'исхудалость', 'исхудалый', 'исхудание', 'исхудать', 'исчахнуть', 'иуда', 'ишемический', 'ишемия', 'к черту', 'кабала', 'кабальность', 'кабальный', 'кавардак', 'каверзность', 'каверзный', 'казаться лишним', 'каземат', 'казенность', 'казенный', 'казенщина', 'казнить', 'казнокрад', 'казнокрадка', 'казнокрадство', 'казнь', 'казус', 'кайф', 'как бочка', 'как в воду кануть', 'как вам не стыдно', 'как карточный домик', 'как корова языком слизнула', 'как кость в горле', 'как мертвому припарка', 'как ни в чем не бывало', 'как ни стараться', 'как сквозь землю провалиться', 'как скелет', 'как сонная муха', 'какать', 'какого черта', 'калечить', 'каменное лицо', 'каменность', 'каменный', 'камень на душе', 'камень на сердце', 'камень преткновения', 'камень преткновения', 'камнепад', 'кандидат на вылет', 'канителиться', 'канитель', 'канительное дело', 'канительщик', 'канительщица', 'канительщицкий', 'каннибал', 'каннибализм', 'каннибальский', 'каннибальство', 'кануть', 'канцелярская крыса', 'канцелярщина', 'канцер', 'канцерный', 'канцероген', 'канцерогенность', 'канцерогенный', 'канючить', 'капееец', 'капеец', 'капец', 'капкан', 'каприз', 'каприз', 'капризничать', 'капризность', 'капризный', 'капуша', 'кара', 'кардиобольной', 'кариес', 'карикатура', 'карикатурность', 'карикатурный', 'кариозный', 'карманник', 'карманница', 'картинность', 'картинный', 'катавасия', 'катаклизм', 'каталажка', 'катар', 'катаральный', 'катастрофа', 'катастрофически', 'катастрофический', 'катастрофичность', 'катастрофичный', 'категоричность', 'категоричный', 'катить бочку', 'катиться под откос', 'каторжный труд', 'кашель', 'кашлять', 'каюк', 'квасить', 'кибератака', 'кибер-атака', 'кибернетическая атака', 'киберпреступление', 'киберпреступник', 'киберпреступность', 'киберсквоттер', 'киберсквоттинг', 'кибертерроризм', 'киберугроза', 'кибершпионаж', 'кидалово', 'кидануть', 'киллджой', 'киллер', 'киллерский', 'киллерство', 'киллерша', 'кисловатый', 'кислость', 'кислый', 'кислый', 'киснуть', 'киснуть', 'кичиться', 'кичливость', 'кичливый', 'классуха', 'класть под сукно', 'клаустрофобия', 'клевета', 'клеветать', 'клеветник', 'клеветница', 'клеветнический', 'клеймить', 'клеймо на репутации', 'клеймо позора', 'клеймо', 'клептократия', 'клептоман', 'клептомания', 'клептоманка', 'клещ', 'клещевой', 'клинический случай', 'клоп', 'клоун', 'клубок проблем', 'клянчить', 'клясть', 'клясть', 'кобениться', 'коверканье', 'коверкать', 'ковыряться', 'кожа да кости', 'кожа и кости', 'кожное раздражение', 'козни', 'кокать', 'кокнуть', 'коктейль молотова', 'колбасить', 'колдовать', 'колдовской', 'колдовство', 'колейность', 'коленопреклоненный', 'колика', 'колит', 'колитный', 'колкий', 'колкий', 'колкость', 'колкость', 'колкость', 'коллаборационизм', 'коллаборационист', 'коллаборационистский', 'коллапс', 'коллизионный', 'коллизия', 'колониализм', 'колонизатор', 'колонизаторский', 'колонизация', 'колорадский жук', 'колоть', 'колоть', 'колоть', 'колоть', 'колотье', 'колоться', 'кольнуть', 'кольнуть', 'кольнуть', 'колючесть', 'колючий', 'ком в горле', 'ком к горлу', 'кома', 'коматозный', 'комковатость', 'комковатый', 'комок в горле', 'комок к горлу', 'комплексовать', 'компромат', 'компроматный', 'компрометация', 'компрометирование', 'компрометировать', 'конвульсивный', 'конвульсия', 'конкурент', 'конкурентка', 'конокрад', 'конституционный переворот', 'контаминант', 'контрабанда', 'контрабандист', 'контрабандистка', 'контрабандистский', 'контрабандный', 'контрафакт', 'контрафактный', 'контрафакция', 'контрзаговор', 'контрпродуктивность', 'контрпродуктивный', 'контрреволюционный', 'контрреволюция', 'контузить', 'контузия', 'конфискационный', 'конфискация', 'конфисковать', 'конфисковывать', 'конфликт', 'конфликтность', 'конфликтный', 'конфликтовать', 'конфликтующий', 'конформист', 'конформистка', 'конфронтационность', 'конфронтационный', 'конфронтация', 'конфронтировать', 'конфуз', 'конфузиться', 'конфузный', 'концлагерь', 'конченный', 'конченый', 'кончина', 'конъюнктурщик', 'конъюнктурщица', 'копание', 'копание', 'копаться', 'копаться', 'копеечная плата', 'копеечный', 'копеечный', 'копеечный', 'копун', 'копунья', 'копуша', 'коревой', 'корежить', 'корить', 'корнать', 'коробить', 'корова', 'короткое замыкание', 'коротнуть', 'корродирование', 'корродировать', 'корродироваться', 'коррозийный', 'коррозионный', 'коррозировать', 'коррозия души', 'коррозия', 'коррумпирование', 'коррумпированность', 'коррумпированный', 'коррумпировать', 'коррумпироваться', 'коррупционер', 'коррупционерский', 'коррупционность', 'коррупционный', 'коррупция', 'корча', 'корыстный', 'корыстолюбец', 'корыстолюбивый', 'корыстолюбие', 'корысть', 'корь', 'корявость', 'корявый', 'коситься', 'коситься', 'космическая цена', 'космополит', 'космополитизм', 'космополитический', 'космополитичный', 'космополитка', 'косо глядеть', 'косо смотреть', 'костенеть', 'костерить', 'костить', 'костлявость', 'костлявый', 'костный перелом', 'косяк', 'косячить', 'котел окружения', 'кочевряжиться', 'коченеть', 'кошмар', 'кошмар', 'кошмарный', 'кошмарный', 'кошмарный', 'кощунственный', 'кощунство', 'кощунствовать', 'кража', 'крайность', 'крайняя степень', 'крамола', 'крамольный', 'красивость', 'красная карточка', 'краснеть от стыда', 'краснобайство', 'красного петуха пустить', 'краснуха', 'красть', 'крах', 'крепкоголовость', 'крепкоголовый', 'крепколобость', 'крепколобый', 'кретин', 'кретинка', 'кривить душой', 'кривить лицо', 'кривить нос', 'кривить рот', 'кривить сердцем', 'кривить совестью', 'кривляка', 'кривлянье', 'кривляться', 'криворукий', 'кривотолки', 'кризис', 'кризис', 'кризисность', 'кризисный', 'крикун', 'крикунья', 'криминал', 'криминализация', 'криминалитет', 'криминальный', 'криминогенность', 'криминогенный', 'критика', 'критикан', 'критиканка', 'критиканский', 'критиканство', 'критиканствовать', 'критиковать', 'критический', 'критичность', 'критичный', 'кричать во все горло', 'кровавый', 'кровища', 'кровожадность', 'кровожадный', 'кровоизлияние', 'кровопивец', 'кровопийца', 'кровоподтек', 'кровопотеря', 'кровопролитие', 'кровопролитнейший', 'кровопролитный', 'кровосмесительный', 'кровосмесительство', 'кровосмешение', 'кровосос', 'кровотечение', 'кровоточить', 'кровь в моче', 'кровь невинных', 'крокодиловы слезы', 'крокодильи слезы', 'кромешный', 'крохобор', 'крохоборка', 'круговая порука', 'кружится голова', 'крутой', 'крутость', 'кручина', 'крушение', 'крушение', 'крушение', 'крушить', 'крыса', 'крыса', 'крыть матом', 'крыть матом', 'крыть', 'крыша едет', 'крыша поехала', 'крючкотвор', 'крючкотворка', 'крючкотворский', 'крючкотворство', 'ксенофоб', 'ксенофобия', 'ксенофобка', 'ксенофобский', 'кукла в чужих руках', 'кукла', 'кулуарность', 'кулуарный', 'культ личности', 'кумовство', 'куражиться', 'курение', 'куролесить', 'кусать локти', 'кусать себе локти', 'кустарный', 'кутузка', 'куча лишнего', 'лабуда', 'лавина', 'лавиноопасный', 'лагать', 'лазейка', 'лакей', 'лакомый кусок', 'лакомый кусочек', 'ламентация', 'лапать', 'лапша на уши', 'лапша', 'латание дыр', 'латать дыры', 'лгать', 'лгун', 'лгунишка', 'лгунья', 'лебезить', 'левый алкоголь', 'легализация доходов', 'легализация проституток', 'легализация проституции', 'легкий', 'легковесность', 'легковесный', 'легкомысленность', 'легкомысленный', 'легкомыслие', 'легкость', 'леденеть', 'леденеть', 'леденить', 'леденящий', 'ледяной', 'ледяной', 'лежебока', 'лезть в петлю', 'лезть не в свое дело', 'лезть', 'лейкемия', 'лейкоз', 'лейкозный', 'ленивец', 'ленивость', 'ленивый', 'лениться', 'леность', 'лентяй', 'лентяйка', 'лентяйничать', 'лентяйствовать', 'лень', 'лесть', 'летальный', 'летаргический', 'летаргия', 'лечение', 'лжебанкрот', 'лженаука', 'лженаучный', 'лжепредпринимательство', 'лжец', 'лживость', 'лживый', 'лизоблюд', 'лизоблюдка', 'лизоблюдничать', 'лизоблюдство', 'ликвидация', 'липа', 'липовый', 'лить воду на мельницу', 'лить как из ведра', 'лихач', 'лихаческий', 'лихачество', 'лихачить', 'лихачка', 'лихорадить', 'лихорадка', 'лихорадка', 'лихорадка', 'лихорадка', 'лихорадочность', 'лихорадочность', 'лихорадочный', 'лихорадочный', 'лихорадочный', 'лихорадочный', 'лицемер', 'лицемерие', 'лицемерить', 'лицемерка', 'лицемерность', 'лицемерный', 'лицемерский', 'лицеприятность', 'лицеприятный', 'лицо без определенного места жительства', 'лишаться сил', 'лишение', 'лишенный смысла', 'лишить права', 'лишиться дара речи', 'лишиться жизни', 'лишиться здоровья', 'лишиться сил', 'лишний вес', 'лишний', 'лишний', 'лишь марионетка', 'лишь с натяжкой', 'лоботряс', 'лоботряска', 'лоботрясничать', 'ловелас', 'ловкаческий', 'ловкачка', 'ловушка', 'логическая дыра', 'логическая несостыковка', 'лодырничать', 'лодырь', 'ложность', 'ложный', 'ложь', 'ломака', 'ломаного гроша не стоит', 'ломанье', 'ломаться', 'ломаться', 'ломаться', 'ломаться', 'ломкий', 'ломкость', 'лопаться', 'лопнуть', 'лопух', 'лопухнуться', 'лох', 'лохануться', 'лохотронщик', 'лохушка', 'лошара', 'лудоман', 'лудомания', 'лузер', 'лукавить', 'лукавство', 'лупцевать', 'лупцовка', 'лучевая болезнь', 'лучше не стало', 'лыко не вяжет', 'лысеть', 'лысина', 'лысоватый', 'лысый', 'льстец', 'льстивость', 'льстивый', 'льстить', 'льстица', 'любительство', 'любовь к халяве', 'людишки', 'людоед', 'людоедский', 'людоедство', 'люмбаго', 'лютовать', 'лютость', 'лютый', 'лямзить', 'лямка', 'ляп', 'ляпать', 'ляпнуть', 'магия', 'мазаться', 'мазафака', 'мазохизм', 'мазохист', 'мазохистка', 'мазохистский', 'малейший', 'мало интересного', 'мало информации', 'мало не покажется', 'мало полезного', 'мало того', 'мало хорошего', 'маловажность', 'маловажный', 'маловато', 'маловразумительный', 'маловыгодный', 'маловыразительность', 'маловыразительный', 'малограмотность', 'малограмотный', 'малодушие', 'малодушный', 'малозначащий', 'малозначимость', 'малозначимый', 'малозначительный', 'малоимущий', 'малоинтересный', 'малокомпетентность', 'малокомпетентный', 'малокровие', 'малообеспеченность', 'малообеспеченный', 'малообоснованность', 'малообоснованный', 'малообразованный', 'малообщительность', 'малообщительный', 'малоопытность', 'малоопытный', 'малоосмысленность', 'малоосмысленный', 'малопонятный', 'малопочтенный', 'малопригодность', 'малопригодный', 'малопримечательный', 'малопристойность', 'малопристойный', 'малоприятный', 'малопродуктивный', 'малореалистичный', 'малорезультативный', 'малосведущий', 'малосильный', 'малосимпатичный', 'малосодержательный', 'малость', 'малосущественный', 'малоубедительность', 'малоубедительный', 'малоудачный', 'малоутешительный', 'малоэффективность', 'малоэффективный', 'малярийный', 'малярия', 'мандраж', 'маниакальный', 'маниакальный', 'манипулирование', 'манипулировать', 'манипулятивный', 'манипуляция', 'мания', 'мания', 'маразм', 'маразм', 'маразматический', 'маразматический', 'марионетка в чужих руках', 'марионетка', 'марионеточный', 'мародер', 'мародерка', 'мародерский', 'мародерство', 'мародерствовать', 'мародерша', 'мастурбация', 'мастурбировать', 'мат', 'мат', 'материть', 'материться', 'матернуться', 'матерный', 'матерок', 'матерость', 'матерщина', 'матерый', 'мат-перемат', 'матюгаться', 'матюгнуться', 'мафиози', 'мафиозность', 'мафиозный', 'мафия', 'махинатор', 'махинация', 'махровый', 'маяться', 'мегера', 'медвежий угол', 'медвежья услуга', 'медлительность', 'медлительный', 'медовый', 'меланхолический', 'меланхолия', 'мелкая рыбешка', 'мелкая сошка', 'мелкий', 'мелковатый', 'мелкотравчатый', 'мелочиться', 'менингит', 'менингитный', 'менторский', 'мерзавец', 'мерзавка', 'мерзкий', 'мерзляк', 'мерзнуть', 'мерзнуть', 'мерзопакостность', 'мерзопакостный', 'мерзостность', 'мерзостный', 'мерзость', 'меркантилизм', 'меркантильность', 'меркантильный', 'меркнуть в сравнении', 'меркнуть в тени', 'меркнуть на фоне', 'меркнуть перед', 'меркнуть', 'местечковость', 'местечковый', 'месть', 'метание', 'метание', 'метастаз', 'метастатический', 'метаться', 'метаться', 'метаться', 'метелить', 'метеоризм', 'механически копировать', 'механическое копирование', 'мешанина', 'мешанина', 'мешать', 'мешок костей', 'мздоимец', 'мздоимица', 'мздоимство', 'мигреневый', 'мигрень', 'мизантроп', 'мизантропка', 'мизер', 'мизерность', 'мизерный', 'микоз', 'микроинфаркт', 'микротрещина', 'мина', 'мина', 'миновать закон', 'минор', 'минорный', 'минус только один', 'минус', 'миньон', 'мираж', 'мистификатор', 'мистификаторский', 'мистификаторша', 'миф', 'миф', 'мифический', 'мнимость', 'мнимый', 'мнительность', 'мнительный', 'мнить', 'много мелких', 'много рекламаы', 'многословие', 'многословность', 'многословный', 'многотрудность', 'многотрудный', 'могильщик', 'моджахед', 'моджахедский', 'мокрое дело', 'молокосос', 'молокососка', 'монополизация', 'монополизировать', 'монополизм', 'монополист', 'монополия', 'монстр', 'монстр', 'монстр', 'мор', 'моралистический', 'морально опуститься', 'морально разложить', 'морально разложиться', 'морально устареть', 'моральное падение', 'моральное разложение', 'моральное устаревание', 'мордобой', 'моретрясение', 'морока', 'морфинизм', 'морщина', 'морщинистость', 'морщинистый', 'морщинка', 'мот', 'мотать душу', 'мотать нервы', 'мотать срок', 'мотовка', 'мотовской', 'мотовство', 'мошенник', 'мошенница', 'мошенничать', 'мошеннический', 'мошенничество', 'мощное давление', 'мразь', 'мрак', 'мрак', 'мракобес', 'мракобесие', 'мракобесный', 'мрачнее тучи', 'мрачноватый', 'мрачность', 'мрачный', 'мститель', 'мстительница', 'мстительность', 'мстительный', 'мстить', 'мудрить', 'мудрствование', 'мудрствовать', 'мука', 'мура', 'мурашки', 'мусор', 'мусорить', 'мусорный', 'мутант', 'мутация', 'мутить', 'мутить', 'мутить', 'мутиться', 'мутиться', 'мутнеть', 'мутноватый', 'мутность', 'мутный', 'муторность', 'муторный', 'муть в голове', 'муть в мозгах', 'муть', 'муть', 'мухлевать', 'мухосранск', 'мучать', 'мучение', 'мучение', 'мученик', 'мученица', 'мученический', 'мученичество', 'мучитель', 'мучительница', 'мучительный', 'мучительский', 'мучительство', 'мучить', 'мучиться', 'мхом покрыться', 'мщение', 'мыслишка', 'мытарить', 'мытарство', 'мышеловка', 'мышцу свело', 'мягко говоря', 'мягко говоря', 'мягкотелость', 'мягкотелый', 'мямля', 'мятеж', 'мятежник', 'мятежница', 'мятежнический', 'мятежность', 'мятежный', 'мятость', 'мятый', 'мяться', 'мяться', 'на авось', 'на глазок', 'на голубом глазу', 'на коленке', 'на первый взгляд безобидный', 'на повышенных тонах', 'на рожон', 'на скорую руку', 'на фиг надо', 'на фиг не нужен', 'на фиг никому не нужен', 'на фига', 'на штыки', 'набаловать', 'набег', 'набедокурить', 'набезобразничать', 'набираться', 'набитый', 'набить оскомину', 'наблудить', 'наболевший', 'наболеть', 'набрать долгов', 'набраться', 'набузить', 'навет', 'наводнение', 'навонять', 'наворовать', 'наворовывать', 'наворотить', 'наврать', 'навредить', 'навязчивость', 'навязчивый', 'нагадить', 'нагадить', 'наглеть', 'наглец', 'нагловатый', 'наглость', 'наглотаться', 'наглый', 'нагнетание', 'нагнетать', 'нагнетение', 'нагноение', 'наговаривать', 'наговор', 'наговор', 'наговорить', 'наголодаться', 'нагоняй', 'награбить', 'награбленный', 'нагрешить', 'нагрубить', 'нагрубиянить', 'нагрузка', 'нагрузка', 'надебоширить', 'надежда не оправдалась', 'надежды не оправдать', 'наделать', 'надерзить', 'надменность', 'надменный', 'надо доработать', 'надоеда', 'надоедала', 'надоедать', 'надоедливость', 'надоедливый', 'надоедность', 'надоедный', 'надоесть', 'надраться', 'надругательство', 'надругаться', 'надрываться', 'надрываться', 'надрываться', 'надсмехаться', 'надувать губы', 'надувать щеки', 'надуваться от важности', 'надуваться', 'надуманность', 'надуманный', 'надуть губы', 'надуть щеки', 'надуться от важности', 'надуться', 'надуться', 'наезд', 'наезд', 'наезд', 'наезжать', 'наезжать', 'наемник', 'наемница', 'наемнический', 'наемничество', 'наехать', 'наехать', 'нажаловаться', 'нажраться', 'назидательность', 'назидательный', 'назойливость', 'назойливый', 'наивность', 'наивный', 'наигранность', 'наигранный', 'наисложнейший', 'наихудший', 'наказание', 'наказать', 'наказывать', 'накаление обстановки', 'накалиться', 'накаляться', 'накладка', 'накладочка', 'накладывать на себя руки', 'наклеветать', 'наклюкаться', 'накостылять', 'накосячить', 'накрадывать', 'накрасть', 'накричать', 'накрутка', 'накуренный', 'накуриться', 'накуролесить', 'накусать', 'накусывать', 'налакаться', 'наледь', 'налет авиации', 'налет бандитов', 'налет грабителей', 'налет', 'налет', 'налет', 'налетчик', 'налетчица', 'нализаться', 'налитый свинцом', 'наложить на себя руки', 'наломать дров', 'намаяться', 'намозолить глаза', 'намудрить', 'намусорить', 'намутить', 'намучиться', 'намыкаться', 'намылить голову', 'намылить шею', 'намять бока', 'наобещать', 'наорать', 'наошибаться', 'нападение', 'нападки', 'напакостить', 'напасть', 'напасть', 'напачкать', 'наперсточник', 'напиваться', 'напиться как свинья', 'напиться', 'наплевать', 'наплевать', 'напортачить', 'напортить', 'напраслина', 'напрасность', 'напрасный', 'напрочь', 'напряг', 'напрягать', 'напряжение', 'напряжение', 'напряженка', 'напряженность', 'напряженный', 'напугаться', 'напускной', 'напутать', 'напыжиться', 'напыщенность', 'напыщенный', 'напялить', 'нарекание', 'нарик', 'наркоагрессия', 'наркобанда', 'наркобандит', 'наркобарон', 'наркобарыга', 'наркобизнес', 'наркобизнесмен', 'наркобольная', 'наркобольной', 'наркогруппа', 'наркогруппировка', 'наркоделец', 'наркодеятельность', 'наркодилер', 'наркодилерша', 'наркодурман', 'наркозависимость', 'наркозависимый', 'наркозелье', 'наркоиндустрия', 'наркоинтервенция', 'наркокартель', 'наркоклан', 'наркокриминал', 'наркокриминальный', 'наркокурьер', 'наркокурьерша', 'наркологическая зависимость', 'наркоман', 'наркоманизация', 'наркомания', 'наркоманка', 'наркоманский', 'наркомафиози', 'наркомафия', 'наркоопасность', 'наркоперевозчик', 'наркопоток', 'наркопотребитель', 'наркопотребление', 'наркопреступление', 'наркопреступник', 'наркопреступность', 'наркопритон', 'наркопроизводитель', 'наркопроизводство', 'наркопроизводящий', 'наркорынок', 'наркосбытчик', 'наркосбытчица', 'наркосеть', 'наркосиндикат', 'наркосклад', 'наркосообщество', 'наркосырье', 'наркота', 'наркотизация', 'наркотизм', 'наркотик', 'наркотический', 'наркотоксикомания', 'наркоторговец', 'наркоторговка', 'наркоторговля', 'наркоточка', 'наркотранзит', 'наркотрафик', 'наркотраффик', 'наркоугроза', 'наркоэпидемия', 'наружный', 'нарушать', 'нарушение', 'нарушитель', 'нарушительница', 'нарушить', 'нарциссизм', 'нарыв', 'нарывный', 'насвинячить', 'население голодает', 'насилие', 'насиловать', 'насилье', 'насильник', 'насильница', 'насильственно', 'насильственный', 'насказать', 'насказывать', 'наскучить', 'насмехаться', 'насмешка', 'насмешливость', 'насмешливый', 'насмешник', 'насмешница', 'насмешничать', 'насмешнический', 'насморк', 'насморочный', 'насолить', 'насолить', 'насорить', 'наспех', 'насрать', 'нассать', 'наставительность', 'наставительный', 'настораживаться', 'настороженность', 'настороженный', 'насторожиться', 'настроение не очень', 'настырность', 'настырный', 'насупленность', 'насупленный', 'натворить', 'натерпеться', 'натиск', 'натужный', 'натяжка в рассуждениях', 'натяжка', 'натянутость', 'натянутый', 'наушничать', 'наущение', 'нафиг', 'нафига', 'нахал', 'нахалка', 'нахальный', 'нахальство', 'нахамить', 'нахлобучка', 'нахмуренность', 'нахмуренный', 'нахмурить брови', 'находиться на грани', 'нахрапом', 'нахрен', 'нахрена', 'нахулиганить', 'нацизм', 'национализм', 'националист', 'националистический', 'националистка', 'националистский', 'национал-экстремизм', 'нацист', 'нацистка', 'нацистский', 'начудить', 'начхать', 'нашествие', 'нашкодить', 'нашкодничать', 'наябедничать', 'не айс', 'не ахти', 'не блистать', 'не было выбора', 'не было другого выбора', 'не в пользу', 'не верить', 'не вернуть бабки', 'не вернуть деньги', 'не видеть смысла', 'не внушать', 'не волновать', 'не выдержать сравнения', 'не выдержать', 'не выдерживать никакой критики', 'не выдерживать сравнения', 'не выдерживать', 'не выполнить', 'не выполняться', 'не выполять', 'не вязать лыка', 'не годиться', 'не гуд', 'не густо', 'не дай бог', 'не дать вздохнуть', 'не добиться', 'не доделать', 'не додумать', 'не достаточно', 'не достигать', 'не достигнуть', 'не дотягивать', 'не дотянуть', 'не жаловать', 'не ждать изменений в лучшую сторону', 'не ждать изменений к лучшему', 'не за что награждать', 'не захватывать', 'не зацепить', 'не идти на уступки', 'не идти ни в какое сравнение', 'не иметь достаточно времени', 'не иметь шансов', 'не иметь эффекта', 'не исполнить', 'не исполняться', 'не комильфо', 'не лечится', 'не менее печальный', 'не может быть реализовано', 'не мочь молчать', 'не мочь понять', 'не мочь решить', 'не на шутку', 'не найти ответ', 'не научиться', 'не оборудовать', 'не ожидать', 'не оповестить', 'не оправдаться', 'не осилить', 'не особенно', 'не особо', 'не осознавать', 'не открывать ничего нового', 'не открывать нового', 'не отражать', 'не очень устраивать', 'не очень', 'не очень-то', 'не очень-то', 'не переваривать', 'не по пути', 'не повезти', 'не поверить', 'не поддержать', 'не позволять', 'не позориться', 'не пойду больше', 'не покупать', 'не получаться', 'не получиться', 'не посоветовать', 'не построить', 'не пошевелить пальцем', 'не пошевельнуть пальцем', 'не предвещать', 'не предупредить', 'не предусмотреть', 'не привнести', 'не приходить больше', 'не произвести', 'не производить', 'не пройти', 'не проникнуться', 'не простительный', 'не просыхать', 'не пускать', 'не пустить', 'не работать', 'не располагать', 'не резиновый', 'не рекомендовать', 'не решать задачи', 'не решать проблемы', 'не решить', 'не рыпаться', 'не сварить', 'не связываться', 'не складываются отношения', 'не слишком', 'не сложились отношения', 'не слушать', 'не сметь', 'не смотреться', 'не смочь обеспечить', 'не смочь', 'не соблюдать', 'не соблюдаться', 'не советовать', 'не совсем отражать', 'не согласный', 'не сойтись', 'не соответствовать', 'не спасать', 'не способствовать', 'не срастаться', 'не срастись', 'не стать покупать', 'не стоит потраченных', 'не стоит', 'не стоить гроша ломаного', 'не столь', 'не стоящий', 'не так сделать', 'не так-то просто', 'не тратить время', 'не тратить нервы', 'не тронуть', 'не убедить', 'не убеждать', 'не увенчаться', 'не удивить', 'не удосужиться', 'не устраивать', 'не устроить', 'не фонтан', 'не хватать', 'не хватить', 'не хотеть', 'не цеплять', 'не шибко', 'не явиться', 'неадекват', 'неадекватно', 'неадекватность', 'неадекватный', 'неаккуратность', 'неаккуратный', 'неактуальность', 'неактуальный', 'неальтернативный', 'неаргументированный', 'небезвозмездный', 'небезвредный', 'небезгрешный', 'небезобидный', 'небезопасность', 'небезопасный', 'небезупречность', 'небезупречный', 'небескорыстный', 'небесплатный', 'небеспристрастный', 'небесспорный', 'неблаговидность', 'неблаговидный', 'неблагодарность', 'неблагодарный', 'неблагозвучность', 'неблагозвучный', 'неблагополучие', 'неблагополучный', 'неблагопристойность', 'неблагопристойный', 'неблагоприятность', 'неблагоприятный', 'неблагоразумный', 'неблизкий', 'небрежность', 'небрежный', 'небылица', 'неважнецкий', 'неважность', 'неважный', 'невежа', 'невежда', 'невежественность', 'невежественный', 'невежество', 'невежливость', 'невежливый', 'невезение', 'невезуха', 'невезучесть', 'невезучий', 'неверие', 'неверность', 'неверный', 'невеселость', 'невеселый', 'невзгода', 'невзлюбить', 'невзрачность', 'невзрачный', 'невкусный', 'невменяемость', 'невменяемый', 'невнимание', 'невнимательность', 'невнимательный', 'невнятица', 'невнятность', 'невнятный', 'невозврат', 'невозможность', 'невозможный', 'невозмутимость', 'невозмутимый', 'неволить', 'невольник', 'невольница', 'невольнический', 'невольничество', 'неволя', 'невоспитанность', 'невоспитанный', 'невосполнимость', 'невосполнимый', 'невостребованность', 'невостребованный', 'невразумительность', 'невразумительный', 'невралгический', 'невралгия', 'неврастеник', 'неврастенический', 'неврастеничка', 'неврастения', 'невыгода', 'невыгодность', 'невыгодный', 'невыносимость', 'невыносимый', 'невыплата', 'невыплаченная ссуда', 'невыплаченный кредит', 'невыполнение', 'невыполненный', 'невыполнимость', 'невыполнимый', 'невыразительность', 'невыразительный', 'невыход', 'невыясненность', 'невыясненный', 'негатив', 'негативность', 'негативный', 'неглубокий', 'негодность', 'негодный', 'негодование', 'негодовать', 'негодяй', 'негодяйка', 'негодяйский', 'негожий', 'неграмотность', 'неграмотность', 'неграмотность', 'неграмотный', 'неграмотный', 'неграмотный', 'негуманность', 'негуманный', 'недалекий', 'недалекость', 'недальновидность', 'недальновидный', 'недееспособность', 'недееспособный', 'недержание', 'недешевый', 'недисциплинированность', 'недисциплинированный', 'недобор', 'недобровольный', 'недоброжелатель', 'недоброжелательница', 'недоброжелательность', 'недоброкачественность', 'недоброкачественность', 'недоброкачественный', 'недоброкачественный', 'недобросовестность', 'недобросовестный', 'недобрый', 'недоверие', 'недоверчивость', 'недоверчивый', 'недовольный', 'недовольство', 'недогляд', 'недоглядеть', 'недоделанный', 'недоделка', 'недоедание', 'недоедать', 'недозволенный', 'недозрелый', 'недолюбить', 'недолюбливать', 'недомогание', 'недомогать', 'недооценивать', 'недооценить', 'недооценка', 'недопонимание', 'недопонимать', 'недопонятый', 'недопонять', 'недопустимость', 'недопустимый', 'недоработанность', 'недоработанный', 'недоработка', 'недоразвитие', 'недоразвитость', 'недоразвитый', 'недоразумение', 'недосмотр', 'недосмотреть', 'недоспать', 'недоставать', 'недостаток', 'недостаточность', 'недостаточность', 'недостаточность', 'недостаточность', 'недостаточный', 'недостача', 'недостижимость', 'недостижимый', 'недостойность', 'недостойный', 'недострой', 'недостроить', 'недосып', 'недосыпание', 'недосыпать', 'недосягаемость', 'недосягаемый', 'недотепа', 'недотепистый', 'недоумевать', 'недоумение', 'недоуменный', 'недоумок', 'недофинансирование', 'недофинансировать', 'недочет', 'недруг', 'недружелюбие', 'недружелюбный', 'недружественный', 'недуг', 'недужный', 'неестественность', 'неестественный', 'нежданчик', 'нежелание', 'нежелательность', 'нежелательный', 'нежизненность', 'нежизненный', 'нежность', 'нежный', 'незавершенка', 'незавершенность', 'незавершенный', 'незавидность', 'незавидный', 'незавуалированный', 'незадача', 'незадачливость', 'незаконно', 'незаконность', 'незаконный', 'незаконченность', 'незаконченный', 'незамысловатость', 'незамысловатый', 'незанятость', 'незаслуженно', 'незаслуженность', 'незаслуженный', 'нездоровиться', 'нездоровый', 'нездоровье', 'незнать', 'незначащий', 'незначимый', 'незрелый', 'незрячий', 'неизбежное следствие', 'неизбежность', 'неизбежный', 'неизлечимость', 'неизлечимый', 'неимущий', 'неинтересность', 'неинтересный', 'неинформированность', 'неискренний', 'неискренность', 'неискусность', 'неискусный', 'неискушенность', 'неискушенный', 'неисполнение', 'неисполненный', 'неисполнимость', 'неисполнимый', 'неисправность', 'неисправный', 'неистинный', 'неказистость', 'неказистый', 'некачественность', 'некачественный', 'неквалифицированность', 'неквалифицированный', 'некоммуникабельность', 'некоммуникабельный', 'некомпетентность', 'некомпетентный', 'неконкурентный', 'неконституционность', 'неконституционный', 'некорректность', 'некорректный', 'некрасивость', 'некрасивый', 'некрофил', 'некрофилка', 'некстати', 'неладный', 'нелады', 'нелегал', 'нелегалка', 'нелегально', 'нелегальность', 'нелегальный', 'нелегитимность', 'нелегитимный', 'нелегкий', 'нелепица', 'нелепость', 'нелепый', 'нелестный', 'нелицензионный', 'нелицеприятный', 'неловкий', 'неловкость', 'неловкость', 'нелогичность', 'нелогичный', 'нелюбимый', 'нелюбовь', 'нелюдим', 'нелюдимка', 'нелюдимость', 'нелюдимый', 'неметь', 'немилосердность', 'немилосердный', 'немилость', 'неминуемость', 'неминуемый', 'немногословность', 'немногословный', 'немодный', 'немочь', 'немощность', 'немощный', 'немощь', 'немытый', 'ненаблюдаемая экономика', 'ненавидеть', 'ненавижууу', 'ненавистник', 'ненавистница', 'ненавистнический', 'ненавистничество', 'ненавистный', 'ненависть', 'ненадежный', 'ненадлежащий', 'ненадобность', 'ненакрашенный', 'ненастный', 'ненастоящий', 'ненастье', 'ненатуральность', 'ненатуральный', 'ненормальность', 'ненормальный', 'ненормативный', 'ненужность', 'ненужный', 'необдуманность', 'необдуманный', 'необеспеченность', 'необеспеченный', 'необоснованность', 'необоснованный', 'необразованность', 'необразованный', 'необузданность', 'необузданный', 'необщительность', 'необщительный', 'необъективность', 'необъективный', 'неодобрение', 'неодобрительность', 'неодобрительный', 'неоимперский', 'неоказание помощи', 'неоконченность', 'неоконченный', 'неонацизм', 'неонацист', 'неонацистский', 'неоплата', 'неоплаченная ссуда', 'неоплаченный кредит', 'неоправданность', 'неоправданный', 'неопределенность', 'неопределенность', 'неопределенность', 'неопределенный', 'неопределенный', 'неопрятность', 'неопрятный', 'неопытность', 'неопытный', 'неосведомленность', 'неосведомленный', 'неосновательность', 'неосновательный', 'неосторожность', 'неосторожный', 'неосуществимость', 'неосуществимый', 'неосуществление', 'неотвратимость', 'неотвратимый', 'неотвязность', 'неотвязный', 'неотесанность', 'неотесанный чурбан', 'неотесанный', 'неотзывчивость', 'неотзывчивый', 'неотступность', 'неотступный', 'неотчетливость', 'неотчетливый', 'неофашизм', 'неофашист', 'неофашистский', 'неохота', 'неохотный', 'непереносимый', 'неперспективность', 'неперспективный', 'непечатность', 'непечатный', 'неплатеж', 'неплательщик', 'неплательщица', 'неповиновение', 'неповоротливость', 'неповоротливый', 'непогашенная ссуда', 'непогашенный вексель', 'непогашенный кредит', 'непогода', 'неподатливость', 'неподатливый', 'неподобающий', 'неподходящий', 'неподъемный', 'непозволительность', 'непозволительный', 'непокладистость', 'непокладистый', 'непокорность', 'непокорный', 'непокорство', 'неполадки', 'неполезный', 'неполноценность', 'неполноценный', 'непонимание', 'непонимать', 'непонятность', 'непонятный', 'непорядок', 'непорядочность', 'непорядочный', 'непосильный', 'непоследовательность', 'непоследовательный', 'непослушный', 'непотребность', 'непотребный', 'непочатый край', 'непочтение', 'непочтительность', 'непочтительный', 'неправда', 'неправедность', 'неправедный', 'неправильность', 'неправильность', 'неправильность', 'неправильный', 'неправильный', 'неправомерность', 'неправомерный', 'неправый', 'непредсказуемость', 'непредсказуемый', 'непредусмотрительность', 'непредусмотрительный', 'непреодолимость', 'непреодолимый', 'неприглядность', 'неприглядный', 'непригодность', 'непригодный', 'неприемлемость', 'неприемлемый', 'неприкрытость', 'неприкрытый', 'неприличие', 'неприличность', 'неприличный', 'непримечательный', 'непринципиальный', 'непристойность', 'непристойный', 'неприязненность', 'неприязненный', 'неприязнь', 'неприятель', 'неприятельский', 'неприятность', 'неприятный', 'непродуктивность', 'непродуктивный', 'непродуманность', 'непродуманный', 'непрозрачная государственная закупка', 'непроизводительность', 'непроизводительный', 'непроплата', 'непростительность', 'непростительный', 'непростой', 'непросторный', 'непрофессионализм', 'непроходимый', 'непроясненность', 'непроясненный', 'нерабочее состояние', 'нерабочий', 'неравенство', 'неравенство', 'нерадивость', 'нерадивый', 'нерадостность', 'нерадостный', 'неразбериха', 'неразборчивость', 'неразборчивый', 'неразвитой', 'неразвитость', 'неразвитый', 'неразговорчивость', 'неразговорчивый', 'неразрешенный', 'неразрешимость', 'неразрешимый', 'неразумность', 'неразумный', 'нерасположение', 'нерасторопный', 'нерациональность', 'нерациональный', 'нервировать', 'нервический', 'нервность', 'нервный', 'нервный', 'нервный', 'нервозность', 'нервозный', 'нервотрепка', 'нереализация', 'нереализованная сделка', 'нереалистичность', 'нереалистичный', 'нереальность', 'нереальный', 'нерезультативный', 'нерешительность', 'нерешительный', 'нерусский', 'неряшливость', 'неряшливый', 'несанкционированный', 'несбыточность', 'несбыточный', 'несварение', 'несведущий', 'несвобода', 'несвоевременность', 'несвоевременный', 'несвязность', 'несвязный', 'несговорчивость', 'несговорчивый', 'несерьезность', 'несерьезный', 'нескладность', 'нескладный', 'нескончаемость', 'нескончаемый', 'нескромность', 'нескромный', 'несловоохотливый', 'несложившийся', 'несмелость', 'несмелый', 'несносность', 'несносный', 'несоблюдение', 'несовершенность', 'несовершенный', 'несовершенство', 'несовместимость', 'несовместимый', 'несовместность', 'несовместный', 'несовмещающийся', 'несовременный', 'несогласие', 'несогласие', 'несодержательность', 'несодержательный', 'несозревший', 'несообразность', 'несообразный', 'несоответствие', 'несоответствующий', 'несопоставимость', 'несопоставимый', 'несостоятельность', 'несостоятельный', 'несостыковка', 'неспелый', 'неспокойный', 'неспособность', 'неспособный', 'несправедливость', 'несправедливый', 'нестабильность', 'нестабильный', 'нестерпимость', 'нестерпимый', 'нести свой крест', 'нестойкий', 'нестойкость', 'нестыковка', 'нестыковочка', 'несун', 'несуразица', 'несуразность', 'несуразный', 'несусветица', 'несусветный', 'несущественность', 'несущественный', 'несчастие', 'несчастливец', 'несчастливица', 'несчастливчик', 'несчастливый', 'несчастный', 'несчастье', 'несъедобность', 'несъедобный', 'нет возможности', 'нет живого места', 'нет информации', 'нет полного единства', 'нет силы', 'нет смысла', 'нет спасибо', 'нетактичность', 'нетактичный', 'неталантливость', 'неталантливый', 'нетерпимость', 'нетерпимый', 'неточность', 'неточный', 'нетрезвость', 'нетрезвый', 'нетрудоустроенный', 'неубедительность', 'неубедительный', 'неуважение', 'неуважительность', 'неуважительный', 'неуверенность', 'неуверенный', 'неувязка', 'неувязочка', 'неугодный', 'неудача', 'неудачливость', 'неудачливый', 'неудачник', 'неудачница', 'неудачность', 'неудачный', 'неудобность', 'неудобный', 'неудобоваримость', 'неудобоваримый', 'неудобство', 'неудовлетворение', 'неудовлетворенность', 'неудовлетворенный', 'неудовлетворительность', 'неудовлетворительный', 'неудовольствие', 'неуживчивый', 'неуклюжесть', 'неуклюжий', 'неумелость', 'неумелый', 'неумение', 'неуместность', 'неуместный', 'неумный', 'неуплата', 'неуплаченный', 'неуравновешенность', 'неуравновешенный', 'неурегулирование', 'неурегулированность', 'неурегулированный', 'неурядица', 'неуспеваемость', 'неуспех', 'неуспешность', 'неуспешный', 'неуставной', 'неустойчивость', 'неустойчивый', 'неуступчивость', 'неуступчивый', 'неутешительность', 'неутешительный', 'неутешность', 'неутешный', 'неутоленность', 'неутоленный', 'неухоженность', 'неухоженный', 'неуч', 'неучтивость', 'неучтивый', 'неуютно', 'неуютный', 'нефиг', 'нефига', 'нефтеразлив', 'нехватать', 'нехватка', 'нехилый', 'нехитрый', 'нехороший', 'нехрен', 'нецелесообразность', 'нецелесообразный', 'нецензурность', 'нецензурный', 'нецензурщина', 'нечеловеческий', 'нечестивость', 'нечестивый', 'нечестность', 'нечестный', 'нечеткий', 'нечеткость', 'нечисто дело', 'нечистоплотность', 'нечистоплотный', 'нечистый', 'нечисть', 'нечуткий', 'нечуткость', 'нещадность', 'нещадный', 'неэтичность', 'неэтичный', 'неэффективность', 'неэффективный', 'неявка', 'неясность', 'неясный', 'ни в коем случае', 'ни логики', 'ни ногой', 'ни фига', 'нигер', 'нигилизм', 'нигилист', 'нигилистический', 'нигилистка', 'нигилистский', 'низвергать', 'низвергнуть', 'низкая зарплата', 'низкая квалификация', 'низкая квалификация', 'низкая оплата труда', 'низкий по качеству', 'низкий поступок', 'низкий поступок', 'низкий пошиб', 'низкий рейтинг', 'низкий сорт', 'низкий сорт', 'низкий уровень оплаты', 'низкий человек', 'низкий', 'низкий', 'низко пасть', 'низко пасть', 'низко профессиональный', 'низкое качество', 'низкое качество', 'низкокачественность', 'низкокачественный', 'низкоквалифицированный', 'низкопробность', 'низкопробный', 'низкосортность', 'низкосортный', 'низкотоксичный', 'низлагать', 'низложение', 'низложить', 'низменность', 'низменный', 'низость', 'низший', 'никаких изысков', 'никаких новых', 'никаких эмоций', 'никакого желания', 'никакого нет', 'никакого смысла', 'никакого эффекта', 'никакой логики', 'никакой смысловой', 'никакущий', 'никнуть', 'никнуть', 'никотиновая зависимость', 'никуда не годиться', 'никудышность', 'никудышный', 'нифига', 'нихрена', 'ничего интересного', 'ничего не делать', 'ничего не сделать', 'ничего нового', 'ничего особенного', 'ничего полезного', 'ничего путного', 'ничего святого', 'ничего хорошего', 'ничегонеделание', 'ничегонеделанье', 'ничтожество', 'ничтожно малый', 'ничтожность', 'ничтожный', 'ничуть не тронуть', 'нищать', 'нищеброд', 'нищебродский', 'нищенка', 'нищенский', 'нищенство', 'нищенство', 'нищенствовать', 'нищета', 'нищий', 'нищий', 'нищий', 'но беда', 'но не дотягивать', 'но не дотянуть', 'но это не спасает', 'новомодный', 'новообразование', 'ноль без палочки', 'ноль', 'нонсенс', 'норовистость', 'норовистый', 'ностальгировать', 'ностальгический', 'ностальгия', 'ночлежка', 'ночлежный дом', 'ноша', 'нравоучительность', 'нравоучительный', 'нравственно опуститься', 'нравственное падение', 'нравственное разложение', 'нудность', 'нудный', 'нужда', 'нуждаться', 'нужен как прошлогодний снег', 'нужно исправить', 'нужно исправлять', 'нужно совершенствовать', 'нужно улучшать', 'нужно улучшить', 'нужно усовершенствовать', 'нулевой результат', 'нулевой эффект', 'нуль', 'нытик', 'ныть', 'ныть', 'ныть', 'нытье', 'нытье', 'обалдевать', 'обалделость', 'обалделый', 'обалдеть', 'обанкротиться', 'обвал', 'обветшалость', 'обветшалый', 'обвинение', 'обвинение', 'обвиняемый', 'обворовать', 'обворовывание', 'обворовывать', 'обгадить', 'обделить', 'обдираловка', 'обдолбать', 'обеднеть', 'обезводить', 'обезвоживание', 'обезвоживать', 'обездоленность', 'обездоленный', 'обезземеливание', 'обескроветь', 'обескровить', 'обескровить', 'обескровливание', 'обескровливание', 'обескровливать', 'обескровливать', 'обеспокоенность', 'обеспокоенный', 'обеспокоить', 'обеспокоиться', 'обессилевание', 'обессилевать', 'обессилеть', 'обессиливание', 'обессиливать', 'обессилить', 'обессмысление', 'обессмысливание', 'обессмысливать', 'обессмысливаться', 'обессмыслить', 'обессмыслиться', 'обесценение', 'обесценение', 'обесценивание', 'обесцениваться', 'обесцениться', 'обесчестить', 'обесчестить', 'обесчещивать', 'обжечься', 'обжигаться', 'обжираться', 'обжора', 'обжорство', 'обзавидоваться', 'обида', 'обидеть', 'обидеться', 'обидка', 'обидность', 'обидный', 'обидчивость', 'обидчивый', 'обидчик', 'обидчица', 'обижать', 'обижаться', 'обиженность', 'обирать', 'обкорнать', 'обкрадывание', 'обкрадывать', 'обкуренный', 'обкурить', 'обкуриться', 'облажать', 'облажаться', 'облаивать', 'облаять', 'обледенение', 'облениваться', 'облениться', 'обложить матом', 'обложить матом', 'облом', 'облом', 'облом', 'облыжный', 'облысение', 'облысеть', 'обман', 'обманный', 'обмануть', 'обмануться', 'обмануться', 'обманчивость', 'обманчивый', 'обманщик', 'обманщица', 'обманывать', 'обматерить', 'обмораживать', 'обморожение', 'обморозить', 'обморозиться', 'обморок', 'обморочный', 'обнаглеть', 'обнищание', 'обнищать', 'обнять и плакать', 'обобрать', 'обожемой', 'обожраться', 'обозлить', 'обозлиться', 'обойтись в копеечку', 'обокрасть', 'оболванивать', 'оболванить', 'оболгать', 'обольститься', 'обольщаться', 'оборванец', 'оборванка', 'оборзеть', 'оборот наркотиков', 'оборотень', 'обосрать', 'обострение', 'обострение', 'обострение', 'обострение', 'обострение', 'обостренность', 'обостренный', 'обостриться', 'обостриться', 'обостриться', 'обостряться', 'обостряться', 'обостряться', 'обрекать', 'обрекаться', 'обременение', 'обременительность', 'обременительный', 'обременить', 'обременять', 'обречение', 'обречь', 'обругать', 'обрушение', 'обрыв', 'обрывочность', 'обрывочный', 'обрюзглость', 'обрюзглый', 'обсирать', 'обскурантизм', 'обскурантистский', 'обстрел', 'обстреливать', 'обстреливаться', 'обстрелять', 'обструкционный', 'обструкция', 'обсчет', 'обсчитать', 'обсчитаться', 'обсчитывание', 'обсчитывать', 'обсчитываться', 'обхамить', 'обход закона', 'обход законодательства', 'обчесться', 'общее место', 'общемировые вызовы', 'объедаться', 'объесться', 'овердохуя', 'огласка', 'оглохнуть', 'оглупление', 'огненная стихия', 'оговаривать', 'оговор', 'оговорить', 'оголодать', 'огорчать', 'огорчаться', 'огорчение', 'огорчительность', 'огорчительный', 'огорчить', 'огорчиться', 'ограбить', 'ограбление', 'ограничение', 'ограниченность', 'ограниченный', 'огрех', 'огрубелость', 'огрубелый', 'огрызаться в ответ', 'огрызаться', 'огрызаться', 'огрызнуться в ответ', 'огрызнуться', 'огрызнуться', 'одеревенелость', 'одеревенелый', 'одеревенеть', 'одинокий', 'одиночество', 'одиночное заключение', 'одиозность', 'одиозный', 'одна звезда', 'однобокий', 'однобокий', 'однобокость', 'одноглазый', 'однодневка', 'однообразие', 'однообразность', 'однообразный', 'односторонний', 'односторонность', 'одноцветность', 'одноцветный', 'одурелость', 'одурелый', 'одурение', 'одуреть', 'одуреть', 'одурманить', 'одурь', 'одурять', 'одышечный', 'одышка', 'ожесточение', 'ожесточение', 'ожесточенность', 'ожесточенность', 'ожесточенный', 'ожесточенный', 'ожидать больше', 'ожидать большего', 'ожидать много больше', 'ожидать много большего', 'ожидать чего-то более', 'ожидать чего-то большего', 'ожирение', 'ожог', 'ожоговый', 'озаботить', 'озаботиться', 'озабоченность', 'озабоченный', 'озверение', 'озвереть', 'озлиться', 'озлобиться', 'озлобление', 'озлобленность', 'озлобленный', 'озлобляться', 'озябнуть', 'оказывать давление', 'оказывать нажим', 'оккупант', 'оккупантский', 'оккупационный', 'оккупация', 'оккупирование', 'оккупировать', 'оклеветать', 'око за око', 'околесица', 'околеть', 'околеть', 'оконфуживаться', 'оконфузиться', 'окосеть', 'окостеневать', 'окостенеть', 'окоченеть', 'окрыситься', 'олигарх', 'олигархический', 'олигофрен', 'олух', 'омерзение', 'омерзительность', 'омерзительный', 'омертвение', 'омрачать', 'омрачаться', 'омрачение', 'омрачить', 'омрачиться', 'онанизм', 'онанирование', 'онанировать', 'онемелость', 'онемелый', 'онкобольной', 'онкозаболевание', 'онкологический', 'онкология', 'онкопроцесс', 'опаздывать', 'опаивание', 'опаивать', 'опала', 'опальный', 'опасаться', 'опасение', 'опаска', 'опасливость', 'опасливый', 'опаснейший', 'опасность', 'опасный', 'операция', 'опечаливаться', 'опечалить', 'опечалиться', 'опиат', 'опиатный', 'описка', 'оплевать', 'оплевать', 'оплевывание', 'оплевывание', 'оплевывать', 'оплевывать', 'оплеуха', 'оплешиветь', 'оплошать', 'оплошность', 'опоздание', 'опоздать', 'опозориться', 'опоить', 'оползень', 'оползневый', 'ополоуметь', 'опостылевать', 'опостылеть', 'опошление', 'опошливание', 'опошлить', 'опошлять', 'опошляться', 'оппа', 'оппозиция', 'оппозиция', 'оппонент', 'оппортунизм', 'опрометчивость', 'опрометчивый', 'опростоволоситься', 'опротиветь', 'опрыщаветь', 'опускать нос', 'опускаться', 'опускаться', 'опустить нос', 'опуститься', 'опуститься', 'опустошать', 'опустошать', 'опустошать', 'опустошение', 'опустошение', 'опустошение', 'опустошение', 'опустошенность', 'опустошенный', 'опустошительный', 'опустошить душу', 'опустошить сердце', 'опустошить', 'опустошить', 'опустошить', 'опустынивание', 'опустыниваться', 'опухолевый', 'опухоль', 'опьянение', 'опьянение', 'опьянеть', 'оранье', 'орать во все горло', 'орать', 'оргия', 'оргпреступность', 'оргпреступный', 'ординарность', 'ординарный', 'осада', 'осадный', 'осадок остается', 'осадок остался', 'осадок', 'осатанеть', 'осерчать', 'осечка', 'осечка', 'осиплость', 'осиплый', 'осипнуть', 'осиротеть', 'оскандалиться', 'осквернение', 'осквернитель', 'осквернительница', 'осквернить', 'осквернять', 'оскверняться', 'оскорбитель', 'оскорбительница', 'оскорбительность', 'оскорбительный', 'оскорбить', 'оскорбиться', 'оскорбление', 'оскорблять', 'оскорбляться', 'оскудевать', 'оскудеть', 'ослабелость', 'ослабелый', 'ослабление здоровья', 'ослабление слуха', 'ослепить', 'ослепить', 'ослепление', 'ослепление', 'ослеплять', 'ослеплять', 'ослепнуть', 'осложнение', 'осложнение', 'осложнение', 'осложнение', 'осложненный', 'осложнить', 'осложнить', 'осложниться', 'осложнять', 'осложнять', 'осложняться', 'осложняющий', 'осовелость', 'осовелый', 'осоловелость', 'осоловелый', 'оспа', 'оспенный', 'осрамиться', 'оставить без', 'оставить с носом', 'оставлять без', 'оставлять желать лучшего', 'остался осадок', 'остановилось сердце', 'остановка конвейера', 'остановка производства', 'остановка сердечной деятельности', 'остановка сердца', 'остаться за бортом', 'остеопороз', 'остеохондроз', 'остолоп', 'осточертевать', 'осточертеть', 'острая фаза', 'острая форма', 'острозаразный', 'острый живот', 'острый', 'оступаться', 'оступаться', 'оступиться', 'оступиться', 'остывание', 'остывать', 'остынуть', 'остыть', 'осудительный', 'осудительный', 'осудить', 'осудить', 'осудить', 'осуждать', 'осуждать', 'осуждать', 'осуждение', 'осуждение', 'осуждение', 'осыпать проклятиями', 'отбомбиться', 'отваливаться', 'отвалиться', 'отвергать', 'отвергнуть', 'отвержение', 'отверженный', 'ответственность по', 'отвратительность', 'отвратительный', 'отвратность', 'отвратный', 'отвращение', 'отдаление друг от друга', 'отдаление', 'отдалиться', 'отдаляться от граждан', 'отдаляться', 'отдубасить', 'отек', 'отекший', 'отечность', 'отечный', 'отживший', 'отзыв проплачен', 'отит', 'отитный', 'отказ', 'отказать', 'отказывать', 'откалывать', 'откат и распил', 'откат средств', 'откат', 'отключение электроснабжения', 'отключение электроэнергии', 'отключение', 'отколотить', 'отколоть', 'откровенность', 'откровенный', 'открытый перелом', 'откуда взяться', 'отлупить', 'отлупцевать', 'отмаз', 'отмачивать', 'отместка', 'отметелить', 'отмораживать', 'отморожение', 'отморозить', 'отморозок', 'отмочить', 'отмщение', 'отмывание денег', 'отмывание денежных средств', 'отмывание доходов', 'отмывание преступных доходов', 'отмывание средств', 'отмывание финансовых средств', 'отмывать деньги', 'отмывать доходы', 'отмывка денег', 'отнять бизнес', 'отобрать бизнес', 'отомстить', 'отощать', 'отпадать', 'отпасть', 'отписка', 'отрава', 'отравить', 'отравить', 'отравить', 'отравить', 'отравиться', 'отравление', 'отравление', 'отравление', 'отравление', 'отравление', 'отравлять', 'отравлять', 'отравлять', 'отравлять', 'отравляться', 'отрекаться', 'отречение', 'отречься', 'отрицание', 'отрицание', 'отрицательная оценка', 'отрицательная черта', 'отрицательно', 'отрицательность', 'отрицательный', 'отрубиться', 'отругать', 'отрывочность', 'отрывочный', 'отставание', 'отставание', 'отставание', 'отставание', 'отставание', 'отсталость', 'отсталый', 'отстой', 'отстойный', 'отстранить от власти', 'отстранять от власти', 'отступничество', 'отсутствие веры', 'отсутствие доверия', 'отсутствие логики', 'отсутствие способности', 'отсутствовать как класс', 'отсутствовать напрочь', 'отталкивающий', 'отток капитала', 'отторгать', 'отторгаться', 'отторгнуть', 'отторжение', 'оттрахать', 'отупевать', 'отупение', 'отупеть', 'отцеубийство', 'отцеубийца', 'отчаиваться', 'отчаяние', 'отчаянность', 'отчаянный', 'отчаяться', 'отчебучивать', 'отчебучить', 'отчисление', 'отчислить', 'отчислять', 'отчитать', 'отчитывать', 'отчубучивать', 'отчубучить', 'отчудить', 'отчуждение', 'отчуждение', 'отъявленный', 'отяготить', 'отягощать', 'отягощение', 'офонареть', 'охаивание', 'охаивать', 'охаметь', 'охаять', 'охладевать', 'охладеть', 'охладиться', 'охлаждение чувств', 'охмелеть', 'охота на ведьм', 'охотиться на ведьм', 'охриплость', 'охриплый', 'охрипнуть', 'очередная жертва', 'очередь', 'очерствелость', 'очерствелый', 'очковать', 'очумевать', 'очумелый', 'очуметь', 'ошалевать', 'ошалелость', 'ошалелый', 'ошалеть', 'ошибаться', 'ошибиться', 'ошибка', 'ошибочка', 'ошибочно', 'ошибочность', 'ошибочный', 'оштрафовать', 'ощущать комплекс', 'ощущение пустоты', 'ощущение тяжести', 'пагубность', 'пагубный', 'падает рейтинг', 'падать духом', 'падают головы', 'падеж скота', 'падение авторитета', 'падение морали', 'падение нравов', 'падение нравственности', 'падение популярности', 'падение рейтинга', 'падение самолета', 'падение', 'падение', 'падло', 'падшая женщина', 'падший', 'пакостить', 'пакостный', 'пакость', 'пал', 'палач', 'палач', 'палевно', 'палевный', 'палево', 'палехче', 'палка в колесо', 'палку перегибать', 'палку перегнуть', 'палочка коха', 'пальцем не пошевелить', 'пальцем не пошевельнуть', 'пальцем о палец не ударить', 'палящее солнце', 'панацея', 'пандемический', 'пандемия', 'паника', 'паникер', 'паникерский', 'паникерство', 'паникерствовать', 'паникерша', 'паниковать', 'панический', 'папарацци', 'пар уходит в свисток', 'пар ушел в свисток', 'парагрипп', 'паразит', 'паразит', 'паразитарный', 'паразитизм', 'паразитирование', 'паразитировать', 'паразитический', 'паразитный', 'паразитоз', 'парализация', 'парализование', 'парализовать', 'парализовать', 'парализовывать', 'парализовывать', 'паралич', 'паралич', 'паранаркотик', 'паркинсонизм', 'парниковый выброс', 'парниковый эффект', 'пародия', 'пароксизм', 'парша', 'пасквиль', 'пасквильный', 'пасквилянт', 'пасквилянтка', 'пасквилянтский', 'паскудный', 'пасмурность', 'пасмурный,Adj ', 'пассивность', 'пассивный', 'пасть духом', 'пасть', 'пасть', 'патетика', 'патетический', 'патетичность', 'патетичный', 'патоген', 'патогенный', 'патологический', 'патология', 'патриархальность', 'патриархальный', 'пахан', 'пахать как вол', 'пачкать', 'пачкать', 'пачкаться', 'паясничать', 'паяц', 'педантский', 'педераст', 'педик', 'педофил', 'педофилия', 'педофильный', 'педофильский', 'пекло', 'пендаль', 'пентюх', 'пенять', 'пердеж', 'перебарщивать', 'перебежчик', 'перебежчица', 'перебирать лишнего', 'перебирать со спиртным', 'перебирать', 'перебирать', 'перебой', 'перебойный', 'переболеть', 'перебор', 'переборщить', 'перебраниваться', 'перебранка', 'перебрать алкоголя', 'перебрать с алкоголем', 'перебрать со спиртным', 'перебрать спиртного', 'перебрать', 'перебрать', 'перевернутая логика', 'перевернуться в гробу', 'переволновать', 'переворачиваться в гробу', 'переворот в государстве', 'переворот', 'перегар', 'перегарный', 'перегиб', 'перегибать палку', 'перегибать', 'перегнуть палку', 'перегнуть', 'перегрев', 'перегревание', 'перегревать', 'перегреваться', 'перегреть', 'перегреться', 'перегружать', 'перегружать', 'перегружать', 'перегружаться', 'перегрузить', 'перегрузить', 'перегрузить', 'перегрузка', 'перегрузка', 'перегрузка', 'перегрызаться', 'перегрызться', 'передергивание', 'передергивать', 'передернуть', 'передоз', 'передозировать', 'передозировка', 'передозировывать', 'передраться', 'передряга', 'передряги', 'переедание', 'переедать', 'переесть', 'пережиток', 'пережиточный', 'переизбыток', 'перейти все границы', 'перейти меру', 'перейти на личности', 'перекалечить', 'перекладывать ответственность', 'перекрестный огонь', 'перекрывать кислород', 'перекрыть кислород', 'перекусать', 'переливание из пустого в порожнее', 'переливать из пустого в порожнее', 'переливать из пустого в порожнее', 'переложить ответственность', 'перелом кости', 'перелом', 'перелом', 'перелом', 'перелом', 'переломать', 'перемазать', 'перемазывать', 'перемереть', 'перемерзать', 'перемерзать', 'перемерзнуть', 'перемерзнуть', 'перемирать', 'перемудрить', 'перенапрягать', 'перенапрягаться', 'перенапряжение', 'перенапряженный', 'перенапрячь', 'перенапрячься', 'переохладить', 'переохлаждать', 'переохлаждение', 'переохлаждение', 'переоцененность', 'переоценивание', 'переоценивать', 'переоценивать', 'переоценить', 'переоценить', 'переоценка', 'переоценка', 'перепаивать', 'перепалка', 'перепачкать', 'перепить', 'перепиться', 'переплата', 'переплатить', 'переплачивание', 'переплачивать', 'переплет', 'переплюнуть', 'перепоить', 'переполнение', 'переполненность', 'переполненный', 'переполнить', 'переполниться', 'переполнять', 'переполняться', 'переполох', 'переполошиться', 'перепуг', 'перепугаться', 'перепутать', 'перепутать', 'перепутать', 'перепутывать', 'перепутывать', 'перепутывать', 'перерезать себе горло', 'переругаться', 'переругиваться', 'пересаливать', 'пересластить', 'переслащивать', 'пересолить', 'пересохнуть', 'пересрать', 'перессориться', 'переставать доверять', 'переставать понимать', 'переставать уважать', 'перестараться', 'перестать доверять', 'перестать нравиться', 'перестать понимать', 'перестать уважать', 'перестреливаться', 'перестрелка', 'переступать закон', 'переступать черту', 'переступать', 'переступать', 'переступить закон', 'переступить черту', 'переступить', 'переступить', 'пересушивать', 'пересушить', 'пересушка', 'пересыхание', 'пересыхать', 'перетревожить', 'перетрусить', 'переть', 'переться', 'переутомить', 'переутомиться', 'переутомление', 'переутомлять', 'переутомляться', 'перехваливание', 'перехваливать', 'перехвалить', 'перехватить через край', 'перехватить', 'перехватывать', 'перехлест', 'перехлест', 'перехлестнуть', 'перехлестнуть', 'перехлестывать', 'перехлестывать', 'переход на личности', 'переходить все границы', 'переходить на личности', 'перехотеть', 'перечить', 'перхоть', 'першение', 'першить', 'песочить', 'пессимизм', 'пессимист', 'пессимистический', 'пессимистичность', 'пессимистичный', 'пессимистка', 'петь с чужлшл голоса', 'печалить', 'печалиться', 'печаль', 'печальбеда', 'печалька', 'печальность', 'печальный', 'пешка в чужой игре', 'пешка', 'пигмей', 'пинать ногами', 'пипец', 'пир во время чумы', 'пирамида', 'пират', 'пиратка', 'пиратский', 'пиратство', 'пиратствовать', 'пиррова победа', 'писец', 'писклявость', 'писклявый', 'писька', 'пить горькую', 'пичаль', 'пищание', 'пищать', 'плагиат', 'плагиатор', 'плакать', 'плакаться', 'платность', 'платный', 'плачевность', 'плачевный', 'плевать в потолок', 'плен', 'пленение', 'плести интригу', 'плешиветь', 'плешь', 'плоский юмор', 'плоский', 'плоховатый', 'плохой', 'плохонький', 'плут', 'плутовка', 'плутовство', 'плясать под', 'пневмония', 'по иронии', 'по неизвестной причине', 'по понятиям', 'по фигу', 'по яйцам бить', 'побаиваться', 'побаливать', 'побаловаться', 'побастовать', 'побеспокоить', 'побеспокоиться', 'побираться', 'побирушка', 'поблеклость', 'поблеклый', 'поблекнуть', 'побои', 'побоище', 'поболеть', 'поболеть', 'поборы', 'побояться', 'побранивать', 'побранить', 'побраниться', 'побрезгать', 'побрезговать', 'побрюзжать', 'побухать', 'повальность', 'повальный', 'поверхностность', 'поверхностный', 'повестись на пряник', 'повздорить', 'повинный', 'повозмущаться', 'поволноваться', 'поворовать', 'повредить', 'повредиться', 'повреждать', 'повреждаться', 'повреждение', 'повстанец', 'повстанческий', 'повымереть', 'повысились тарифы', 'повысить тарифы', 'повышать тарифы', 'повышение стоимости', 'повышение тарифов', 'повышение цен', 'повышенная температура', 'поганый', 'погибать', 'погибель', 'погибнуть', 'погибший', 'поглумиться', 'поглупеть', 'погнушаться', 'погорячиться', 'пограбить', 'погребальный', 'погребать', 'погребение', 'погрешить', 'погрешность', 'погрозить', 'погрозиться', 'погром', 'погромный', 'погрустить', 'погрустнеть', 'погубитель', 'погубить', 'под градусом', 'под давлением', 'под зад коленом', 'под прессом', 'под раздачу попадать', 'под раздачу попасть', 'подавить', 'подавить', 'подавить', 'подавить', 'подавиться', 'подавление', 'подавленность', 'подавленный', 'подавлять', 'подавлять', 'подавлять', 'подавлять', 'подбрасывание улик', 'подбрасывать улики', 'подбросить улики', 'подвести', 'подводить', 'подворовывание', 'подворовывать', 'подвох', 'подгадить', 'подгаживать', 'подговаривать', 'подговор', 'подговорить', 'поддатый', 'поддать', 'поддать', 'подделать', 'подделка', 'подделывать', 'подделываться', 'поддельность', 'поддельный', 'поддельщик', 'поддразнивать', 'поддразнить', 'подеваться', 'подельник', 'подельница', 'поджать губы', 'поджигатель', 'поджигательница', 'поджигательский', 'поджимать губы', 'поджог', 'подземные толчки', 'подзудить', 'подзуживать', 'подкаблучник', 'подкапывание', 'подкапываться', 'подкачать', 'подкашивать', 'подкашивать', 'подкинуть улики', 'подкладывать свинью', 'подковерный', 'подкопаться', 'подкосить', 'подкосить', 'подкузьмить', 'подкуп', 'подкупать', 'подкупить', 'подлец', 'подлиза', 'подлизаться', 'подлизываться', 'подлинность не установлена', 'подличать', 'подлог', 'подложить свинью', 'подложность', 'подложный', 'подлость', 'подлый', 'подлюга', 'подмазаться', 'подмазываться', 'подмачивать', 'подмачивать', 'подмерзание', 'подмерзание', 'подмерзать', 'подмерзать', 'подмерзнуть', 'подмерзнуть', 'подмочить', 'подмочить', 'поднабираться', 'поднабраться', 'поднадоесть', 'подневольность', 'подневольный', 'поднимать тарифы', 'поднялись тарифы', 'поднять на смех', 'поднять тарифы', 'подозреваемый', 'подозревать', 'подозрение', 'подозрительность', 'подозрительный', 'подольститься', 'подольщаться', 'подонок', 'подорвать', 'подорвать', 'подосадовать', 'подпитие', 'подполье', 'подпольный', 'подпортить', 'подразнить', 'подразнить', 'подразнить', 'подрастеряться', 'подрастеряться', 'подраться', 'подробно разжевать', 'подрыв', 'подрывать', 'подрывать', 'подскочили цены', 'подспудность', 'подспудный', 'подстава', 'подставить', 'подставлять', 'подставная компания', 'подставная фирма', 'подставной', 'подстраивать', 'подстрекатель', 'подстрекательница', 'подстрекательский', 'подстрекательство', 'подстрекать', 'подстрекать', 'подстрекнуть', 'подстрекнуть', 'подстроить', 'подсудить', 'подсудный', 'подсуживание', 'подсуживать', 'подтасовать', 'подтасовка', 'подтасовывание', 'подтасовывать', 'подтачивать', 'подтачивать', 'подташнивание', 'подташнивать', 'подтопление', 'подточить', 'подточить', 'подурнеть', 'подустать', 'подхалим', 'подхалимаж', 'подхалимка', 'подхалимничанье', 'подхалимничать', 'подхалимский', 'подхалимство', 'подхалимствовать', 'подчистка документа', 'подъезжать', 'подъехать', 'поехала крыша', 'пожадничать', 'пожалеть время', 'пожалеть деньги', 'пожалеть', 'пожалеть', 'пожаловаться', 'пожаловаться', 'пожалуйста исправьте', 'пожар', 'пожизненное заключение', 'пожизненный срок', 'пожурить', 'позавидовать', 'позавчерашний', 'позариться', 'поздно исправили', 'поздно исправлять', 'позер', 'позерка', 'позерский', 'позерство', 'позлорадствовать', 'позлословить', 'позор', 'позориться', 'позорище', 'позорность', 'позорный', 'поиздеваться', 'поизноситься', 'поймать с поличным', 'пойти на панель', 'показать на дверь', 'показной', 'показуха', 'показушный', 'покалечить', 'покалывать', 'покапризничать', 'поквитаться', 'поклеп', 'поколачивать', 'поколдовать', 'поколотить', 'покончить с собой', 'покопаться', 'покопаться', 'покорежить', 'покорность', 'покорный', 'покоробить', 'покраснеть от стыда', 'покривить душой', 'покривить совестью', 'покритиковать', 'покуражиться', 'покуролесить', 'покуситься', 'покушаться', 'покушение', 'полагаться на авось', 'полагаться на авось', 'полая вода', 'полбеды', 'полезть в петлю', 'полениться', 'полиартрит', 'полиомиелит', 'полиомиелитный', 'политизация', 'политизирование', 'политизировать', 'политический вакуум', 'политрепрессии', 'полная х', 'полноватый', 'полное уг', 'полномочий лишать', 'полномочий лишаться', 'полномочий лишить', 'полномочий лишиться', 'полный ноль', 'полный провал', 'половодье', 'положить зубы на полку', 'положить под сукно', 'поломаться', 'поломка', 'полоумный', 'полуголодный', 'полуграмотный', 'полудурок', 'полукриминальный', 'полумертвый', 'полупьяный', 'полусонный', 'получать выговор', 'получать ожог', 'получать срок', 'получение срока', 'получить ожог', 'получить скро', 'полысеть', 'пользмы минимум', 'польстить', 'помарка', 'помаяться', 'помереть', 'помереть', 'помеха', 'помеховый', 'помешанный', 'помешать', 'помирать', 'помирать', 'помоечный', 'помойка', 'поморозить', 'помотать нервишки', 'помрачать', 'помрачаться', 'помрачить', 'помрачиться', 'помутилось сознание', 'помутить', 'помутить', 'помутиться в голове', 'помутиться', 'помутиться', 'помутнение', 'помутнеть', 'помучить', 'помучиться', 'помятость', 'помятый', 'помяться', 'помяться', 'понижать в статусе', 'понижать статус', 'понижение остроты слуха', 'понижение статуса', 'понижение уровня жизни', 'пониженный слух', 'понизить в статусе', 'понизить остроту слуха', 'понизить статус', 'поникнуть духом', 'поникнуть', 'поникнуть', 'поникнуть', 'поножовщина', 'понос', 'поносный', 'поношенность', 'поношенный', 'понравиться не очень', 'понурость', 'понурый', 'поныть', 'поорать', 'поостынуть', 'поостыть', 'попадать под раздачу', 'попасть под раздачу', 'попенять', 'попереться', 'попирать', 'поплакаться', 'попортить', 'попрание', 'попрать', 'попрек', 'попрекать', 'попрекнуть', 'попрошайка', 'попрошайничать', 'попрошайнический', 'попрошайничество', 'популизм', 'популист', 'популистка', 'популистский', 'популярность упала', 'попуститель', 'попустительница', 'попустительский', 'попустительство', 'попустительствовать', 'попутать', 'поработить', 'порабощать', 'порабощение', 'поражать', 'поражать', 'поражение мозга', 'поражение нервной системы', 'поражение', 'поражение', 'поразить', 'поразить', 'поранить', 'пораниться', 'пореветь', 'порицание', 'порицать', 'порно', 'порнографический', 'порнография', 'порноматериал', 'порнопродукция', 'порнуха', 'порнушка', 'порок', 'пороть горячку', 'порочность', 'порочный', 'портачить', 'портить', 'портиться', 'поругание', 'поругать', 'поругать', 'поругаться', 'поругаться', 'поругивать', 'порушить', 'порча', 'порча', 'порча', 'порыв ветра', 'порыв', 'порыдать', 'по-свински', 'посетовать', 'поскальзываться', 'поскальзываться', 'поскандалить', 'поскользнуться', 'поскользнуться', 'поскупиться', 'последствие', 'послушная кукла', 'послушная марионетка', 'посмеиваться', 'посмеяться', 'пособник', 'пособница', 'пособничать', 'пособничество', 'посомневаться', 'поспекулировать', 'поспешность', 'поспешный', 'посрать', 'посредственность', 'посредственный', 'поссориться', 'поставить в тупик', 'поставить в упрек', 'поставить крест', 'поставить на колени', 'поставить на уши', 'поставить под вопрос', 'поставить под удар', 'поставить с ног на голову', 'постесняться', 'постный', 'постоянное повторение', 'постоянный повтор', 'пострадать', 'постыдиться', 'постыдность', 'постыдный', 'посягательство', 'посягать', 'посягнуть', 'потакание', 'потакать', 'потасканность', 'потасканный', 'потаскуха', 'потасовка', 'потатчик', 'потатчица', 'потворство', 'потворствование', 'потворствовать', 'потворщик', 'потворщица', 'потемки', 'потерпеть провал', 'потертость', 'потертый', 'потеря авторитета', 'потеря актуальности', 'потеря влаги', 'потеря возможности', 'потеря времени', 'потеря доверия', 'потеря интереса', 'потеря крови', 'потеря популярности', 'потеря слух', 'потеря сознания', 'потеря уважения', 'потеря', 'потеря', 'потеря', 'потеря', 'потеря', 'потерять авторитет', 'потерять актуальность', 'потерять возможность', 'потерять время', 'потерять дар речи', 'потерять доверие', 'потерять интерес', 'потерять покой', 'потерять популярность', 'потерять представление', 'потерять свое время', 'потерять свой шарм', 'потерять свой', 'потерять свою актуальность', 'потерять силы', 'потерять сознание', 'потерять человеческий', 'потеряться', 'потеряться', 'потеряться', 'потеряться', 'потеряться', 'потешаться', 'потливость', 'потоп', 'потрава', 'потравить', 'потрахаться', 'потрахушка', 'потребитель', 'потребительница', 'потребительский', 'потребительское отношение', 'потребительство', 'потребовать деньги назад', 'потребовать компенсации', 'потребовать объяснений', 'потребовать справедливости', 'потревожить', 'потрепанность', 'потрепанный', 'потрепать нервы', 'потрепаться', 'потрепаться', 'потрепаться', 'потроллить', 'потрясать', 'потрясать', 'потрясать', 'потрясение', 'потрясение', 'потрясение', 'потрясти', 'потрясти', 'потянуть', 'поубивать', 'пофиг', 'похабность', 'похабный', 'похабщина', 'похварывать', 'похититель', 'похитить', 'похищать', 'похищение', 'похмелье', 'похмельный синдром', 'похмельный', 'похоронить', 'похоронный', 'похоронный', 'похороны', 'похотливость', 'похотливый', 'похрен', 'похулиганить', 'почудить', 'пошантажировать', 'пошатнуть', 'пошловатый', 'пошлость', 'пошлый', 'пошлятина', 'пощекотать нервы', 'пощечина', 'правонарушающий', 'правонарушение', 'правонарушитель', 'правонарушительница', 'празднословие', 'празднословный', 'праздность', 'праздный', 'превратиться в формальность', 'превратиться в формальный', 'превратно', 'превратности судьбы', 'превратность', 'превратный', 'превращаться в формальность', 'превращаться в формальный', 'превысить властные полномочия', 'превысить властные полномочия', 'превысить должностные полномочия', 'превысить должностные полномочия', 'превысить полномочия', 'превысить полномочия', 'превысить права', 'превысить свои полномочия', 'превысить служебные полномочия', 'превысить служебные полномочия', 'превысить', 'превышать властные полномочия', 'превышать властные полномочия', 'превышать должностные полномочия', 'превышать должностные полномочия', 'превышать полномочия', 'превышать полномочия', 'превышать права', 'превышать свои полномочия', 'превышать служебные полномочия', 'превышать служебные полномочия', 'превышать', 'превышение власти', 'превышение властных полномочий', 'превышение должностных полномочий', 'превышение полномочий', 'превышение служебных полномочий', 'превышение', 'преграда', 'прегрешение', 'предаварийный', 'предавать', 'предатель', 'предательница', 'предательский', 'предательство', 'предать земле', 'предать', 'предать', 'предвзятость', 'предвзятый', 'предосудительность', 'предосудительный', 'предрассудок', 'предсмертный', 'предубеждение', 'предубежденность', 'предубежденный', 'предынфарктный', 'преждевременность', 'преждевременный', 'презирать', 'презрение', 'презренный', 'презрительно', 'презрительный', 'преисподняя', 'прекословить', 'пренеприятнейший', 'пренеприятный', 'препоны', 'препятствие', 'препятствие', 'препятствование', 'препятствовать', 'пресекать', 'пресекаться', 'пресечение', 'пресечь', 'преследование', 'преследование', 'преследователь', 'преследовательница', 'преследовательский', 'пресловутость', 'пресловутый', 'пресность', 'пресность', 'преснота', 'пресный', 'пресный', 'прессинг', 'престарелость', 'престарелый', 'преступать', 'преступить закон', 'преступить', 'преступление', 'преступник', 'преступница', 'преступность', 'преступный', 'пресытиться', 'пресыщаться', 'пресыщение', 'пресыщенность', 'пресыщенный', 'претензионный', 'претензия', 'претенциозность', 'претенциозный', 'преувеличение', 'преувеличивать', 'преувеличить', 'преуменьшать', 'преуменьшение', 'преуменьшить', 'приболеть', 'привередливость', 'привередливый', 'привередничать', 'привести в запустение', 'привести к опустошению', 'привести к провалу', 'привирать', 'приводить в запустение', 'приводить к опустошению', 'приврать', 'привязаться', 'привязываться', 'приговор', 'приговор', 'пригорюниваться', 'пригорюниться', 'придираться', 'придирка', 'придирчивость', 'придирчивый', 'придраться', 'придурок', 'придурь', 'прижимистость', 'прижимистый', 'призрак', 'прилгать', 'прилгнуть', 'прилипала', 'прилипчивость', 'прилипчивый', 'применение оружия', 'применение силы', 'применение силы', 'применить силу', 'применить силу', 'применять силу', 'применять силу', 'примитивизм', 'примитивность', 'примитивный', 'принижать', 'принижение', 'принизить', 'принудительность', 'принудительный', 'принудить', 'принуждать', 'принуждение', 'принужденность', 'принужденный', 'приостанавливать деятельность', 'приостановить деятельность', 'приостановка деятельности', 'приостановка развития', 'припадок', 'припадочный', 'припереться', 'приписки', 'припоздать', 'припоздниться', 'приревновать', 'прирост тарифов', 'присваивать чужие деньги', 'присваивать чужое', 'присвоение авторства', 'присвоение чужих денег', 'присвоение чужого', 'присвоить чужие деньги', 'присвоить чужое', 'прискорбие', 'прискорбность', 'прискорбный', 'прискучивать', 'прискучить', 'прислужничать', 'прислужничество', 'присосаться как пиявка', 'приспешник', 'приспешница', 'приспешнический', 'приспичить', 'приспособленец', 'приспособленка', 'приспособленческий', 'приспособленчество', 'приставучий', 'пристрастие', 'пристрастность', 'пристрастный', 'приструнивать', 'приструнить', 'приступ болезни', 'приступ', 'приступ', 'притвора', 'притворность', 'притворный', 'притворщик', 'притворщица', 'притеснение', 'притеснитель', 'притеснить', 'притеснять', 'притомить', 'притомиться', 'притон', 'приторно любезный', 'приторно нежный', 'приторность', 'приторный', 'притянутый за уши', 'притянуть за уши', 'приуменьшать', 'приуменьшение', 'приуменьшить', 'приунывать', 'приуныть', 'приустать', 'прихварывать', 'прихватило сердце', 'прихвостень', 'прихлебатель', 'прихлебательница', 'прихлебательский', 'прихоть', 'прицепиться', 'прицепиться', 'прицепляться', 'прицепляться', 'причуда', 'причуда', 'пришибленность', 'пришибленный', 'пробежала черная кошка', 'пробел в информации', 'пробел', 'пробел', 'пробка на дороге', 'пробка', 'пробка', 'проблевать', 'проблеваться', 'проблема со здоровьем', 'проблема', 'проблематический', 'проблематичность', 'проблематичный', 'проблемность', 'проблемный', 'пробоина', 'проболеть', 'пробрюзжать', 'пробуксовка', 'пробуксовывание', 'пробуксовывать', 'провал', 'провал', 'провал', 'провал', 'проваливать', 'проваливать', 'проваливаться', 'проваливаться', 'проваливаться', 'проваливаться', 'проваливаться', 'провалить', 'провалить', 'провалиться', 'провалиться', 'провалиться', 'провалиться', 'провалиться', 'провальность', 'провальный', 'провальный', 'проваляться', 'провинциал', 'провинциализм', 'провинциалка', 'провинциальность', 'провинциальный', 'проводить в последний путь', 'провокативный', 'провокатор', 'провокаторский', 'провокаторша', 'провокационность', 'провокационный', 'провокация', 'проволочка', 'провороваться', 'проворовываться', 'проворонить', 'провоцирование', 'провоцировать', 'прогадать', 'прогадывать', 'прогнивать', 'прогнить', 'прогрессирование', 'прогрессировать', 'прогул', 'прогуливать', 'прогуливать', 'прогуливать', 'прогульщик', 'прогульщица', 'прогулять', 'прогулять', 'прогулять', 'прогулять', 'продажность', 'продажный', 'проделка', 'продешевить', 'продрогнуть', 'прожженность', 'прожженный', 'прозевать', 'прозябание', 'прозябать', 'проигнорировать', 'пройдоха', 'произвол', 'происки', 'пройтись катком', 'прокалываться', 'проканителиться', 'проклинать', 'проклинать', 'проклясть', 'проклясть', 'проклятие', 'проклятый', 'проклятье', 'прокол', 'проколоться', 'проколоться', 'прокопаться', 'прокрустово ложе', 'пролаза', 'проливается кровь', 'проливать слезы', 'пролилась кровь', 'пролитие крови', 'пролить кровь', 'пролить слезы', 'пролом', 'промаргивать', 'проматывать', 'промах', 'промах', 'промахиваться', 'промахиваться', 'промахнуться', 'промахнуться', 'промашка', 'промаяться', 'промедление', 'промедлить', 'промерзание', 'промерзать', 'промерзнуть', 'промешкать', 'промешкаться', 'проморгать', 'промотать', 'промучить', 'промучиться', 'промывание мозгов', 'промывать мозги', 'промывать мозги', 'промываются мозги', 'промывка мозгов', 'промывка мозгов', 'промыть мозги', 'промыть мозги', 'промышленный выброс', 'пронацистский', 'пронзительно резкий', 'пронзительность', 'пронзительность', 'пронзительный', 'пронзительный', 'проныра', 'пронырливость', 'пронырливый', 'проорать', 'пропадать', 'пропажа', 'пропесочивать', 'пропесочить', 'пропивать деньги', 'пропить деньги', 'пропищать', 'проплаченный отзыв', 'пропойца', 'прорыдать', 'просадить деньги', 'просадить', 'просадить', 'просаживать деньги', 'просаживать', 'просаживать', 'просить денег', 'проспать', 'проспать', 'просранный', 'просрать', 'просроченный', 'просрочивать', 'просрочить', 'просрочка', 'простенький', 'проститутка', 'проституция', 'просто не', 'просто несерьезно', 'просто никакой', 'простоватость', 'простоватый', 'простой', 'простой', 'простофиля', 'пространность', 'пространный', 'прострел', 'простреливать', 'прострелять', 'простуда', 'простудиться', 'простудный', 'простужаться', 'простуживаться', 'проступок', 'просчет', 'просчет', 'просчет', 'просчитаться', 'просчитываться', 'протеже', 'протекционизм', 'протест', 'протестный', 'протестовать', 'протечка', 'противник', 'противник', 'противник', 'противница', 'противность', 'противный', 'противоборство', 'противоборствовать', 'противодействие', 'противодействовать', 'противоестественность', 'противоестественный', 'противозаконность', 'противозаконный', 'противоправность', 'противоправный', 'противоречивость', 'противоречивый', 'противоречие', 'противоречие', 'противоречить', 'противоречить', 'профан', 'профанация', 'профанировать', 'профашистский', 'профукать', 'прохаживаться насчет', 'прохворать', 'прохвост', 'прохвостка', 'прохиндей', 'прохиндейка', 'прохиндейский', 'прохладность', 'прохладный', 'прохлопать ушами', 'прохлопать', 'прохлопывать', 'проходимец', 'проходимка', 'прошлепать', 'прошляпить', 'прощелыга', 'пруссак', 'прыщ', 'прыщаветь', 'прыщавость', 'прыщавый', 'прыщеватость', 'прыщик', 'псевдонаука', 'псевдонаучный', 'псих', 'психануть', 'психологическая обработка', 'психологический комплекс', 'пугало', 'пугало', 'пугаться', 'пугливость', 'пугливый', 'пудрить мозги', 'пузан', 'пузатость', 'пузатый', 'пукан', 'пукнуть', 'пунктик', 'пускать ко дну', 'пускать под откос', 'пустая декларация', 'пустить ко дну', 'пустить красного петуха', 'пустить под откос', 'пустить пулю в лоб', 'пустить себе пулю в лоб', 'пуститься во все тяжкие', 'пустобрех', 'пустоголовость', 'пустоголовый', 'пустое место', 'пустозвон', 'пустозвонить', 'пустозвонство', 'пустой', 'пустой', 'пустомеля', 'пустопорожний', 'пустослов', 'пустословие', 'пустословить', 'пустословный', 'пустота в душе', 'пустота', 'пустота', 'пустота', 'пустые кастрюли', 'пустые слова', 'пусть убираются', 'пустячность', 'пустячный', 'путана', 'путаница', 'путаность', 'путаный', 'путаный', 'путать', 'путать', 'путать', 'путать', 'путать', 'путаться', 'путаться', 'путаться', 'путч', 'путчист', 'путчистка', 'путчистский', 'пшел', 'пыжиться', 'пыль', 'пытать', 'пытка', 'пытка', 'пыточный', 'пьяненький', 'пьянеть', 'пьяница', 'пьянка', 'пьянство', 'пьянствовать', 'пьянчуга', 'пьянчужка', 'пьяный', 'пьяный', 'пьянь', 'пялить глаза', 'пялиться', 'пятки лизать', 'пятно бесчестья', 'пятно на репутации', 'пятно на совести', 'пятно', 'пятно', 'пятно', 'раб', 'работать как вол', 'рабский', 'рабский', 'рабство', 'рабство', 'рабство', 'рабыня', 'равнодушие', 'равнодушный', 'рад бы', 'рад был бы', 'радиационное поражение', 'радиационноопасный', 'радиационный след', 'радикал', 'радикализация', 'радикализировать', 'радикализироваться', 'радикализм', 'радикализовать', 'радикалистский', 'радикалка', 'разбазаривание', 'разбазаривать', 'разбазарить', 'разбаливаться', 'разбаловать', 'разбой', 'разбойник', 'разбойница', 'разбойничать', 'разбойный', 'разболеться', 'разболтанность', 'разболтанный', 'разбомбить', 'разбраниваться', 'разбранить', 'разбраниться', 'разброд', 'разбрюзжаться', 'разбушеваться', 'разбуяниться', 'разважничаться', 'развал', 'развал', 'развал', 'разваливание', 'разваливание', 'разваливать', 'разваливать', 'разваливаться', 'разваливаться', 'разваливаться', 'развалить', 'развалить', 'развалиться', 'развалиться', 'развалиться', 'развеивать восторг', 'развесистая клюква', 'развинченность', 'развинченный', 'разводить антимонии', 'разволновать', 'разворовать', 'разворовывание', 'разворовывать', 'разврат', 'развратить', 'развратник', 'развратница', 'развратничать', 'развратнический', 'развратный', 'развращать', 'развращаться', 'развращение', 'развязность', 'развязный', 'разгильдяй', 'разгильдяйка', 'разгильдяйничать', 'разгильдяйский', 'разгильдяйство', 'разгласить', 'разглашать', 'разглашение', 'разгневанность', 'разгневанный', 'разграбить', 'разграбление', 'разграблять', 'разгром', 'разгул', 'разгульный', 'разгуляться', 'раздавить', 'раздавить', 'раздавить', 'раздавиться', 'раздача обещаний', 'раздеть до последней нитки', 'раздолбай', 'раздолбайство', 'раздор', 'раздосадовать', 'раздражать', 'раздражаться', 'раздражаться', 'раздражение на коже', 'раздражение', 'раздражение', 'раздражение', 'раздражение', 'раздраженность', 'раздраженный', 'раздражитель', 'раздражительность', 'раздражительный', 'раздражить', 'раздразнивать', 'раздразнить', 'раздрай', 'разжигание', 'раззява', 'разиня', 'разить', 'разлад', 'разладиться', 'разлаживаться', 'разлеживаться', 'разлениваться', 'разлениться', 'разлив нефти', 'разломаться', 'разлюбить', 'размазня', 'размолвка', 'размыв', 'размывание', 'размытость', 'размытый', 'разнести магазить', 'разнести', 'разнести', 'разнести', 'разногласие', 'разноречивость', 'разноречивый', 'разнос', 'разнос', 'разносный', 'разобидеть', 'разобидеться', 'разоблачать', 'разоблачение', 'разоблачительный', 'разоблачительство', 'разоблачить', 'разобщенность', 'разобщенный', 'разозлить', 'разозлиться', 'разонравиться', 'разораться', 'разорение', 'разоритель', 'разорительница', 'разорительность', 'разорительный', 'разорительский', 'разорить', 'разориться', 'разорять', 'разочарование', 'разочарованность', 'разочароваться', 'разочаровываться', 'разразиться проклятиями', 'разрастание', 'разрегулирование', 'разрегулироваться', 'разрозненность', 'разрозненный', 'разругать', 'разругаться', 'разругивать', 'разруха', 'разрушать', 'разрушаться', 'разрушение', 'разрушитель', 'разрушительница', 'разрушительность', 'разрушительный', 'разрушительский', 'разрушить', 'разрушиться', 'разрыв', 'разрыв', 'разрыв', 'разрыв', 'разрыв', 'разрыв', 'разрядиться', 'разрядиться', 'разрядка', 'разряжаться', 'разряжаться', 'разуверение', 'разувериться', 'разуверяться', 'разыграться', 'рак крови', 'рак', 'раковый', 'рана', 'ранение', 'раненый', 'ранить', 'ранка', 'расизм', 'расист', 'расистка', 'расистский', 'раскалиться', 'раскалиться', 'раскаляться', 'раскачивание лодки', 'раскачивать лодку', 'раскачивать лодку', 'расквитаться', 'раскол в организации', 'раскол в рядах', 'раскол', 'раскол', 'раскольник', 'раскритиковать', 'раскричаться', 'раскулачивание', 'раскулачивать', 'раскулачить', 'расовое превосходство', 'расовый барьер', 'распад', 'распадаться', 'распадение', 'распалиться', 'распаляться', 'распасться', 'распекание', 'распекать', 'распечь', 'распил денег', 'распил и откат', 'распил средств', 'распил', 'распитие спиртных напитков', 'расплата', 'расплата', 'расплывчатость', 'расплывчатый', 'распоясаться', 'распоясываться', 'расправа', 'распространение огня', 'распространение радиации', 'распря', 'распсиховаться', 'распутник', 'распутница', 'распутничать', 'распутнический', 'распутный', 'распутство', 'распущенность', 'распущенный', 'рассердиться', 'рассеянность', 'рассеянный', 'рассориваться', 'рассориться', 'расстраивание', 'расстраивать', 'расстраивать', 'расстраивать', 'расстраивать', 'расстраиваться', 'расстрел', 'расстроенный', 'расстройство', 'расстройство', 'расстройство', 'расстройство', 'расстройство', 'расстройство', 'расстроить', 'расстроить', 'расстроить', 'расстроить', 'расстроиться', 'расстроиться', 'рассусоливание', 'рассусоливать', 'рассусолить', 'рассыпание', 'рассыпаться', 'растащиловка', 'растерзать в клочки', 'растерзать в клочья', 'растериваться', 'растериваться', 'растерянность', 'растерянный', 'растеряться', 'растеряться', 'растеряха', 'растеряша', 'растлевать', 'растлевать', 'растление', 'растление', 'растлить', 'растлить', 'расточитель', 'расточительница', 'расточительность', 'расточительный', 'расточительский', 'расточительство', 'растранжиривание', 'растранжиривать', 'растранжирить', 'растрата', 'растратчик', 'растратчица', 'растревоживать', 'растревожить', 'растрепа', 'растянутость', 'растянутый', 'растяпа', 'расхварываться', 'расхвораться', 'расхититель', 'расхитить', 'расхищать', 'расхищение', 'расхлябанность', 'расхлябанный', 'расходный материал', 'расхождение', 'расхождение', 'расхожий', 'расчлененка', 'расшатать', 'расшатать', 'расшатывание', 'расшатывать', 'расшатывать', 'рахит', 'рахитичка', 'рахитичный', 'рахитный', 'раша', 'рвать на голове волосы', 'рвать на себе волосы', 'рвота', 'рвотный', 'реакционность', 'ревнивец', 'ревнивица', 'ревнивость', 'ревнивый', 'ревновать', 'ревность', 'революция', 'резкий на слух', 'резкий', 'резкий', 'резкий', 'резковатый', 'резкость', 'резкость', 'резкость', 'резня', 'резонерский', 'резь', 'рейдер', 'рейдерский', 'рейдерство', 'ренегат', 'ренегатка', 'ренегатский', 'ренегатство', 'репрессивность', 'репрессивный', 'репрессировать', 'репрессия', 'рецессия', 'рецидив', 'рецидивизм', 'рецидивист', 'рецидивистка', 'рецидивистский', 'рецидивный', 'ринит', 'риск', 'рискнуть', 'рискованность', 'рискованный', 'рисковать', 'рисковый', 'рисковый', 'рисковый', 'рисоваться', 'рисовка', 'риторика', 'робкий', 'робость', 'рожа', 'рожа', 'рознь', 'роковой', 'роль дубинки', 'роль марионетки', 'ропот', 'ропот', 'роптанье', 'роптать', 'роскошество', 'россказни', 'рост тарифов', 'ротозей', 'рохля', 'ругань', 'ругательный', 'ругать', 'ругаться', 'ругнуться', 'рукалицо', 'рукоблудие', 'рукоприкладство', 'русофоб', 'русофобия', 'русофобский', 'рушить', 'рушиться', 'рыло в пуху', 'рыло в пушку', 'рыльце в пуху', 'рыльце в пушку', 'рыхлость', 'рыхлый', 'рэкетир', 'рэкетирша', 'с гнильцой', 'с души воротит', 'с натягом', 'с позволения сказать', 'с прохладцей', 'с прохладцей', 'садизм', 'садист', 'садистка', 'садистский', 'садиться на мель', 'саднить', 'садомазохизм', 'садомазохист', 'садомазохистка', 'садомазохистский', 'сажать здоровье', 'салага', 'сальность', 'сальный', 'сальный', 'сам черт не разберет', 'самовластность', 'самовластный', 'самовлюбленность', 'самовлюбленный', 'самовольничать', 'самовольный', 'самовольство', 'самогоноварение', 'самогонщик', 'самодельничать', 'самодур', 'самодурка', 'самодурничать', 'самодурский', 'самодурство', 'самодурствовать', 'самозахват', 'самолет упал', 'самолечение', 'самомнение', 'самонадеянность', 'самонадеянный', 'самообман', 'самообольщаться', 'самообольщение', 'самоповешение', 'саморазрушение', 'саморазрушительный', 'самосожжение', 'самострел', 'самострой', 'самосуд', 'самосудный', 'самоубийственный', 'самоубийство', 'самоубийца', 'самоуверенность', 'самоуверенный', 'самоунижение', 'самоуничижение', 'самоуничижительный', 'самоуправный', 'самоуправство', 'санкция', 'саранча', 'саранчовый', 'сардонический', 'сарказм', 'саркастический', 'саркастичность', 'саркастичный', 'сатанеть', 'сатанинский', 'сатанинский', 'сатрап', 'сахарный', 'сбиваться', 'сбиваться', 'сбиваться', 'сбиваться', 'сбиваться', 'сбивчивость', 'сбивчивый', 'сбиться', 'сбиться', 'сбиться', 'сбиться', 'сбиться', 'сбой', 'сбой', 'сборище', 'свадебный генерал', 'свалить власть', 'свалка', 'свара', 'сварливость', 'сварливый', 'свастика', 'сведение счетов', 'свербеть', 'свергать', 'свергнуть', 'свержение', 'сверлить глазами', 'свести счеты с жизнью', 'свести счеты', 'свинский', 'свинство', 'свинья', 'свинья', 'свинячить', 'свирепость', 'свирепствовать', 'свирепый', 'свищ', 'свищевой', 'сводить мышцы', 'сводить счеты', 'своеволие', 'своевольность', 'своевольный', 'своевольство', 'своекорыстие', 'своекорыстность', 'своекорыстный', 'своенравие', 'своенравность', 'своенравный', 'сволочь', 'свора', 'своровать', 'святотатственный', 'святотатство', 'святотатствовать', 'сгинуть', 'сглаз', 'сглазить', 'сглупить', 'сгнивать', 'сгнить', 'сговор', 'сгорать от стыда', 'сгорать со стыда', 'сгубить', 'сгустить краски', 'сдавать позиции', 'сдавать свои позиции', 'сдать позиции', 'сдать свои позиции', 'сдвурушничать', 'сделанный кое-как', 'сделано не было', 'сделать не так', 'сдрейфить', 'сдуреть', 'себялюбец', 'себялюбивый', 'себялюбие', 'себялюбка', 'сегрегационный', 'сегрегация', 'сейсмические толчки', 'сейсмоактивный', 'сексизм', 'секс-скандал', 'сепаратизм', 'сепаратист', 'сепаратистка', 'сепаратистский', 'серая схема', 'сердечник', 'сердечница', 'сердечный приступ', 'сердитость', 'сердитый', 'сердиться', 'сердце кровью обливается', 'сердце прихватило', 'серенький', 'серость', 'серчать', 'серый', 'серый', 'серьезная натяжка', 'серьезность положения', 'серьезность ситуации', 'серьезность', 'серьезный', 'сесть на мель', 'сетование', 'сетовать', 'сжечь', 'сжечь', 'сжигание', 'сжульничать', 'сивуха', 'сивушный', 'сидеть без дела', 'сидеть без света', 'сидеть сложа руки', 'сизо', 'силовое подавление', 'силой задержать', 'силой захватить', 'сильно набраться', 'сильное падение', 'синдром хронической усталости', 'синусит', 'синяк', 'сионизм', 'сионист', 'сионистический', 'сионистка', 'сионистский', 'сип', 'сипение', 'сипеть', 'сиплость', 'сиплый', 'сипнуть', 'сирота', 'сиротеть', 'сиротка', 'сиротский', 'сиротство', 'сифилис', 'сифилитический', 'скабрезность', 'скабрезный', 'сказануть', 'скандал', 'скандал', 'скандалист', 'скандалистка', 'скандалить', 'скандальность', 'скандальность', 'скандальный', 'скандальный', 'скандальный', 'скандальчик', 'скаред', 'скареда', 'скаредник', 'скаредничать', 'скаредность', 'скаредный', 'скатертью дорожка', 'скачок цен', 'сквалыга', 'сквалыжник', 'сквалыжница', 'сквалыжничать', 'сквалыжнический', 'сквернословие', 'сквернословить', 'скверный', 'сквозняк', 'скепсис', 'скептик', 'скептицизм', 'скептический', 'скептичность', 'скептичный', 'скинхед', 'скинхэд', 'скисать', 'скисать', 'скиснуть', 'скиснуть', 'склероз', 'склерозный', 'склеротик', 'склеротический', 'склеротичка', 'склока', 'склочничать', 'склочничество', 'склочный', 'скованность', 'скованный', 'скользкий', 'скользкий', 'скользкость', 'скользкость', 'скомпрометировать', 'сконфузиться', 'скопидом', 'скопидомка', 'скопидомничать', 'скопидомнический', 'скопидомничество', 'скопидомский', 'скопидомство', 'скопидомствовать', 'скорбеть', 'скорбность', 'скорбный', 'скорбь', 'скоропалительность', 'скоропалительный', 'скоропостижность', 'скоропостижный', 'скоропреходящий', 'скороспелость', 'скороспелый', 'скотина', 'скрепя сердце', 'скрытность', 'скрытный', 'скряга', 'скряжничать', 'скряжнический', 'скряжничество', 'скудеть', 'скуднеть', 'скудность', 'скудный', 'скудость', 'скудоумие', 'скудоумный', 'скука', 'скукота', 'скукотища', 'скулеж', 'скулить', 'скупать голоса', 'скупердяй', 'скупердяйка', 'скупердяйничать', 'скупердяйский', 'скупердяйство', 'скупец', 'скупить голоса', 'скупиться', 'скупка голосов', 'скупой на проявление чувств', 'скупой на чувства', 'скупой на эмоции', 'скупой', 'скупость', 'скучать', 'скучашка', 'скученность', 'скученный', 'скучноватый', 'скучность', 'скучный', 'слабак', 'слабачка', 'слабенький', 'слабенький', 'слабоватый', 'слабовидящий', 'слабоволие', 'слабовольный', 'слабое место', 'слабонервность', 'слабонервный', 'слаборазвитость', 'слаборазвитый', 'слабосильный', 'слабослышащий', 'слабость', 'слабость', 'слабоумие', 'слабоумный', 'слабохарактерность', 'слабохарактерный', 'слабый', 'слабый', 'слабый', 'сладкий', 'сладострастие', 'сладострастность', 'сладострастный', 'сладость', 'сластолюбивый', 'сластолюбие', 'слащавость', 'слащавый', 'след простыл', 'следственный изолятор', 'слежка', 'слезиться', 'слезливость', 'слезливый', 'слезный', 'слепнуть', 'слепо выполняющий', 'слепо исполняющий', 'слепой', 'слепой', 'слепой', 'слепота', 'слепота', 'слив информации', 'сливать информацию', 'слить информацию', 'слишком дешевый', 'слишком низкая цена', 'словоблудие', 'сложно воспринимать', 'сложно договариваться', 'сложно договориться', 'сложно найти', 'сложно поверить', 'сложности', 'сложность', 'сложный для выполнения', 'сложный для исполнения', 'сложный по характеру', 'сложный', 'слукавить', 'случай возгорания', 'случился облом', 'слюни', 'слюнтяй', 'слюнтяйка', 'слюнтяйский', 'слякотный', 'слякоть', 'слямзить', 'смазливый', 'смердеть', 'смертельный', 'смертность', 'смертность', 'смертоносность', 'смертоносный', 'смертоубийство', 'смерть', 'смерч', 'смерчевой', 'смести', 'смести', 'сметать', 'сметать', 'смехотворность', 'смехотворный', 'смешать в кучу', 'смешать в одну кучу', 'смешаться в кучу', 'смешаться в одну кучу', 'смешаться', 'смешаться', 'смешной', 'смещение', 'смещение', 'смеяться', 'сминание', 'сминаться', 'смириться', 'смиряться', 'сморозить', 'смошенничать', 'смрад', 'смрадность', 'смрадный', 'смурной', 'смута', 'смутиться', 'смутность', 'смутный', 'смутьян', 'смухлевать', 'смущаться', 'смычка', 'смятение', 'смяться', 'снегозаносы', 'снегопад', 'снежный обвал', 'снести крышу', 'снижается авторитет', 'снижается качество', 'снижать качество', 'снижать оценку', 'снижение авторитета', 'снижение жизнеспособности', 'снижение качества', 'снижение оценки', 'снижение плодородия', 'снижение экономической активности', 'снизилось качество', 'снизился авторитет', 'снизить авторитет', 'снизить жизнеспособность', 'снизить качество', 'снизить оценку', 'снизиться авторитет', 'снизиться жизнеспособность', 'сникать', 'сникнуть', 'сникнуть', 'сникнуть', 'снисходительность', 'снисходительный', 'снос', 'сносить крышу', 'собачиться', 'собутыльник', 'собутыльница', 'событием не стало', 'совать нос', 'совать свой нос', 'соваться', 'совковость', 'совковый', 'совок', 'совратить', 'совратить', 'соврать', 'совращать', 'совращать', 'совращение', 'совращение', 'соглядатай', 'согрешение', 'согрешить', 'содом и гоморра', 'сожаление', 'сожалеть', 'сойти с рук', 'сойти с ума', 'сократить работника', 'сократить рабочие места', 'сократить сотрудника', 'сокращать персонал', 'сокращать рабочие  места', 'сокращение персонала', 'сокращение работника', 'сокращение рабочих мест', 'сокращение сотрудника', 'сокращение штатов', 'сокрушаться', 'сокрушенность', 'сокрушенный', 'сокрытие', 'солгать', 'соленое слово', 'соленое словцо', 'сомневаться', 'сомнение', 'сомненье', 'сомнительность', 'сомнительный', 'сонливость', 'сонливый', 'сонность', 'сонный', 'сообщник', 'сообщница', 'сообщнический', 'соперник', 'соперница', 'соперничество', 'сопливый', 'сопляк', 'соплячка', 'сопротивление', 'сор', 'сорванец', 'сорить деньгами', 'сорить', 'сорный', 'сорняк', 'сорняковый', 'сортирный', 'соскучиться', 'состояние опьянения', 'сосунок', 'сотворить', 'сотрясение', 'соумышленник', 'соумышленница', 'соучастник', 'соучастница', 'сошка', 'спад производства', 'спад экономики', 'спад', 'спазм', 'спазма', 'спазматический', 'спаивание', 'спаивать', 'спам', 'спам-бот', 'спамер', 'спамерский', 'спам-индустрия', 'спамовый', 'спать с кем попало', 'спекулирование', 'спекулянт', 'спекулянтка', 'спекулянтский', 'спекуляция', 'спереть', 'спертость', 'спертый', 'спесивый', 'спесь', 'специзолятор', 'спешка', 'спешность', 'спешный', 'спиваться', 'спид', 'спирать', 'спитый', 'спиться', 'сплетник', 'сплетница', 'сплоховать', 'сплутовать', 'споить', 'спорный', 'споткнуться', 'споткнуться', 'споткнуться', 'спотыкаться', 'спотыкаться', 'спотыкаться', 'спускать деньги', 'спустить все деньги', 'спустить деньги', 'спустить на ветер', 'спустя рукава', 'спустя рукава', 'спутать', 'спутать', 'спутать', 'спутать', 'спутаться', 'спутаться', 'спутывать', 'спутывать', 'спутывать', 'спутывать', 'спьяну', 'сражать', 'сражать', 'сразить', 'сразить', 'срака', 'срамиться', 'сранный', 'сраный', 'срать', 'срач', 'среднего пошиба', 'средненький', 'средний по качеству', 'средний', 'срочно дорабатывать', 'срыв', 'срыв', 'срыв', 'срыв', 'ссадина', 'ссаный', 'ссать', 'ссора', 'ссориться', 'ставить крест', 'ставить на колени', 'ставить под вопрос', 'ставить под удар', 'ставить с ног на голову', 'стагнационный', 'стагнация', 'стагнировать', 'стагфляция', 'сталинистский', 'сталинщина', 'сталкивать с пути', 'становиться дороже', 'староватый', 'старозаветность', 'старозаветный', 'старомодность', 'старомодный', 'старость', 'старый', 'старый', 'статейка', 'статист в чужой игре', 'статист', 'стать дороже', 'стачечник', 'стачечница', 'стачечный', 'стачка', 'сташнивать', 'стенокардический', 'стенокардия', 'стерва', 'стервец', 'стервоза', 'стервозный', 'стереотипность', 'стереотипный', 'стертость', 'стертый', 'стеснение', 'стеснительность', 'стеснительный', 'стесняться', 'стибрить', 'стихийщик', 'стихия', 'столбняк', 'столбнячный', 'столкновение', 'столпотворение', 'стонать', 'стопорить', 'стопориться', 'стопориться', 'стосковаться', 'стошнить', 'страдалец', 'страдалица', 'страдальческий', 'страдание', 'страдать', 'страдать', 'странноватый', 'страх', 'страхолюдина', 'страшенный', 'страшилище', 'страшиться', 'страшненький', 'страшный', 'стрелять в себя', 'стреляться', 'стремно', 'стремный', 'стресс', 'стрессовый', 'стригущий лишай', 'строгий режим', 'строгий', 'строгость', 'строптивость', 'строптивый', 'струп', 'струсить', 'струхнуть', 'студеный', 'стукач', 'стукачество', 'стукачка', 'стушеваться', 'стушевываться', 'стыд', 'стыд', 'стыдиться', 'стыдливость', 'стыдливый', 'стыдно', 'стырить', 'стыть', 'стычка', 'стяжатель', 'стяжательница', 'стяжательский', 'стяжательство', 'субъективизм', 'субъективность', 'субъективный', 'судебное вмешательство', 'судимый', 'судорога', 'судорожность', 'судорожный', 'судорожный', 'судорожный', 'суеверие', 'суеверный', 'суета', 'суетиться', 'суетливость', 'суетливый', 'суетный', 'суицид', 'суицидальный', 'суицидный', 'суицидологический', 'сумасбродить', 'сумасбродка', 'сумасбродничанье', 'сумасбродничать', 'сумасбродность', 'сумасбродный', 'сумасбродство', 'сумасбродствовать', 'сумасшедший', 'сумасшествие', 'суматоха', 'суматошный', 'сумашедший', 'сумбур', 'сумбурность', 'сумбурный', 'сумничать', 'сумрачность', 'сумрачный', 'сумятица', 'сунуть нос', 'сунуть свой нос', 'сунуться', 'супостат', 'супостат', 'суровость', 'суровый', 'сусальность', 'сусальный', 'сутолока', 'сутуловатость', 'сутуловатый', 'сутулость', 'сутулый', 'сухой', 'сухой', 'сухость', 'сухость', 'сушь', 'сущие гроши', 'сущие копейки', 'сфабриковать', 'сфальсифицировать', 'сфальшивить', 'сфолить', 'схимичить', 'схитрить', 'сходить с рук', 'сходить с ума', 'сходка', 'считать ворон', 'съесть лишнее', 'сыпать проклятия', 'сыпь', 'табакокурение', 'табачный дым', 'тайфун', 'тайфунный', 'так и не исправить', 'так и не', 'так не делается', 'так не делают', 'так себе', 'талиб', 'тарабарщина', 'таракан', 'тараканий', 'таращить', 'таращиться', 'тарифы возросли', 'тарифы выросли', 'тарифы повысились', 'тарифы поднялись', 'тарифы увеличились,VG', 'тварь', 'твердокаменность', 'твердокаменный', 'твердолобость', 'твердолобый', 'театральность', 'театральный', 'текучка', 'текучка', 'телка', 'темень', 'темный', 'темный', 'температурить', 'тенденциозность', 'тенденциозный', 'теневая экономика', 'теневой бизнес', 'теневой оборот', 'теневой рынок', 'теневой сектор', 'теневой сектор', 'теплопотеря', 'теракт', 'терзание', 'терзаться', 'терпеть провал', 'террор', 'террор', 'террор', 'терроризирование', 'терроризировать', 'терроризм', 'терроризовать', 'террорист', 'террористический', 'террористка', 'терять авторитет', 'терять возможность', 'терять время', 'терять дар речи', 'терять доверие', 'терять зрение', 'терять кровь', 'терять поддержку', 'терять популярность', 'терять свое время', 'терять свой', 'терять сознание', 'терять уважение', 'теряться в догадках', 'теряться в предположениях', 'теряться', 'теряться', 'теряться', 'теряться', 'тесноватый', 'тесность', 'тесность', 'тесность', 'теснота', 'тесный', 'тесный', 'тесный', 'тесный', 'тетка', 'тешить себя', 'тешиться', 'типа', 'тиран', 'тиранический', 'тирания', 'тиранка', 'тиранский', 'тиранство', 'тиранствовать', 'титушка', 'тлен', 'токсемия', 'токсикант', 'токсикация', 'токсикоз', 'токсикозный', 'токсин', 'токсинный', 'токсический', 'токсичность', 'токсичный', 'толкать на', 'толку минимум', 'толку ноль', 'толочь воду в ступе', 'толстенный', 'толсткожесть', 'толстокожий', 'толстопузость', 'толстопузый', 'толстосум', 'толстуха', 'толстый', 'толстяк', 'толчея', 'толщина', 'томиться', 'томление', 'топкий', 'топорно изготовленный', 'топорное изготовление', 'топорность', 'топорный', 'топорщиться', 'топтать', 'топь', 'торгашеский', 'торговать телом', 'торговля телом', 'торможение процесса', 'торможение', 'тормоз', 'тормозить дело', 'тормозить деятельность', 'тормозить процесс', 'тормозить', 'тормознуть', 'торнадо', 'торопливость', 'торопливый', 'торпедирование', 'торпедировать', 'тоска', 'тоскливость', 'тоскливый', 'тосковать', 'тоталитаризм', 'тоталитаристский', 'тоталитарность', 'тоталитарный', 'тошнить', 'тошнота', 'тошнотворность', 'тошнотворный', 'тошнотный', 'тошный', 'тощать', 'тощий', 'трабл', 'травануться', 'травить себя', 'травить', 'травить', 'травить', 'травиться', 'травля', 'травля', 'травма', 'травматизм', 'травматический', 'травмирование', 'травмировать', 'травмироваться', 'трагедийная ситуация', 'трагедийность', 'трагедийный', 'трагедия', 'трагедия', 'трагизм', 'трагический', 'трагическое событие', 'трагичность', 'трагичный', 'традиционный штамп', 'транжир', 'транжира', 'транжирить', 'транжирка', 'транжирство', 'траур', 'траурный', 'трафикинг', 'траффикинг', 'трахать', 'трахаться', 'трахнуть', 'требовать деньги назад', 'требовать компенсации', 'требовать объяснений', 'требовать справедливости', 'тревога', 'тревога', 'тревожить', 'тревожиться', 'тревожность', 'тревожный', 'треволнение', 'трезвонить', 'трезвонить', 'трепать нервы', 'трепет', 'трепетание', 'трепетать', 'трепетать', 'третьестепенность', 'третьестепенный', 'трещина', 'тривиальность', 'тривиальный', 'троллинг', 'троллить', 'тролль', 'тромб', 'тромбоз', 'тромбозный', 'тромбообразование', 'тромботический', 'троян', 'троянская программа', 'троянский конь', 'труднейший', 'трудновыполнимый', 'трудность', 'трудный', 'трудоемкий', 'трудоизбыточность', 'трудоизбыточный', 'трус', 'трусить', 'трусиха', 'трусливость', 'трусливый', 'трусоватый', 'трусость', 'трутень', 'тряпка', 'трясение', 'трясение', 'трясение', 'трясина', 'трясина', 'трясинный', 'трястись', 'трястись', 'трястись', 'трястись', 'трясучка', 'туберкулез', 'туберкулезник', 'туберкулезница', 'туберкулезный', 'тугодум', 'тугодумие', 'тугой на ухо', 'тугоухий', 'тугоухость', 'тужить', 'туман в голове', 'туманить', 'туманиться', 'туманность', 'туманный', 'туманный', 'туманный', 'тупейший', 'тупеть', 'тупик', 'тупиковость', 'тупиковый', 'тупить', 'тупица', 'туповатый', 'тупоголовый', 'тупой', 'тупорылый', 'тупость', 'тупоумие', 'тусклость', 'тусклый', 'туфта', 'тучность', 'тучный', 'тушеваться', 'тщедушие', 'тщедушность', 'тщедушный', 'тщеславие', 'тщеславность', 'тщеславный', 'тщетность', 'тщетный', 'тырить', 'тьма', 'тюремный', 'тюрьма', 'тюряга', 'тютькаться', 'тюфяк', 'тягомотина', 'тягомотный', 'тягота', 'тяготить', 'тяготиться', 'тягчайший', 'тяжба', 'тяжеленный', 'тяжелобольной', 'тяжеловато', 'тяжеловатый', 'тяжелое испытание', 'тяжелый больной', 'тяжелый крест', 'тяжелый', 'тяжесть на душе', 'тяжесть на сердце', 'тяжесть', 'тяжкий', 'тянуть', 'убивать', 'убиваться', 'убивец', 'убивица', 'убиение', 'убиенный', 'убийственность', 'убийственный', 'убийство', 'убийца', 'убираться', 'убитый', 'убить', 'убиться', 'ублюдок', 'убогий', 'убогость', 'убожество', 'убойность', 'убойный', 'убояться', 'убраться', 'убыль', 'убыток', 'увалень', 'увеличение тарифов', 'увеличивать тарифы', 'увеличились тарифы', 'увеличить тарифы', 'увертка', 'увести капитал', 'увечить', 'увечный', 'увечье', 'увод капитала', 'уводить капитал', 'увозиться', 'увольнение', 'уворовать', 'угнать', 'угнетатель', 'угнетать', 'угнетать', 'угнетение', 'угнетенность', 'угнетенный', 'угодить', 'угодничать', 'угодничество', 'уголовка', 'уголовник', 'уголовница', 'уголовнонаказуемый', 'уголовно-наказуемый', 'уголовный', 'уголовщина', 'угон', 'угонщик', 'угонщица', 'угорать', 'угреватость', 'угреватый', 'угробить', 'угрожающий', 'угроза', 'угроза', 'угрызения совести', 'угрюмость', 'угрюмый', 'удавить', 'удавка', 'удар по репутации', 'удар судьбы', 'удар', 'удар', 'удар', 'удар', 'уделывать', 'удорожание', 'удорожать', 'удорожаться', 'удорожить', 'удорожиться', 'удружить так удружить', 'удружить', 'удручать', 'удрученность', 'удрученный', 'удручить', 'удушать', 'удушающий', 'удушение', 'удушить', 'удушливый', 'удушливый', 'удушье', 'ужалить', 'ужас', 'ужас', 'ужасать', 'ужасаться', 'ужасающий', 'ужаснейший', 'ужасность', 'ужаснуть', 'ужаснуться', 'ужасный', 'ужесточать', 'ужесточаться', 'ужесточение', 'ужесточить', 'ужесточиться', 'узилище', 'узкий', 'узкий', 'узкий', 'узкое место', 'узкокорыстный', 'узкость', 'узкость', 'узость', 'узость', 'узурпатор', 'узурпаторша', 'узурпация', 'узурпирование', 'узурпировать', 'уйти в свою скорлупу', 'уйти от наказания', 'уйти от ответственности', 'указать на дверь', 'указывать на дверь', 'уклонение', 'уклонение', 'уклонист', 'укокать', 'укокошить', 'укор', 'укоризна', 'укоризненность', 'укоризненный', 'укорить', 'укорять', 'украсть', 'укрыватель', 'укусить', 'укушенный', 'уличная пробка', 'уличные дети', 'уловка', 'ультимативность', 'ультимативный', 'ультранационалист', 'ультрарадикал', 'ультрарадикальный', 'умаивать', 'умаление', 'умалить', 'умалишенный', 'умалять', 'умаляться', 'умаять', 'умаяться', 'умервщление', 'умервщлять', 'умертвить', 'умертвлять', 'умерщвить', 'умничанье', 'умничать', 'умориться', 'умотаться', 'умственно отсталый', 'умучить', 'унести жизнь', 'унижать', 'унижаться', 'унижающий', 'унижение', 'униженность', 'унизительность', 'унизительный', 'унизить', 'унизиться', 'уничижать', 'уничижение', 'уничижительный', 'уничижить', 'уничтожать', 'уничтожение', 'уничтожить в глазах', 'уничтожить во мнении', 'уничтожить замечанием', 'уничтожить словом', 'уничтожить', 'уносить жизнь', 'унывать', 'унылость', 'унылый', 'уныние', 'упаднический', 'упадок', 'упадочный', 'упертость', 'упертый', 'упиваться', 'упиться допьяна', 'упиться', 'упорно не видеть', 'упоротость', 'упоротый', 'упороться', 'упрек', 'упрекать', 'упрекнуть', 'упрямец', 'упрямиться', 'упрямица', 'упрямство', 'упрямый', 'упускать шанс', 'упускать', 'упускать', 'упускать', 'упустить шанс', 'упустить', 'упустить', 'упустить', 'упущение', 'упырь', 'ураган', 'ураган', 'ураганный', 'урезание', 'урод', 'уродец', 'уродина', 'уродка', 'уродливость', 'уродливый', 'уродование', 'уродовать', 'уродский', 'уродство', 'урон', 'усложнение', 'усложнение', 'усложнить', 'усложниться', 'усложнять', 'усложняться', 'усложняющий', 'усомниться', 'уссать', 'уставать', 'усталость', 'усталый', 'усталь', 'устаревание', 'устаревать', 'устаревший', 'устарелость', 'устарелый', 'устареть', 'устать', 'устраивать сцену', 'устрашаться', 'устрашиться', 'устроить сцену', 'устыдиться', 'усугубить', 'усугубиться', 'усугубление', 'усугублять', 'усугубляться', 'утечка валюты', 'утечка капитала', 'утечка', 'утомительность', 'утомительный', 'утомить', 'утомиться', 'утомление', 'утомленность', 'утомленный', 'утомлять', 'утомляться', 'утопичность', 'утопичный', 'утрата', 'утрата', 'утрирование', 'утрировать', 'утрировка', 'утруждать', 'утруждение', 'утяжеление', 'утяжелить', 'утяжелять', 'ухаб', 'ухабистый', 'ухлопать', 'уходить в минус', 'уходиться', 'ухудшать', 'ухудшаться', 'ухудшение', 'ухудшить', 'ухудшиться', 'училка', 'учинить', 'учинять', 'учудить', 'ушла эйфория', 'ушлый', 'ущемить право', 'ущемить', 'ущемить', 'ущемить', 'ущемление прав', 'ущемление', 'ущемление', 'ущемление', 'ущемленность', 'ущемлять право', 'ущемлять', 'ущемлять', 'ущемлять', 'ущемляться', 'ущемляться', 'ущемляться', 'ущерб репутации', 'ущерб', 'ущербность', 'ущербный', 'уязвимость', 'уязвимый', 'уязвить', 'уязвление', 'фабрикация', 'фабриковать', 'фаворитка', 'фаворитский', 'фавус', 'фальсификат', 'фальсификатор', 'фальсификаторский', 'фальсификаторша', 'фальсификационный', 'фальсификация', 'фальсифицирование', 'фальсифицировать', 'фальшивить', 'фальшивка', 'фальшивомонетничество', 'фальшивомонетчик', 'фальшивомонетчица', 'фальшивость', 'фальшивый', 'фальшь', 'фанатизм', 'фанатик', 'фанатический', 'фанатичка', 'фантазия', 'фанфарон', 'фанфаронка', 'фанфаронский', 'фарисейство', 'фарисействовать', 'фатальность', 'фатальный', 'фашизм', 'фашист', 'фашиствующий', 'фашистка', 'фашистский', 'фейк', 'фейл', 'фейспалм', 'фиаско', 'фигня', 'фигов', 'фиговый', 'физическое воздействие', 'фиктивность', 'фиктивный', 'фикция', 'филантроп', 'филантропический', 'филантропия', 'филон', 'филонить', 'филонка', 'финансовая дыра', 'финт ушами', 'финт', 'финтить', 'фирма-однодневка', 'фистула', 'фистульный', 'фобия', 'фол', 'фолить', 'фордыбачить', 'фордыбачиться', 'формалистский', 'формально отнестись', 'формальное отношение', 'формальный подход', 'форсить', 'форс-мажор', 'форсмажор', 'форсмажорный', 'форс-мажорный', 'фортель', 'фундаментализм', 'фундаменталист', 'фурия', 'фуфло', 'хавать', 'хакер', 'хакерский', 'хакерство', 'хакинг', 'хакнуть', 'халатность', 'халатный', 'хам', 'хаметь', 'хамить', 'хамка', 'хамоватый', 'хамский', 'хамство', 'хандра', 'хандрить', 'ханжеский', 'ханжество', 'хаос', 'хаотический', 'хаотичность', 'хаотичный', 'харакири', 'хач', 'хаять', 'хвастливость', 'хвастливый', 'хвастун', 'хвастунья', 'хватить через край', 'хватить', 'хватить', 'хватить', 'хворать', 'хвороба', 'хворость', 'хворый', 'хворь', 'хейтер', 'хилеть', 'хилость', 'хилый', 'хиляк', 'хилячка', 'химическая атака', 'химичить', 'хиреть', 'хитрая лазейка', 'хитрец', 'хитреца', 'хитрить', 'хитроватый', 'хитрожопый', 'хитрый маневр', 'хитрый поступок', 'хитрый прием', 'хитрый финт', 'хитрюга', 'хищение', 'хлебнуть', 'хлипкий', 'хлюпать носом', 'хмелеть', 'хмель', 'хмельной угар', 'хмельной', 'хмельной', 'хмурость', 'хмурый', 'хныкать', 'ходить на задних лапках', 'ходульность', 'ходульный', 'холера', 'холерный', 'холестерин', 'холестериновый', 'холивар', 'холод в душе', 'холод в отношениях', 'холод', 'холод', 'холодноватый', 'холодное отношение', 'холодность', 'холодный в отношениях', 'холодный', 'холодок', 'холодок', 'холодрыга', 'холокост', 'холоп', 'холопка', 'холуй', 'холуйский', 'холуйство', 'холуйствовать', 'хомут', 'хоронить', 'хорошая мина при плохой игре', 'хорошо не стало', 'хотелось плеваться', 'хотелось придушить', 'хотеть больше', 'хотеть большего', 'хоть потоп', 'хохмач', 'храп', 'храпеть', 'хреновый', 'хрень', 'хрип', 'хрипение', 'хрипеть', 'хриплость', 'хриплый', 'хрипнуть', 'хрипота', 'хромой', 'хромоногий', 'хромоногость', 'хромота', 'хронический', 'хрупкий', 'хрупкость', 'хрупкость', 'хрупкость', 'худоба', 'худой', 'худой', 'худой', 'худосочность', 'худосочный', 'худший', 'хулиган', 'хулиганить', 'хулиганка', 'хулиганский', 'хулиганство', 'хулиганье', 'хулить', 'хунта', 'царапинка', 'цацкаться', 'цвести', 'ценности не представлять', 'цены вздернулись', 'цены взлетели', 'цены подскочили', 'цепляться', 'цепляться', 'цепная реакция', 'цинизм', 'циник', 'цинический', 'циничность', 'циничный', 'цунами', 'чавканье', 'чавкать', 'чайник в деле', 'чайник в области', 'чары', 'чахлость', 'чахлый', 'чахнуть', 'чахотка', 'чваниться', 'чванливость', 'чванливый', 'чванность', 'чванный', 'чванство', 'чего-то не хватает', 'человеконенавистник', 'человекоубийство', 'чемодан без ручки', 'чепуха', 'чепуховина', 'червь', 'червяк', 'через одно место', 'черная полоса в жизни', 'черная полоса жизни', 'черная экономика', 'чернорубашечник', 'черный бизнес', 'черный возврат', 'черный откат', 'черный пиар', 'черный рынок', 'черствость', 'черствый', 'чертов', 'чесотка', 'чесоточный', 'честно говоря', 'чехарда', 'чикаться', 'чинить помехи', 'чинить препоны', 'чинить препятствия', 'чиорт', 'читер', 'чихвостить', 'членовредительский', 'членовредительство', 'чокнутый', 'чорт', 'чреватый', 'чревоугодие', 'чревоугодник', 'чревоугодничать', 'чревоугоднический', 'чревоугодничество', 'чрезвычайная ситуация', 'чрезвычайное происшествие', 'чрезмерный', 'чтиво', 'что хочу то и ворочу', 'чувиха', 'чувства остыли', 'чувства охладели', 'чувство пустоты', 'чувство раздвоения', 'чувство раздражения', 'чувство тяжести', 'чудить', 'чудище', 'чудовище', 'чудовище', 'чудовище', 'чудовищность', 'чудовищный', 'чужак', 'чуждость', 'чуждый', 'чужеродность', 'чужеродный', 'чужой', 'чужой', 'чума', 'чумной', 'чурбан неотесанный', 'чурбан', 'чурка', 'чучело', 'чушь', 'шаблонность', 'шаблонный', 'шайка', 'шайка', 'шалава', 'шансов нет', 'шансов почти нет', 'шансов совсем нет', 'шантаж', 'шантажирование', 'шантажировать', 'шантажист', 'шантажистка', 'шантажистский', 'шантажный', 'шарага', 'шаражкина контора', 'шарашкина контора', 'шаромыга', 'шаромыжник', 'шаромыжничать', 'шаткий', 'шаткость', 'шашни', 'шашни', 'швырять деньги', 'швыряться деньгами', 'шельма', 'шельмец', 'шибко', 'шизик', 'шизоид', 'шизоидный', 'шизофреник', 'шизофреничка', 'шквал', 'шквалистый', 'шквальный', 'шкода', 'шкодить', 'шкодливый', 'шкодник', 'шкодница', 'шкодничать', 'школота', 'шлюха', 'шлюшка', 'шляпа', 'шмыгать носом', 'шмыгнуть носом', 'шнобелевка', 'шовинизм', 'шовинист', 'шовинистический', 'шовинистка', 'шовинистский', 'шок', 'шок', 'шоковый', 'шоковый', 'шпана', 'шпион', 'шпионаж', 'шпионить', 'шпионка', 'шпиономания', 'шпионский', 'шпионство', 'шпынять', 'шторм', 'штормить', 'штормовой', 'штраф', 'штрафануть', 'штрафник', 'штрафной', 'штрафование', 'штрафовать', 'штрафстоянка', 'штурм', 'штурмовать позицию', 'штурмовать укрепления', 'штурмовать', 'штурмовой', 'шулер', 'шулерский', 'шумиха', 'шумность', 'шумный', 'шумовое загрязнение', 'шут', 'шутить с огнем', 'шутовской', 'шутовство', 'щекотание нервов', 'щекотать нервы', 'щекотливость', 'щекотливый', 'щенок', 'щепетильность', 'щепетильный', 'эвакуационный', 'эвакуация', 'эгоизм', 'эгоист', 'эгоистический', 'эгоистичность', 'эгоистичный', 'эгоистка', 'эдипов комплекс', 'эйфория закончилась', 'эйфория ушла', 'экзальтированность', 'экзальтированный', 'экономия на', 'экотоксикант', 'экспансия', 'эксплуатация', 'экспроприационный', 'экспроприация', 'экспроприировать', 'экстрадировать', 'экстрадиция', 'экстремизм', 'экстремист', 'экстремистка', 'экстремистский', 'эксцесс', 'эмиграция', 'энтомовредитель', 'энурез', 'энцефалит', 'энцефалитный', 'эпатаж', 'эпатажный', 'эпатирование', 'эпатировать', 'эпидемический', 'эпидемия', 'эпидпорог', 'эпизоотический', 'эпизоотия', 'эрзац', 'эродировать', 'эрозионный', 'эрозия', 'эскалация', 'этническая чистка', 'этносепаратизм', 'этноцентризм', 'этноцентристский', 'этноцентрический', 'этноцид', 'этночистка', 'эффект нулевой', 'юдофоб', 'юдофобия', 'юдофобка', 'юдофобский', 'юлить', 'юмор плоский', 'ютиться', 'ябеда', 'ябедник', 'ябедничанье', 'ябедничать', 'ябедничество', 'явно лишний', 'яд', 'ядерные отходы', 'ядовитый', 'язва', 'язва', 'язвенник', 'язвенница', 'язвенный', 'язвочка', 'язык силы', 'языковой барьер', 'ярмо', 'яростный', 'ярость', 'ярый', 'ящур', 'ящурный']\n"
          ]
        }
      ]
    },
    {
      "cell_type": "markdown",
      "source": [
        "А теперь сделаем следующую вещь: будем сверяться с уже составленными списками позитивной, негативной и нейтральной лексики - и считать количество слов из каждого списка для каждого текста. Оценим, как хорошо соотносится посчитанная \"в лоб\" тональность с реальным положением дел."
      ],
      "metadata": {
        "id": "MrB6uSJHwspV"
      }
    },
    {
      "cell_type": "code",
      "source": [
        "c=0\n",
        "for idx in range(len(texts)):\n",
        "  doc = nlp(texts[idx].lower())\n",
        "  positive=0\n",
        "  negative=0\n",
        "  neutral=0\n",
        "  for token in doc:\n",
        "    lemma=token.lemma_\n",
        "    if lemma in positive_list:\n",
        "      positive+=1\n",
        "    if lemma in negative_list:\n",
        "      negative+=1\n",
        "    if lemma in neutral_list:\n",
        "      neutral+=1\n",
        "  emo_score = list(zip([k/len(doc) for k in [positive, negative, neutral]], [\"positive\", \"negative\", \"neutral\"]))\n",
        "  for duo in emo_score:\n",
        "    if duo[0] == max([i[0] for i in emo_score]):\n",
        "      if duo[1] == labels[idx]:\n",
        "        c+=1\n",
        "print(c/len(texts))"
      ],
      "metadata": {
        "colab": {
          "base_uri": "https://localhost:8080/"
        },
        "id": "LV3iAFKvskRh",
        "outputId": "6c3a1db9-ccbc-496f-fb29-b89ad074d748"
      },
      "execution_count": null,
      "outputs": [
        {
          "output_type": "stream",
          "name": "stdout",
          "text": [
            "0.9116269165247018\n"
          ]
        }
      ]
    },
    {
      "cell_type": "markdown",
      "source": [
        "Ого! Хорошая точность, надо учесть."
      ],
      "metadata": {
        "id": "Lv-mPIK5xcT-"
      }
    },
    {
      "cell_type": "markdown",
      "source": [
        "Начнём вести учёт всех этих эвристик: добавим их в матрицу X."
      ],
      "metadata": {
        "id": "tJxS09ZNyEYF"
      }
    },
    {
      "cell_type": "code",
      "source": [
        "import numpy as np"
      ],
      "metadata": {
        "id": "IaebYYXustd0"
      },
      "execution_count": null,
      "outputs": []
    },
    {
      "cell_type": "code",
      "source": [
        "from sklearn.feature_extraction.text import TfidfTransformer\n",
        "transformer = TfidfTransformer().fit(X)\n",
        "X_transformed = transformer.transform(X) \n",
        "print(f'Матрица:\\nномер токена в словаре - tf слова\\n{X_transformed[0]}')"
      ],
      "metadata": {
        "colab": {
          "base_uri": "https://localhost:8080/"
        },
        "id": "5liF-chwd1rr",
        "outputId": "5399edf0-72f7-488b-cbc0-7ef87f18558a"
      },
      "execution_count": null,
      "outputs": [
        {
          "output_type": "stream",
          "name": "stdout",
          "text": [
            "Матрица:\n",
            "номер токена в словаре - tf слова\n",
            "  (0, 15341)\t0.5324263568629732\n",
            "  (0, 11584)\t0.15073313902476837\n",
            "  (0, 9627)\t0.28144899379578087\n",
            "  (0, 9449)\t0.17206567469236075\n",
            "  (0, 9299)\t0.26390299681043833\n",
            "  (0, 8257)\t0.7178696059005679\n"
          ]
        }
      ]
    },
    {
      "cell_type": "code",
      "source": [
        "X_arr = X_transformed.toarray()\n",
        "n,m = X_arr.shape\n",
        "print(n,m)"
      ],
      "metadata": {
        "colab": {
          "base_uri": "https://localhost:8080/"
        },
        "id": "ZNLM5uxWtZOd",
        "outputId": "3f9e49ca-28a8-4ab7-a715-6d7026b4554e"
      },
      "execution_count": null,
      "outputs": [
        {
          "output_type": "stream",
          "name": "stdout",
          "text": [
            "9392 16157\n"
          ]
        }
      ]
    },
    {
      "cell_type": "markdown",
      "source": [
        "Сперва немного доработаем тему с телеграм-каналами. По сути, допишем в матрицу ещё один столбец с единицами для твитов, где есть телега, и нулями, где её нет."
      ],
      "metadata": {
        "id": "5TZTNFiexv0F"
      }
    },
    {
      "cell_type": "code",
      "source": [
        "tg_channel = re.compile('(http[s]?:)?\\/\\/t\\.co')\n",
        "X0 = np.zeros((n, 1))\n",
        "for idx in range(len(texts)):\n",
        "  if tg_channel.search(texts[idx]) is not None:\n",
        "    X0[idx] = 1\n",
        "\n",
        "Xnew = np.hstack((X_arr,X0))\n",
        "print(Xnew)"
      ],
      "metadata": {
        "colab": {
          "base_uri": "https://localhost:8080/"
        },
        "id": "tqyxHkMdtfKQ",
        "outputId": "e67e27f3-29d2-4419-cf6f-b2f79f480d16"
      },
      "execution_count": null,
      "outputs": [
        {
          "output_type": "stream",
          "name": "stdout",
          "text": [
            "[[0.         0.         0.         ... 0.         0.         1.        ]\n",
            " [0.         0.         0.         ... 0.         0.         1.        ]\n",
            " [0.         0.         0.         ... 0.         0.         0.        ]\n",
            " ...\n",
            " [0.         0.         0.22729295 ... 0.         0.         1.        ]\n",
            " [0.         0.         0.         ... 0.         0.         1.        ]\n",
            " [0.         0.         0.         ... 0.         0.         0.        ]]\n"
          ]
        }
      ]
    },
    {
      "cell_type": "markdown",
      "source": [
        "Затем добавим ещё один столбец, где будем вести учёт эмоциональной лексики (то, что мы назвали подсчётом \"в лоб\"): туда запишем 0 для предположительно негативных. 0.5 для предположительно нейтральных и 1 для предположительно позитивных твитов. "
      ],
      "metadata": {
        "id": "gcewVV5Ayc48"
      }
    },
    {
      "cell_type": "code",
      "source": [
        "X1 = np.zeros((n, 1))\n",
        "for idx in range(len(texts)):\n",
        "  doc = nlp(texts[idx].lower())\n",
        "  positive=0\n",
        "  negative=0\n",
        "  neutral=0\n",
        "  for token in doc:\n",
        "    lemma=token.lemma_\n",
        "    if lemma in positive_list:\n",
        "      positive+=1\n",
        "    if lemma in negative_list:\n",
        "      negative+=1\n",
        "    if lemma in neutral_list:\n",
        "      neutral+=1\n",
        "  emo_score = list(zip([k/len(doc) for k in [positive, negative, neutral]], [\"positive\", \"negative\", \"neutral\"]))\n",
        "  for duo in emo_score:\n",
        "    if max([i for i in emo_score]) != 0:\n",
        "      if duo[0] == max([i[0] for i in emo_score]) and duo[0] != 0:\n",
        "        if duo[1] == \"positive\":\n",
        "          X1[idx] = 1\n",
        "        elif duo[1] == \"negative\":\n",
        "          X1[idx] = 0\n",
        "        elif duo[1] == \"neutral\":\n",
        "          X1[idx] = 0.5\n",
        "    else:\n",
        "      X1[idx] = 0.5\n",
        "\n",
        "Xnew = np.hstack((Xnew,X1))\n",
        "print(Xnew)"
      ],
      "metadata": {
        "colab": {
          "base_uri": "https://localhost:8080/"
        },
        "id": "zbaBBcpmtiYi",
        "outputId": "96454d03-a933-428e-ec87-5b0be6cdba8c"
      },
      "execution_count": null,
      "outputs": [
        {
          "output_type": "stream",
          "name": "stdout",
          "text": [
            "[[0.         0.         0.         ... 0.         1.         0.        ]\n",
            " [0.         0.         0.         ... 0.         1.         0.        ]\n",
            " [0.         0.         0.         ... 0.         0.         0.        ]\n",
            " ...\n",
            " [0.         0.         0.22729295 ... 0.         1.         1.        ]\n",
            " [0.         0.         0.         ... 0.         1.         1.        ]\n",
            " [0.         0.         0.         ... 0.         0.         1.        ]]\n"
          ]
        }
      ]
    },
    {
      "cell_type": "code",
      "source": [
        "for idx in random.choices(list(range(len(texts))), k=10):\n",
        "    print('{0} => {1}'.format(labels[idx], texts[idx]))\n",
        "    print(Xnew[idx], '\\n')"
      ],
      "metadata": {
        "colab": {
          "base_uri": "https://localhost:8080/"
        },
        "id": "Sb5x6LPEuiiA",
        "outputId": "3c5b7702-1925-47b1-ecc9-ab7f4edfe06a"
      },
      "execution_count": null,
      "outputs": [
        {
          "output_type": "stream",
          "name": "stdout",
          "text": [
            "neutral => как оплатить кредит через сбербанк http://t.co/B9pb4YICq8\n",
            "[0. 0. 0. ... 0. 1. 0.] \n",
            "\n",
            "negative => Под новые санкции ЕС попадают Сбербанк, ВТБ, Газпромбанк, Внешэкономбанк, Россельхозбанк http://t.co/b94Bdvo0PP\n",
            "[0. 0. 0. ... 0. 1. 0.] \n",
            "\n",
            "positive => Сейчас зашла в сбер и за 5 мин все сделала. Не вероятно но факт:)\n",
            "[0. 0. 0. ... 0. 0. 0.] \n",
            "\n",
            "neutral => Банк Москвы - корпоративный ролик http://t.co/qC7kmixdkP\n",
            "[0. 0. 0. ... 0. 1. 0.] \n",
            "\n",
            "neutral => RT @SerovaElena: разобралась со Сбербанком, бегу в маминых сапожках на вокзал за билетами :)\n",
            "[0. 0. 0. ... 0. 0. 0.] \n",
            "\n",
            "neutral => RT @rocimubudap: банк москвы в г кемерово потребительский кредит процентная ставка http://t.co/ldxh4Eynrq\n",
            "[0.  0.  0.  ... 0.  1.  0.5] \n",
            "\n",
            "neutral => Кредиты малому бизнесу банки | РайффайзенБанк - Кредиты малому | МигКредит: Кредиты малому бизнесу банки... Кр... http://t.co/9NqpHKjLZw\n",
            "[0. 0. 0. ... 0. 1. 0.] \n",
            "\n",
            "neutral => Как получить отсрочку по кредиту сбербанк http://t.co/Gs82eQ7tpH\n",
            "[0. 0. 0. ... 0. 1. 0.] \n",
            "\n",
            "neutral => http://t.co/NoejEJZ6hO втб 24 в туле на пузакова телефон\n",
            "[0. 0. 0. ... 0. 1. 0.] \n",
            "\n",
            "neutral => http://t.co/RLQAgxXHIJ сбербанк со скольки лет дают кредит\n",
            "[0. 0. 0. ... 0. 1. 0.] \n",
            "\n"
          ]
        }
      ]
    },
    {
      "cell_type": "markdown",
      "source": [
        "Итак, мы учли дату, эмоциональную лексику и наличие телеграм-каналов. Начнём обучение?"
      ],
      "metadata": {
        "id": "6VsqjLZa81b8"
      }
    },
    {
      "cell_type": "code",
      "source": [
        "from sklearn.linear_model import LogisticRegression"
      ],
      "metadata": {
        "id": "JeKQqCeA811E"
      },
      "execution_count": null,
      "outputs": []
    },
    {
      "cell_type": "code",
      "source": [
        "cls = LogisticRegression(solver='liblinear', verbose=True)"
      ],
      "metadata": {
        "id": "4Acg0JBf892c"
      },
      "execution_count": null,
      "outputs": []
    },
    {
      "cell_type": "code",
      "source": [
        "from sklearn.feature_selection import SelectPercentile, chi2\n",
        "selector = SelectPercentile(chi2, percentile=20)"
      ],
      "metadata": {
        "id": "LCQYa0DN9bGS"
      },
      "execution_count": null,
      "outputs": []
    },
    {
      "cell_type": "code",
      "source": [
        "selector.fit(Xnew, labels)"
      ],
      "metadata": {
        "colab": {
          "base_uri": "https://localhost:8080/"
        },
        "id": "p4pmDHm1J8fK",
        "outputId": "007a7d00-8dfd-4228-88a0-d5eb9c4d966c"
      },
      "execution_count": null,
      "outputs": [
        {
          "output_type": "execute_result",
          "data": {
            "text/plain": [
              "SelectPercentile(percentile=20, score_func=<function chi2 at 0x7f1f9c12c830>)"
            ]
          },
          "metadata": {},
          "execution_count": 34
        }
      ]
    },
    {
      "cell_type": "code",
      "source": [
        "tokens_with_IDF = list(zip(vectorizer.get_feature_names(), transformer.idf_))"
      ],
      "metadata": {
        "id": "pac18acBeZv0",
        "colab": {
          "base_uri": "https://localhost:8080/"
        },
        "outputId": "520ebf90-4e20-44bc-df67-7049e7e761f7"
      },
      "execution_count": null,
      "outputs": [
        {
          "output_type": "stream",
          "name": "stderr",
          "text": [
            "/usr/local/lib/python3.7/dist-packages/sklearn/utils/deprecation.py:87: FutureWarning: Function get_feature_names is deprecated; get_feature_names is deprecated in 1.0 and will be removed in 1.2. Please use get_feature_names_out instead.\n",
            "  warnings.warn(msg, category=FutureWarning)\n"
          ]
        }
      ]
    },
    {
      "cell_type": "code",
      "source": [
        "sorted_tokens_with_IDF = sorted(tokens_with_IDF, key=lambda it: (-it[1], it[0]))\n",
        "for feature, idf in sorted_tokens_with_IDF[0:50]: print('{0:.6f} => {1}'.format(idf, feature))"
      ],
      "metadata": {
        "colab": {
          "base_uri": "https://localhost:8080/"
        },
        "id": "fIVuBcipiF96",
        "outputId": "39464252-8f83-42be-e31b-cc93cb61d110"
      },
      "execution_count": null,
      "outputs": [
        {
          "output_type": "stream",
          "name": "stdout",
          "text": [
            "9.454573 => #1000aday\n",
            "9.454573 => #1042\n",
            "9.454573 => #13268\n",
            "9.454573 => #171\n",
            "9.454573 => #187\n",
            "9.454573 => #24\n",
            "9.454573 => #40\n",
            "9.454573 => #41\n",
            "9.454573 => #card\n",
            "9.454573 => #ekb\n",
            "9.454573 => #g\n",
            "9.454573 => #hny\n",
            "9.454573 => #k\n",
            "9.454573 => #klerk\n",
            "9.454573 => #moneyzzz\n",
            "9.454573 => #motox\n",
            "9.454573 => #nsk\n",
            "9.454573 => #pyd\n",
            "9.454573 => #ua\n",
            "9.454573 => #ykt\n",
            "9.454573 => #аст\n",
            "9.454573 => #бут\n",
            "9.454573 => #ввп\n",
            "9.454573 => #вс\n",
            "9.454573 => #все\n",
            "9.454573 => #втб24\n",
            "9.454573 => #втбый\n",
            "9.454573 => #вэб\n",
            "9.454573 => #гд\n",
            "9.454573 => #ед\n",
            "9.454573 => #екб\n",
            "9.454573 => #жж\n",
            "9.454573 => #з\n",
            "9.454573 => #мск\n",
            "9.454573 => #н-лат\n",
            "9.454573 => #ндфл\n",
            "9.454573 => #об\n",
            "9.454573 => #пл\n",
            "9.454573 => #пря\n",
            "9.454573 => #псб\n",
            "9.454573 => #псс\n",
            "9.454573 => #пц\n",
            "9.454573 => #сан\n",
            "9.454573 => #т\n",
            "9.454573 => #ткб\n",
            "9.454573 => #уэк\n",
            "9.454573 => #ый\n",
            "9.454573 => #ь\n",
            "9.454573 => #э�\n",
            "9.454573 => #якт\n"
          ]
        }
      ]
    },
    {
      "cell_type": "code",
      "source": [
        "selected_tokens_with_IDF = [tokens_with_IDF[idx] for idx in selector.get_support(indices=True) - 2]\n",
        "print(len(selected_tokens_with_IDF))"
      ],
      "metadata": {
        "colab": {
          "base_uri": "https://localhost:8080/"
        },
        "id": "y9NQQaSO9sw3",
        "outputId": "246839eb-5c96-4426-f038-d66a0a53efa5"
      },
      "execution_count": null,
      "outputs": [
        {
          "output_type": "stream",
          "name": "stdout",
          "text": [
            "3231\n"
          ]
        }
      ]
    },
    {
      "cell_type": "code",
      "source": [
        "selected_and_sorted_tokens_with_IDF = sorted(selected_tokens_with_IDF, key=lambda it: (-it[1], it[0]))\n",
        "for feature, idf in selected_and_sorted_tokens_with_IDF[0:20]: print('{0:.6f} => {1}'.format(idf, feature))"
      ],
      "metadata": {
        "id": "j0MPcLhs90tE",
        "colab": {
          "base_uri": "https://localhost:8080/"
        },
        "outputId": "3751d616-8517-4921-bdd6-183f63abbaac"
      },
      "execution_count": null,
      "outputs": [
        {
          "output_type": "stream",
          "name": "stdout",
          "text": [
            "9.454573 => #1042\n",
            "9.454573 => #card\n",
            "9.454573 => #g\n",
            "9.454573 => #moneyzzz\n",
            "9.454573 => #nsk\n",
            "9.454573 => #pyd\n",
            "9.454573 => #аст\n",
            "9.454573 => #вс\n",
            "9.454573 => #вэб\n",
            "9.454573 => #гд\n",
            "9.454573 => #ед\n",
            "9.454573 => #з\n",
            "9.454573 => #мск\n",
            "9.454573 => #уэк\n",
            "9.454573 => #якт\n",
            "9.454573 => &lt;3\n",
            "9.454573 => *бесится*\n",
            "9.454573 => +3,49\n",
            "9.454573 => +74955102933\n",
            "9.454573 => +ть\n"
          ]
        }
      ]
    },
    {
      "cell_type": "code",
      "source": [
        "X_transformed_and_selected = selector.transform(Xnew)"
      ],
      "metadata": {
        "id": "kZ9iJA1b9CAz"
      },
      "execution_count": null,
      "outputs": []
    },
    {
      "cell_type": "code",
      "source": [
        "cls.fit(X_transformed_and_selected, labels)"
      ],
      "metadata": {
        "colab": {
          "base_uri": "https://localhost:8080/"
        },
        "id": "2xKeyIgY9Eb7",
        "outputId": "b86684ae-706d-4eb0-e31b-dd64eef55cd3"
      },
      "execution_count": null,
      "outputs": [
        {
          "output_type": "stream",
          "name": "stdout",
          "text": [
            "[LibLinear]"
          ]
        },
        {
          "output_type": "execute_result",
          "data": {
            "text/plain": [
              "LogisticRegression(solver='liblinear', verbose=True)"
            ]
          },
          "metadata": {},
          "execution_count": 41
        }
      ]
    },
    {
      "cell_type": "code",
      "source": [
        "classes_list = list(cls.classes_)"
      ],
      "metadata": {
        "id": "fgLPVxH99G6s"
      },
      "execution_count": null,
      "outputs": []
    },
    {
      "cell_type": "code",
      "source": [
        "print(classes_list)"
      ],
      "metadata": {
        "colab": {
          "base_uri": "https://localhost:8080/"
        },
        "id": "ZWZ3PAWT9I8k",
        "outputId": "f3d76149-0f13-42fc-b8d6-c01c7b2fad30"
      },
      "execution_count": null,
      "outputs": [
        {
          "output_type": "stream",
          "name": "stdout",
          "text": [
            "['negative', 'neutral', 'positive']\n"
          ]
        }
      ]
    },
    {
      "cell_type": "code",
      "source": [
        "texts_for_testing, labels_for_testing, dates_for_testing = load_sentirueval_2016('/content/NN/banks_test_2016.xml')"
      ],
      "metadata": {
        "id": "dVlbgxyM9LPT"
      },
      "execution_count": null,
      "outputs": []
    },
    {
      "cell_type": "code",
      "source": [
        "print('Number of texts is {0}, number of labels is {1}, number of dates is {2}'.format(len(texts_for_testing), len(labels_for_testing), len(dates_for_testing)))"
      ],
      "metadata": {
        "colab": {
          "base_uri": "https://localhost:8080/"
        },
        "id": "3nitTJZx2Ql8",
        "outputId": "7eb26994-90ca-4451-c512-5fbc2f234120"
      },
      "execution_count": null,
      "outputs": [
        {
          "output_type": "stream",
          "name": "stdout",
          "text": [
            "Number of texts is 19586, number of labels is 19586, number of dates is 19586\n"
          ]
        }
      ]
    },
    {
      "cell_type": "markdown",
      "source": [
        "Теперь запишем все преобразования (включая tf-idf) в свой трансформер. Здесь же будем добавлять в матрицу даты."
      ],
      "metadata": {
        "id": "-jx0MKkCg7CJ"
      }
    },
    {
      "cell_type": "code",
      "source": [
        "def my_transformer(X, texts, dates):\n",
        "  transformer = TfidfTransformer().fit(X)\n",
        "  X_transformed = transformer.transform(X)\n",
        "  X_arr = X_transformed.toarray()\n",
        "  n,m = X_arr.shape\n",
        "  tg_channel = re.compile('(http[s]?:)?\\/\\/t\\.co')\n",
        "  X0 = np.zeros((n, 1))\n",
        "  for idx in range(n):\n",
        "    if tg_channel.search(texts[idx]) is not None:\n",
        "      X0[idx] = 1\n",
        "  Xnew = np.hstack((X_arr,X0))\n",
        "  X1 = np.zeros((n, 1))\n",
        "  for idx in range(n):\n",
        "    doc = nlp(texts[idx].lower())\n",
        "    positive=0\n",
        "    negative=0\n",
        "    neutral=0\n",
        "    for token in doc:\n",
        "      lemma=token.lemma_\n",
        "      if lemma in positive_list:\n",
        "        positive+=1\n",
        "      if lemma in negative_list:\n",
        "        negative+=1\n",
        "      if lemma in neutral_list:\n",
        "        neutral+=1\n",
        "    emo_score = list(zip([k/len(doc) for k in [positive, negative, neutral]], [\"positive\", \"negative\", \"neutral\"]))\n",
        "    for duo in emo_score:\n",
        "      if max([i for i in emo_score]) != 0:\n",
        "        if duo[0] == max([i[0] for i in emo_score]) and duo[0] != 0:\n",
        "          if duo[1] == \"positive\":\n",
        "            X1[idx] = 1\n",
        "          elif duo[1] == \"negative\":\n",
        "            X1[idx] = 0\n",
        "          elif duo[1] == \"neutral\":\n",
        "            X1[idx] = 0.5\n",
        "      else:\n",
        "        X1[idx] = 0.5\n",
        "  Xnew = np.hstack((Xnew,X1))\n",
        "  X2 = np.zeros((n, 1))\n",
        "  for i in len(dates):\n",
        "    X2[i] = dates[i]\n",
        "  Xnew = np.hstack((Xnew,X2))\n",
        "  return Xnew"
      ],
      "metadata": {
        "id": "z8PhFXiBgcKh"
      },
      "execution_count": null,
      "outputs": []
    },
    {
      "cell_type": "code",
      "source": [
        "texts_i_try = texts_for_testing\n",
        "vectorizer.fit(texts_i_try)"
      ],
      "metadata": {
        "colab": {
          "base_uri": "https://localhost:8080/"
        },
        "id": "vR2liV0Ymsb1",
        "outputId": "b1a53b24-dce4-42c2-9b32-d0e8908c31d0"
      },
      "execution_count": null,
      "outputs": [
        {
          "output_type": "stream",
          "name": "stderr",
          "text": [
            "/usr/local/lib/python3.7/dist-packages/sklearn/feature_extraction/text.py:517: UserWarning: The parameter 'token_pattern' will not be used since 'tokenizer' is not None'\n",
            "  \"The parameter 'token_pattern' will not be used\"\n"
          ]
        }
      ]
    },
    {
      "cell_type": "code",
      "source": [
        "Xmy = vectorizer.transform(texts_i_try)"
      ],
      "metadata": {
        "id": "cYUH48ednMb1"
      },
      "execution_count": null,
      "outputs": []
    },
    {
      "cell_type": "code",
      "source": [
        "print(Xmy.shape[0])"
      ],
      "metadata": {
        "colab": {
          "base_uri": "https://localhost:8080/"
        },
        "id": "RukDv-kh3AoN",
        "outputId": "34b381a5-6cb2-4bfc-bf00-4f7deb379678"
      },
      "execution_count": null,
      "outputs": [
        {
          "output_type": "stream",
          "name": "stdout",
          "text": [
            "19586\n"
          ]
        }
      ]
    },
    {
      "cell_type": "code",
      "source": [
        "res = my_transformer(Xmy, texts_for_testing, dates_for_testing)"
      ],
      "metadata": {
        "id": "9yYzzCbCnSIM"
      },
      "execution_count": null,
      "outputs": []
    },
    {
      "cell_type": "code",
      "source": [
        "print(res)"
      ],
      "metadata": {
        "id": "5X3OX05kpQRA"
      },
      "execution_count": null,
      "outputs": []
    },
    {
      "cell_type": "code",
      "source": [
        "from sklearn.pipeline import Pipeline"
      ],
      "metadata": {
        "id": "8ZKln_h2CD4S"
      },
      "execution_count": null,
      "outputs": []
    },
    {
      "cell_type": "code",
      "source": [
        "pipeline_for_se = Pipeline(\n",
        "    [\n",
        "        ('vectorizer', vectorizer),\n",
        "        ('my_transformer', transformer),\n",
        "        ('selector', selector),\n",
        "        ('final_classifier', cls)\n",
        "    ]\n",
        ")"
      ],
      "metadata": {
        "id": "vsSkgyyhCJsM"
      },
      "execution_count": null,
      "outputs": []
    },
    {
      "cell_type": "code",
      "source": [
        "from sklearn.metrics import roc_curve\n",
        "import numpy as np"
      ],
      "metadata": {
        "id": "JXG3dSrfCMQy"
      },
      "execution_count": null,
      "outputs": []
    },
    {
      "cell_type": "code",
      "source": [
        "probabilities = pipeline_for_se.predict_proba(texts_for_testing)"
      ],
      "metadata": {
        "colab": {
          "base_uri": "https://localhost:8080/",
          "height": 311
        },
        "id": "YD0WAcH6CN4b",
        "outputId": "b65b7aa4-8f80-4154-f65d-dc571d13c1f1"
      },
      "execution_count": null,
      "outputs": [
        {
          "output_type": "error",
          "ename": "ValueError",
          "evalue": "ignored",
          "traceback": [
            "\u001b[0;31m---------------------------------------------------------------------------\u001b[0m",
            "\u001b[0;31mValueError\u001b[0m                                Traceback (most recent call last)",
            "\u001b[0;32m<ipython-input-59-76b784da2d26>\u001b[0m in \u001b[0;36m<module>\u001b[0;34m\u001b[0m\n\u001b[0;32m----> 1\u001b[0;31m \u001b[0mprobabilities\u001b[0m \u001b[0;34m=\u001b[0m \u001b[0mpipeline_for_se\u001b[0m\u001b[0;34m.\u001b[0m\u001b[0mpredict_proba\u001b[0m\u001b[0;34m(\u001b[0m\u001b[0mtexts_for_testing\u001b[0m\u001b[0;34m)\u001b[0m\u001b[0;34m\u001b[0m\u001b[0;34m\u001b[0m\u001b[0m\n\u001b[0m",
            "\u001b[0;32m/usr/local/lib/python3.7/dist-packages/sklearn/utils/metaestimators.py\u001b[0m in \u001b[0;36m<lambda>\u001b[0;34m(*args, **kwargs)\u001b[0m\n\u001b[1;32m    111\u001b[0m \u001b[0;34m\u001b[0m\u001b[0m\n\u001b[1;32m    112\u001b[0m             \u001b[0;31m# lambda, but not partial, allows help() to work with update_wrapper\u001b[0m\u001b[0;34m\u001b[0m\u001b[0;34m\u001b[0m\u001b[0;34m\u001b[0m\u001b[0m\n\u001b[0;32m--> 113\u001b[0;31m             \u001b[0mout\u001b[0m \u001b[0;34m=\u001b[0m \u001b[0;32mlambda\u001b[0m \u001b[0;34m*\u001b[0m\u001b[0margs\u001b[0m\u001b[0;34m,\u001b[0m \u001b[0;34m**\u001b[0m\u001b[0mkwargs\u001b[0m\u001b[0;34m:\u001b[0m \u001b[0mself\u001b[0m\u001b[0;34m.\u001b[0m\u001b[0mfn\u001b[0m\u001b[0;34m(\u001b[0m\u001b[0mobj\u001b[0m\u001b[0;34m,\u001b[0m \u001b[0;34m*\u001b[0m\u001b[0margs\u001b[0m\u001b[0;34m,\u001b[0m \u001b[0;34m**\u001b[0m\u001b[0mkwargs\u001b[0m\u001b[0;34m)\u001b[0m  \u001b[0;31m# noqa\u001b[0m\u001b[0;34m\u001b[0m\u001b[0;34m\u001b[0m\u001b[0m\n\u001b[0m\u001b[1;32m    114\u001b[0m         \u001b[0;32melse\u001b[0m\u001b[0;34m:\u001b[0m\u001b[0;34m\u001b[0m\u001b[0;34m\u001b[0m\u001b[0m\n\u001b[1;32m    115\u001b[0m \u001b[0;34m\u001b[0m\u001b[0m\n",
            "\u001b[0;32m/usr/local/lib/python3.7/dist-packages/sklearn/pipeline.py\u001b[0m in \u001b[0;36mpredict_proba\u001b[0;34m(self, X, **predict_proba_params)\u001b[0m\n\u001b[1;32m    533\u001b[0m         \u001b[0mXt\u001b[0m \u001b[0;34m=\u001b[0m \u001b[0mX\u001b[0m\u001b[0;34m\u001b[0m\u001b[0;34m\u001b[0m\u001b[0m\n\u001b[1;32m    534\u001b[0m         \u001b[0;32mfor\u001b[0m \u001b[0m_\u001b[0m\u001b[0;34m,\u001b[0m \u001b[0mname\u001b[0m\u001b[0;34m,\u001b[0m \u001b[0mtransform\u001b[0m \u001b[0;32min\u001b[0m \u001b[0mself\u001b[0m\u001b[0;34m.\u001b[0m\u001b[0m_iter\u001b[0m\u001b[0;34m(\u001b[0m\u001b[0mwith_final\u001b[0m\u001b[0;34m=\u001b[0m\u001b[0;32mFalse\u001b[0m\u001b[0;34m)\u001b[0m\u001b[0;34m:\u001b[0m\u001b[0;34m\u001b[0m\u001b[0;34m\u001b[0m\u001b[0m\n\u001b[0;32m--> 535\u001b[0;31m             \u001b[0mXt\u001b[0m \u001b[0;34m=\u001b[0m \u001b[0mtransform\u001b[0m\u001b[0;34m.\u001b[0m\u001b[0mtransform\u001b[0m\u001b[0;34m(\u001b[0m\u001b[0mXt\u001b[0m\u001b[0;34m)\u001b[0m\u001b[0;34m\u001b[0m\u001b[0;34m\u001b[0m\u001b[0m\n\u001b[0m\u001b[1;32m    536\u001b[0m         \u001b[0;32mreturn\u001b[0m \u001b[0mself\u001b[0m\u001b[0;34m.\u001b[0m\u001b[0msteps\u001b[0m\u001b[0;34m[\u001b[0m\u001b[0;34m-\u001b[0m\u001b[0;36m1\u001b[0m\u001b[0;34m]\u001b[0m\u001b[0;34m[\u001b[0m\u001b[0;36m1\u001b[0m\u001b[0;34m]\u001b[0m\u001b[0;34m.\u001b[0m\u001b[0mpredict_proba\u001b[0m\u001b[0;34m(\u001b[0m\u001b[0mXt\u001b[0m\u001b[0;34m,\u001b[0m \u001b[0;34m**\u001b[0m\u001b[0mpredict_proba_params\u001b[0m\u001b[0;34m)\u001b[0m\u001b[0;34m\u001b[0m\u001b[0;34m\u001b[0m\u001b[0m\n\u001b[1;32m    537\u001b[0m \u001b[0;34m\u001b[0m\u001b[0m\n",
            "\u001b[0;32m/usr/local/lib/python3.7/dist-packages/sklearn/feature_selection/_base.py\u001b[0m in \u001b[0;36mtransform\u001b[0;34m(self, X)\u001b[0m\n\u001b[1;32m     86\u001b[0m             \u001b[0maccept_sparse\u001b[0m\u001b[0;34m=\u001b[0m\u001b[0;34m\"csr\"\u001b[0m\u001b[0;34m,\u001b[0m\u001b[0;34m\u001b[0m\u001b[0;34m\u001b[0m\u001b[0m\n\u001b[1;32m     87\u001b[0m             \u001b[0mforce_all_finite\u001b[0m\u001b[0;34m=\u001b[0m\u001b[0;32mnot\u001b[0m \u001b[0m_safe_tags\u001b[0m\u001b[0;34m(\u001b[0m\u001b[0mself\u001b[0m\u001b[0;34m,\u001b[0m \u001b[0mkey\u001b[0m\u001b[0;34m=\u001b[0m\u001b[0;34m\"allow_nan\"\u001b[0m\u001b[0;34m)\u001b[0m\u001b[0;34m,\u001b[0m\u001b[0;34m\u001b[0m\u001b[0;34m\u001b[0m\u001b[0m\n\u001b[0;32m---> 88\u001b[0;31m             \u001b[0mreset\u001b[0m\u001b[0;34m=\u001b[0m\u001b[0;32mFalse\u001b[0m\u001b[0;34m,\u001b[0m\u001b[0;34m\u001b[0m\u001b[0;34m\u001b[0m\u001b[0m\n\u001b[0m\u001b[1;32m     89\u001b[0m         )\n\u001b[1;32m     90\u001b[0m         \u001b[0;32mreturn\u001b[0m \u001b[0mself\u001b[0m\u001b[0;34m.\u001b[0m\u001b[0m_transform\u001b[0m\u001b[0;34m(\u001b[0m\u001b[0mX\u001b[0m\u001b[0;34m)\u001b[0m\u001b[0;34m\u001b[0m\u001b[0;34m\u001b[0m\u001b[0m\n",
            "\u001b[0;32m/usr/local/lib/python3.7/dist-packages/sklearn/base.py\u001b[0m in \u001b[0;36m_validate_data\u001b[0;34m(self, X, y, reset, validate_separately, **check_params)\u001b[0m\n\u001b[1;32m    583\u001b[0m \u001b[0;34m\u001b[0m\u001b[0m\n\u001b[1;32m    584\u001b[0m         \u001b[0;32mif\u001b[0m \u001b[0;32mnot\u001b[0m \u001b[0mno_val_X\u001b[0m \u001b[0;32mand\u001b[0m \u001b[0mcheck_params\u001b[0m\u001b[0;34m.\u001b[0m\u001b[0mget\u001b[0m\u001b[0;34m(\u001b[0m\u001b[0;34m\"ensure_2d\"\u001b[0m\u001b[0;34m,\u001b[0m \u001b[0;32mTrue\u001b[0m\u001b[0;34m)\u001b[0m\u001b[0;34m:\u001b[0m\u001b[0;34m\u001b[0m\u001b[0;34m\u001b[0m\u001b[0m\n\u001b[0;32m--> 585\u001b[0;31m             \u001b[0mself\u001b[0m\u001b[0;34m.\u001b[0m\u001b[0m_check_n_features\u001b[0m\u001b[0;34m(\u001b[0m\u001b[0mX\u001b[0m\u001b[0;34m,\u001b[0m \u001b[0mreset\u001b[0m\u001b[0;34m=\u001b[0m\u001b[0mreset\u001b[0m\u001b[0;34m)\u001b[0m\u001b[0;34m\u001b[0m\u001b[0;34m\u001b[0m\u001b[0m\n\u001b[0m\u001b[1;32m    586\u001b[0m \u001b[0;34m\u001b[0m\u001b[0m\n\u001b[1;32m    587\u001b[0m         \u001b[0;32mreturn\u001b[0m \u001b[0mout\u001b[0m\u001b[0;34m\u001b[0m\u001b[0;34m\u001b[0m\u001b[0m\n",
            "\u001b[0;32m/usr/local/lib/python3.7/dist-packages/sklearn/base.py\u001b[0m in \u001b[0;36m_check_n_features\u001b[0;34m(self, X, reset)\u001b[0m\n\u001b[1;32m    399\u001b[0m         \u001b[0;32mif\u001b[0m \u001b[0mn_features\u001b[0m \u001b[0;34m!=\u001b[0m \u001b[0mself\u001b[0m\u001b[0;34m.\u001b[0m\u001b[0mn_features_in_\u001b[0m\u001b[0;34m:\u001b[0m\u001b[0;34m\u001b[0m\u001b[0;34m\u001b[0m\u001b[0m\n\u001b[1;32m    400\u001b[0m             raise ValueError(\n\u001b[0;32m--> 401\u001b[0;31m                 \u001b[0;34mf\"X has {n_features} features, but {self.__class__.__name__} \"\u001b[0m\u001b[0;34m\u001b[0m\u001b[0;34m\u001b[0m\u001b[0m\n\u001b[0m\u001b[1;32m    402\u001b[0m                 \u001b[0;34mf\"is expecting {self.n_features_in_} features as input.\"\u001b[0m\u001b[0;34m\u001b[0m\u001b[0;34m\u001b[0m\u001b[0m\n\u001b[1;32m    403\u001b[0m             )\n",
            "\u001b[0;31mValueError\u001b[0m: X has 16157 features, but SelectPercentile is expecting 16159 features as input."
          ]
        }
      ]
    },
    {
      "cell_type": "code",
      "source": [
        "y_true_positives = list(map(lambda it: 1 if it == 'positive' else 0, labels_for_testing))\n",
        "y_score_positives = probabilities[:, classes_list.index('positive')]"
      ],
      "metadata": {
        "id": "pcLna7ufDU_D"
      },
      "execution_count": null,
      "outputs": []
    },
    {
      "cell_type": "code",
      "source": [
        "fpr_positives, tpr_positives, _, = roc_curve(y_true_positives, y_score_positives)"
      ],
      "metadata": {
        "colab": {
          "base_uri": "https://localhost:8080/"
        },
        "id": "6ezMkWK3DXHL",
        "outputId": "c0fdd9cd-4e49-435a-d9ea-a1c32caf5bad"
      },
      "execution_count": null,
      "outputs": [
        {
          "output_type": "stream",
          "name": "stderr",
          "text": [
            "/usr/local/lib/python3.7/dist-packages/sklearn/metrics/_ranking.py:1001: UndefinedMetricWarning: No positive samples in y_true, true positive value should be meaningless\n",
            "  UndefinedMetricWarning,\n"
          ]
        }
      ]
    },
    {
      "cell_type": "code",
      "source": [
        "y_true_negatives = list(map(lambda it: 1 if it == 'negative' else 0, labels_for_testing))\n",
        "y_score_negatives = probabilities[:, classes_list.index('negative')]\n",
        "fpr_negatives, tpr_negatives, _, = roc_curve(y_true_negatives, y_score_negatives)"
      ],
      "metadata": {
        "colab": {
          "base_uri": "https://localhost:8080/"
        },
        "id": "oOrwFgVyDbez",
        "outputId": "3121d3b0-809e-4f25-db34-231430814382"
      },
      "execution_count": null,
      "outputs": [
        {
          "output_type": "stream",
          "name": "stderr",
          "text": [
            "/usr/local/lib/python3.7/dist-packages/sklearn/metrics/_ranking.py:1001: UndefinedMetricWarning: No positive samples in y_true, true positive value should be meaningless\n",
            "  UndefinedMetricWarning,\n"
          ]
        }
      ]
    },
    {
      "cell_type": "code",
      "source": [
        "y_true_neutrals = list(map(lambda it: 1 if it == 'neutral' else 0, labels_for_testing))\n",
        "y_score_neutrals = probabilities[:, classes_list.index('neutral')]\n",
        "fpr_neutrals, tpr_neutrals, _, = roc_curve(y_true_neutrals, y_score_neutrals)"
      ],
      "metadata": {
        "colab": {
          "base_uri": "https://localhost:8080/"
        },
        "id": "WwpRpBQADe8j",
        "outputId": "f4490b2f-fd57-4404-d0a5-e92b34ac8a29"
      },
      "execution_count": null,
      "outputs": [
        {
          "output_type": "stream",
          "name": "stderr",
          "text": [
            "/usr/local/lib/python3.7/dist-packages/sklearn/metrics/_ranking.py:992: UndefinedMetricWarning: No negative samples in y_true, false positive value should be meaningless\n",
            "  UndefinedMetricWarning,\n"
          ]
        }
      ]
    },
    {
      "cell_type": "code",
      "source": [
        "import matplotlib.pyplot as plt\n",
        "plt.figure(1)\n",
        "plt.plot([0, 1], [0, 1], 'k--')\n",
        "plt.plot(fpr_positives, tpr_positives, label='Positive Sentiment')\n",
        "plt.plot(fpr_negatives, tpr_negatives, label='Negative Sentiment')\n",
        "plt.plot(fpr_neutrals, tpr_neutrals, label='Neutral Sentiment')\n",
        "plt.xlabel('False positive rate')\n",
        "plt.ylabel('True positive rate')\n",
        "plt.title('ROC curve')\n",
        "plt.legend(loc='best')\n",
        "plt.show()"
      ],
      "metadata": {
        "colab": {
          "base_uri": "https://localhost:8080/",
          "height": 295
        },
        "id": "Ils2vgkHDlCz",
        "outputId": "113cc9d2-795b-4bbf-9bce-8c09b16d246f"
      },
      "execution_count": null,
      "outputs": [
        {
          "output_type": "display_data",
          "data": {
            "text/plain": [
              "<Figure size 432x288 with 1 Axes>"
            ],
            "image/png": "[encoded data removed]"
          },
          "metadata": {
            "needs_background": "light"
          }
        }
      ]
    }
  ]
}
